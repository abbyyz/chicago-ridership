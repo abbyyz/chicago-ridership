{
 "cells": [
  {
   "cell_type": "code",
   "execution_count": 3,
   "id": "81a191e8",
   "metadata": {},
   "outputs": [],
   "source": [
    "#@title Code - Load dependencies\n",
    "\n",
    "# data\n",
    "import numpy as np\n",
    "import pandas as pd\n",
    "\n",
    "# machine learning\n",
    "import keras\n",
    "import ml_edu.experiment\n",
    "\n",
    "# data visualization\n",
    "import plotly.express as px"
   ]
  },
  {
   "cell_type": "code",
   "execution_count": null,
   "id": "3ba8bbf0",
   "metadata": {},
   "outputs": [
    {
     "name": "stderr",
     "output_type": "stream",
     "text": [
      "/var/folders/6f/s14ngf096w3ctv98g3j3n_gr0000gn/T/ipykernel_1031/1195926788.py:29: FutureWarning: A value is trying to be set on a copy of a DataFrame or Series through chained assignment using an inplace method.\n",
      "The behavior will change in pandas 3.0. This inplace method will never work because the intermediate object on which we are setting values always behaves as a copy.\n",
      "\n",
      "For example, when doing 'df[col].method(value, inplace=True)', try using 'df.method({col: value}, inplace=True)' or df[col] = df[col].method(value) instead, to perform the operation inplace on the original object.\n",
      "\n",
      "\n",
      "  df['holiday'].fillna(0, inplace=True)\n"
     ]
    }
   ],
   "source": [
    "df = pd.read_csv('dailyboardingtotals.csv')\n",
    "df['service_date'] = pd.to_datetime(df['service_date'])\n",
    "df['prev_day_rides'] = df['total_rides'].shift(1)\n",
    "df['prev_week_rides'] = df['total_rides'].shift(7)\n",
    "df['one_year_ago_rides'] = df['total_rides'].shift(364)\n",
    "\n",
    "# Ensure weather['datetime'] is datetime and set as index\n",
    "weather = pd.read_csv('chicagoweather.csv')\n",
    "weather['datetime'] = pd.to_datetime(weather['datetime'])\n",
    "weather.set_index('datetime', inplace=True)\n",
    "\n",
    "weather['TMIN_C'] = (weather['tempmin'] - 32) * 5.0/9.0\n",
    "weather['TMAX_C'] = (weather['tempmax'] - 32) * 5.0/9.0\n",
    "weather['Temp (C)'] = 0.5 * (weather['TMIN_C'] + weather['TMAX_C'])\n",
    "weather['PRCP_mm'] = weather['precip'] * 25.4\n",
    "weather['dry day'] = (weather['PRCP_mm'] == 0).astype(int)\n",
    "\n",
    "df = df.join(weather[['PRCP_mm', 'Temp (C)', 'dry day']])\n",
    "df['annual'] = (df['service_date'] - df['service_date'].min()).dt.days / 365.\n",
    "\n",
    "days = ['Mon', 'Tue', 'Wed', 'Thu', 'Fri', 'Sat', 'Sun']\n",
    "for i in range(7):\n",
    "    df[days[i]] = (df['service_date'].dt.dayofweek == i).astype(float)\n",
    "\n",
    "from pandas.tseries.holiday import USFederalHolidayCalendar\n",
    "cal = USFederalHolidayCalendar()\n",
    "holidays = cal.holidays(df['service_date'].min(), df['service_date'].max())\n",
    "df = df.join(pd.Series(1, index=holidays, name='holiday'))\n",
    "df['holiday'].fillna(0, inplace=True)\n",
    "\n",
    "\n",
    "df_base = df.loc[(df.service_date >= pd.to_datetime('2022-09-01')) & (df.service_date < pd.to_datetime('2025-01-01'))]\n",
    "weather_base = weather.loc[(weather.index >= pd.to_datetime('2022-09-01')) & (weather.index < pd.to_datetime('2025-01-01'))]\n"
   ]
  },
  {
   "cell_type": "code",
   "execution_count": 18,
   "id": "e4290a4b",
   "metadata": {},
   "outputs": [],
   "source": [
    "merged_base = pd.merge(df_base, weather_base, left_on='service_date', right_index=True)\n",
    "merged_base.head()\n",
    "# order by service_date\n",
    "merged_base.sort_values(by='service_date', inplace=True)\n",
    "#merged_base"
   ]
  },
  {
   "cell_type": "code",
   "execution_count": 29,
   "id": "201f245e",
   "metadata": {},
   "outputs": [
    {
     "data": {
      "text/html": [
       "<div>\n",
       "<style scoped>\n",
       "    .dataframe tbody tr th:only-of-type {\n",
       "        vertical-align: middle;\n",
       "    }\n",
       "\n",
       "    .dataframe tbody tr th {\n",
       "        vertical-align: top;\n",
       "    }\n",
       "\n",
       "    .dataframe thead th {\n",
       "        text-align: right;\n",
       "    }\n",
       "</style>\n",
       "<table border=\"1\" class=\"dataframe\">\n",
       "  <thead>\n",
       "    <tr style=\"text-align: right;\">\n",
       "      <th></th>\n",
       "      <th>total_rides</th>\n",
       "      <th>prev_day_rides</th>\n",
       "      <th>prev_week_rides</th>\n",
       "      <th>one_year_ago_rides</th>\n",
       "      <th>Mon</th>\n",
       "      <th>Tue</th>\n",
       "      <th>Wed</th>\n",
       "      <th>Thu</th>\n",
       "      <th>Fri</th>\n",
       "      <th>Sat</th>\n",
       "      <th>Sun</th>\n",
       "      <th>holiday</th>\n",
       "      <th>PRCP_mm_y</th>\n",
       "      <th>dry day_y</th>\n",
       "      <th>Temp (C)_y</th>\n",
       "      <th>annual</th>\n",
       "    </tr>\n",
       "  </thead>\n",
       "  <tbody>\n",
       "    <tr>\n",
       "      <th>4929</th>\n",
       "      <td>897822</td>\n",
       "      <td>1440414.0</td>\n",
       "      <td>533180.0</td>\n",
       "      <td>576978.0</td>\n",
       "      <td>0.0</td>\n",
       "      <td>0.0</td>\n",
       "      <td>0.0</td>\n",
       "      <td>1.0</td>\n",
       "      <td>0.0</td>\n",
       "      <td>0.0</td>\n",
       "      <td>0.0</td>\n",
       "      <td>0.0</td>\n",
       "      <td>0.0000</td>\n",
       "      <td>1</td>\n",
       "      <td>26.027778</td>\n",
       "      <td>21.679452</td>\n",
       "    </tr>\n",
       "    <tr>\n",
       "      <th>7722</th>\n",
       "      <td>868391</td>\n",
       "      <td>1076132.0</td>\n",
       "      <td>894924.0</td>\n",
       "      <td>1031780.0</td>\n",
       "      <td>0.0</td>\n",
       "      <td>0.0</td>\n",
       "      <td>0.0</td>\n",
       "      <td>0.0</td>\n",
       "      <td>1.0</td>\n",
       "      <td>0.0</td>\n",
       "      <td>0.0</td>\n",
       "      <td>0.0</td>\n",
       "      <td>0.0000</td>\n",
       "      <td>1</td>\n",
       "      <td>26.194444</td>\n",
       "      <td>21.682192</td>\n",
       "    </tr>\n",
       "    <tr>\n",
       "      <th>4420</th>\n",
       "      <td>620321</td>\n",
       "      <td>1509331.0</td>\n",
       "      <td>1536825.0</td>\n",
       "      <td>1696782.0</td>\n",
       "      <td>0.0</td>\n",
       "      <td>0.0</td>\n",
       "      <td>0.0</td>\n",
       "      <td>0.0</td>\n",
       "      <td>0.0</td>\n",
       "      <td>1.0</td>\n",
       "      <td>0.0</td>\n",
       "      <td>0.0</td>\n",
       "      <td>0.0000</td>\n",
       "      <td>1</td>\n",
       "      <td>26.555556</td>\n",
       "      <td>21.684932</td>\n",
       "    </tr>\n",
       "    <tr>\n",
       "      <th>3056</th>\n",
       "      <td>456791</td>\n",
       "      <td>1617000.0</td>\n",
       "      <td>923955.0</td>\n",
       "      <td>1098335.0</td>\n",
       "      <td>0.0</td>\n",
       "      <td>0.0</td>\n",
       "      <td>0.0</td>\n",
       "      <td>0.0</td>\n",
       "      <td>0.0</td>\n",
       "      <td>0.0</td>\n",
       "      <td>1.0</td>\n",
       "      <td>0.0</td>\n",
       "      <td>2.6670</td>\n",
       "      <td>0</td>\n",
       "      <td>22.277778</td>\n",
       "      <td>21.687671</td>\n",
       "    </tr>\n",
       "    <tr>\n",
       "      <th>1456</th>\n",
       "      <td>417557</td>\n",
       "      <td>1417033.0</td>\n",
       "      <td>563922.0</td>\n",
       "      <td>432448.0</td>\n",
       "      <td>1.0</td>\n",
       "      <td>0.0</td>\n",
       "      <td>0.0</td>\n",
       "      <td>0.0</td>\n",
       "      <td>0.0</td>\n",
       "      <td>0.0</td>\n",
       "      <td>0.0</td>\n",
       "      <td>0.0</td>\n",
       "      <td>0.2032</td>\n",
       "      <td>0</td>\n",
       "      <td>21.222222</td>\n",
       "      <td>21.690411</td>\n",
       "    </tr>\n",
       "    <tr>\n",
       "      <th>...</th>\n",
       "      <td>...</td>\n",
       "      <td>...</td>\n",
       "      <td>...</td>\n",
       "      <td>...</td>\n",
       "      <td>...</td>\n",
       "      <td>...</td>\n",
       "      <td>...</td>\n",
       "      <td>...</td>\n",
       "      <td>...</td>\n",
       "      <td>...</td>\n",
       "      <td>...</td>\n",
       "      <td>...</td>\n",
       "      <td>...</td>\n",
       "      <td>...</td>\n",
       "      <td>...</td>\n",
       "      <td>...</td>\n",
       "    </tr>\n",
       "    <tr>\n",
       "      <th>5122</th>\n",
       "      <td>903329</td>\n",
       "      <td>984441.0</td>\n",
       "      <td>723293.0</td>\n",
       "      <td>1464776.0</td>\n",
       "      <td>0.0</td>\n",
       "      <td>0.0</td>\n",
       "      <td>1.0</td>\n",
       "      <td>0.0</td>\n",
       "      <td>0.0</td>\n",
       "      <td>0.0</td>\n",
       "      <td>0.0</td>\n",
       "      <td>0.0</td>\n",
       "      <td>0.0000</td>\n",
       "      <td>1</td>\n",
       "      <td>2.972222</td>\n",
       "      <td>22.213699</td>\n",
       "    </tr>\n",
       "    <tr>\n",
       "      <th>2182</th>\n",
       "      <td>860110</td>\n",
       "      <td>1818067.0</td>\n",
       "      <td>1444630.0</td>\n",
       "      <td>689228.0</td>\n",
       "      <td>0.0</td>\n",
       "      <td>0.0</td>\n",
       "      <td>0.0</td>\n",
       "      <td>1.0</td>\n",
       "      <td>0.0</td>\n",
       "      <td>0.0</td>\n",
       "      <td>0.0</td>\n",
       "      <td>0.0</td>\n",
       "      <td>2.2098</td>\n",
       "      <td>0</td>\n",
       "      <td>7.305556</td>\n",
       "      <td>22.216438</td>\n",
       "    </tr>\n",
       "    <tr>\n",
       "      <th>3297</th>\n",
       "      <td>754616</td>\n",
       "      <td>1763599.0</td>\n",
       "      <td>962034.0</td>\n",
       "      <td>231683.0</td>\n",
       "      <td>0.0</td>\n",
       "      <td>0.0</td>\n",
       "      <td>0.0</td>\n",
       "      <td>0.0</td>\n",
       "      <td>1.0</td>\n",
       "      <td>0.0</td>\n",
       "      <td>0.0</td>\n",
       "      <td>0.0</td>\n",
       "      <td>3.8862</td>\n",
       "      <td>0</td>\n",
       "      <td>3.333333</td>\n",
       "      <td>22.219178</td>\n",
       "    </tr>\n",
       "    <tr>\n",
       "      <th>1725</th>\n",
       "      <td>483920</td>\n",
       "      <td>1708990.0</td>\n",
       "      <td>1553365.0</td>\n",
       "      <td>250502.0</td>\n",
       "      <td>0.0</td>\n",
       "      <td>0.0</td>\n",
       "      <td>0.0</td>\n",
       "      <td>0.0</td>\n",
       "      <td>0.0</td>\n",
       "      <td>1.0</td>\n",
       "      <td>0.0</td>\n",
       "      <td>0.0</td>\n",
       "      <td>0.0000</td>\n",
       "      <td>1</td>\n",
       "      <td>-7.138889</td>\n",
       "      <td>22.221918</td>\n",
       "    </tr>\n",
       "    <tr>\n",
       "      <th>3843</th>\n",
       "      <td>396602</td>\n",
       "      <td>399491.0</td>\n",
       "      <td>755837.0</td>\n",
       "      <td>1651875.0</td>\n",
       "      <td>0.0</td>\n",
       "      <td>0.0</td>\n",
       "      <td>0.0</td>\n",
       "      <td>0.0</td>\n",
       "      <td>0.0</td>\n",
       "      <td>0.0</td>\n",
       "      <td>1.0</td>\n",
       "      <td>0.0</td>\n",
       "      <td>0.0000</td>\n",
       "      <td>1</td>\n",
       "      <td>-1.388889</td>\n",
       "      <td>22.224658</td>\n",
       "    </tr>\n",
       "  </tbody>\n",
       "</table>\n",
       "<p>200 rows × 16 columns</p>\n",
       "</div>"
      ],
      "text/plain": [
       "      total_rides  prev_day_rides  prev_week_rides  one_year_ago_rides  Mon  \\\n",
       "4929       897822       1440414.0         533180.0            576978.0  0.0   \n",
       "7722       868391       1076132.0         894924.0           1031780.0  0.0   \n",
       "4420       620321       1509331.0        1536825.0           1696782.0  0.0   \n",
       "3056       456791       1617000.0         923955.0           1098335.0  0.0   \n",
       "1456       417557       1417033.0         563922.0            432448.0  1.0   \n",
       "...           ...             ...              ...                 ...  ...   \n",
       "5122       903329        984441.0         723293.0           1464776.0  0.0   \n",
       "2182       860110       1818067.0        1444630.0            689228.0  0.0   \n",
       "3297       754616       1763599.0         962034.0            231683.0  0.0   \n",
       "1725       483920       1708990.0        1553365.0            250502.0  0.0   \n",
       "3843       396602        399491.0         755837.0           1651875.0  0.0   \n",
       "\n",
       "      Tue  Wed  Thu  Fri  Sat  Sun  holiday  PRCP_mm_y  dry day_y  Temp (C)_y  \\\n",
       "4929  0.0  0.0  1.0  0.0  0.0  0.0      0.0     0.0000          1   26.027778   \n",
       "7722  0.0  0.0  0.0  1.0  0.0  0.0      0.0     0.0000          1   26.194444   \n",
       "4420  0.0  0.0  0.0  0.0  1.0  0.0      0.0     0.0000          1   26.555556   \n",
       "3056  0.0  0.0  0.0  0.0  0.0  1.0      0.0     2.6670          0   22.277778   \n",
       "1456  0.0  0.0  0.0  0.0  0.0  0.0      0.0     0.2032          0   21.222222   \n",
       "...   ...  ...  ...  ...  ...  ...      ...        ...        ...         ...   \n",
       "5122  0.0  1.0  0.0  0.0  0.0  0.0      0.0     0.0000          1    2.972222   \n",
       "2182  0.0  0.0  1.0  0.0  0.0  0.0      0.0     2.2098          0    7.305556   \n",
       "3297  0.0  0.0  0.0  1.0  0.0  0.0      0.0     3.8862          0    3.333333   \n",
       "1725  0.0  0.0  0.0  0.0  1.0  0.0      0.0     0.0000          1   -7.138889   \n",
       "3843  0.0  0.0  0.0  0.0  0.0  1.0      0.0     0.0000          1   -1.388889   \n",
       "\n",
       "         annual  \n",
       "4929  21.679452  \n",
       "7722  21.682192  \n",
       "4420  21.684932  \n",
       "3056  21.687671  \n",
       "1456  21.690411  \n",
       "...         ...  \n",
       "5122  22.213699  \n",
       "2182  22.216438  \n",
       "3297  22.219178  \n",
       "1725  22.221918  \n",
       "3843  22.224658  \n",
       "\n",
       "[200 rows x 16 columns]"
      ]
     },
     "execution_count": 29,
     "metadata": {},
     "output_type": "execute_result"
    }
   ],
   "source": [
    "allCol = ['total_rides', 'prev_day_rides', 'prev_week_rides', 'one_year_ago_rides',\n",
    "                'Mon', 'Tue', 'Wed', 'Thu', 'Fri', 'Sat', 'Sun', 'holiday',\n",
    "                'PRCP_mm_y', 'dry day_y', 'Temp (C)_y', 'annual']\n",
    "training_df = merged_base.loc[merged_base.service_date < '2024-01-01', allCol]\n",
    "training_df.head(200)"
   ]
  },
  {
   "cell_type": "code",
   "execution_count": 30,
   "id": "bb33c80e",
   "metadata": {},
   "outputs": [
    {
     "name": "stdout",
     "output_type": "stream",
     "text": [
      "Total number of rows: 487\n",
      "\n",
      "\n"
     ]
    },
    {
     "data": {
      "text/html": [
       "<div>\n",
       "<style scoped>\n",
       "    .dataframe tbody tr th:only-of-type {\n",
       "        vertical-align: middle;\n",
       "    }\n",
       "\n",
       "    .dataframe tbody tr th {\n",
       "        vertical-align: top;\n",
       "    }\n",
       "\n",
       "    .dataframe thead th {\n",
       "        text-align: right;\n",
       "    }\n",
       "</style>\n",
       "<table border=\"1\" class=\"dataframe\">\n",
       "  <thead>\n",
       "    <tr style=\"text-align: right;\">\n",
       "      <th></th>\n",
       "      <th>total_rides</th>\n",
       "      <th>prev_day_rides</th>\n",
       "      <th>prev_week_rides</th>\n",
       "      <th>one_year_ago_rides</th>\n",
       "      <th>Mon</th>\n",
       "      <th>Tue</th>\n",
       "      <th>Wed</th>\n",
       "      <th>Thu</th>\n",
       "      <th>Fri</th>\n",
       "      <th>Sat</th>\n",
       "      <th>Sun</th>\n",
       "      <th>holiday</th>\n",
       "      <th>PRCP_mm_y</th>\n",
       "      <th>dry day_y</th>\n",
       "      <th>Temp (C)_y</th>\n",
       "      <th>annual</th>\n",
       "    </tr>\n",
       "  </thead>\n",
       "  <tbody>\n",
       "    <tr>\n",
       "      <th>count</th>\n",
       "      <td>4.870000e+02</td>\n",
       "      <td>4.870000e+02</td>\n",
       "      <td>4.860000e+02</td>\n",
       "      <td>4.700000e+02</td>\n",
       "      <td>487.000000</td>\n",
       "      <td>487.000000</td>\n",
       "      <td>487.000000</td>\n",
       "      <td>487.000000</td>\n",
       "      <td>487.000000</td>\n",
       "      <td>487.000000</td>\n",
       "      <td>487.000000</td>\n",
       "      <td>487.0</td>\n",
       "      <td>487.0000</td>\n",
       "      <td>487.000000</td>\n",
       "      <td>487.000000</td>\n",
       "      <td>487.000000</td>\n",
       "    </tr>\n",
       "    <tr>\n",
       "      <th>mean</th>\n",
       "      <td>7.515091e+05</td>\n",
       "      <td>1.248121e+06</td>\n",
       "      <td>1.198449e+06</td>\n",
       "      <td>1.181312e+06</td>\n",
       "      <td>0.141684</td>\n",
       "      <td>0.141684</td>\n",
       "      <td>0.141684</td>\n",
       "      <td>0.143737</td>\n",
       "      <td>0.143737</td>\n",
       "      <td>0.143737</td>\n",
       "      <td>0.143737</td>\n",
       "      <td>0.0</td>\n",
       "      <td>2.0308</td>\n",
       "      <td>0.624230</td>\n",
       "      <td>11.756331</td>\n",
       "      <td>22.345205</td>\n",
       "    </tr>\n",
       "    <tr>\n",
       "      <th>std</th>\n",
       "      <td>1.954619e+05</td>\n",
       "      <td>4.527525e+05</td>\n",
       "      <td>4.691886e+05</td>\n",
       "      <td>4.618329e+05</td>\n",
       "      <td>0.349084</td>\n",
       "      <td>0.349084</td>\n",
       "      <td>0.349084</td>\n",
       "      <td>0.351184</td>\n",
       "      <td>0.351184</td>\n",
       "      <td>0.351184</td>\n",
       "      <td>0.351184</td>\n",
       "      <td>0.0</td>\n",
       "      <td>6.2407</td>\n",
       "      <td>0.484819</td>\n",
       "      <td>9.771275</td>\n",
       "      <td>0.385559</td>\n",
       "    </tr>\n",
       "    <tr>\n",
       "      <th>min</th>\n",
       "      <td>1.405540e+05</td>\n",
       "      <td>2.328790e+05</td>\n",
       "      <td>1.744480e+05</td>\n",
       "      <td>1.601490e+05</td>\n",
       "      <td>0.000000</td>\n",
       "      <td>0.000000</td>\n",
       "      <td>0.000000</td>\n",
       "      <td>0.000000</td>\n",
       "      <td>0.000000</td>\n",
       "      <td>0.000000</td>\n",
       "      <td>0.000000</td>\n",
       "      <td>0.0</td>\n",
       "      <td>0.0000</td>\n",
       "      <td>0.000000</td>\n",
       "      <td>-20.416667</td>\n",
       "      <td>21.679452</td>\n",
       "    </tr>\n",
       "    <tr>\n",
       "      <th>25%</th>\n",
       "      <td>6.064550e+05</td>\n",
       "      <td>8.332030e+05</td>\n",
       "      <td>7.968402e+05</td>\n",
       "      <td>7.709215e+05</td>\n",
       "      <td>0.000000</td>\n",
       "      <td>0.000000</td>\n",
       "      <td>0.000000</td>\n",
       "      <td>0.000000</td>\n",
       "      <td>0.000000</td>\n",
       "      <td>0.000000</td>\n",
       "      <td>0.000000</td>\n",
       "      <td>0.0</td>\n",
       "      <td>0.0000</td>\n",
       "      <td>0.000000</td>\n",
       "      <td>4.222222</td>\n",
       "      <td>22.012329</td>\n",
       "    </tr>\n",
       "    <tr>\n",
       "      <th>50%</th>\n",
       "      <td>8.148500e+05</td>\n",
       "      <td>1.477390e+06</td>\n",
       "      <td>1.380450e+06</td>\n",
       "      <td>1.262320e+06</td>\n",
       "      <td>0.000000</td>\n",
       "      <td>0.000000</td>\n",
       "      <td>0.000000</td>\n",
       "      <td>0.000000</td>\n",
       "      <td>0.000000</td>\n",
       "      <td>0.000000</td>\n",
       "      <td>0.000000</td>\n",
       "      <td>0.0</td>\n",
       "      <td>0.0000</td>\n",
       "      <td>1.000000</td>\n",
       "      <td>11.805556</td>\n",
       "      <td>22.345205</td>\n",
       "    </tr>\n",
       "    <tr>\n",
       "      <th>75%</th>\n",
       "      <td>9.030565e+05</td>\n",
       "      <td>1.632652e+06</td>\n",
       "      <td>1.622686e+06</td>\n",
       "      <td>1.610908e+06</td>\n",
       "      <td>0.000000</td>\n",
       "      <td>0.000000</td>\n",
       "      <td>0.000000</td>\n",
       "      <td>0.000000</td>\n",
       "      <td>0.000000</td>\n",
       "      <td>0.000000</td>\n",
       "      <td>0.000000</td>\n",
       "      <td>0.0</td>\n",
       "      <td>0.8128</td>\n",
       "      <td>1.000000</td>\n",
       "      <td>20.708333</td>\n",
       "      <td>22.678082</td>\n",
       "    </tr>\n",
       "    <tr>\n",
       "      <th>max</th>\n",
       "      <td>1.056410e+06</td>\n",
       "      <td>1.870984e+06</td>\n",
       "      <td>1.938738e+06</td>\n",
       "      <td>1.911656e+06</td>\n",
       "      <td>1.000000</td>\n",
       "      <td>1.000000</td>\n",
       "      <td>1.000000</td>\n",
       "      <td>1.000000</td>\n",
       "      <td>1.000000</td>\n",
       "      <td>1.000000</td>\n",
       "      <td>1.000000</td>\n",
       "      <td>0.0</td>\n",
       "      <td>83.2612</td>\n",
       "      <td>1.000000</td>\n",
       "      <td>31.611111</td>\n",
       "      <td>23.010959</td>\n",
       "    </tr>\n",
       "  </tbody>\n",
       "</table>\n",
       "</div>"
      ],
      "text/plain": [
       "        total_rides  prev_day_rides  prev_week_rides  one_year_ago_rides  \\\n",
       "count  4.870000e+02    4.870000e+02     4.860000e+02        4.700000e+02   \n",
       "mean   7.515091e+05    1.248121e+06     1.198449e+06        1.181312e+06   \n",
       "std    1.954619e+05    4.527525e+05     4.691886e+05        4.618329e+05   \n",
       "min    1.405540e+05    2.328790e+05     1.744480e+05        1.601490e+05   \n",
       "25%    6.064550e+05    8.332030e+05     7.968402e+05        7.709215e+05   \n",
       "50%    8.148500e+05    1.477390e+06     1.380450e+06        1.262320e+06   \n",
       "75%    9.030565e+05    1.632652e+06     1.622686e+06        1.610908e+06   \n",
       "max    1.056410e+06    1.870984e+06     1.938738e+06        1.911656e+06   \n",
       "\n",
       "              Mon         Tue         Wed         Thu         Fri         Sat  \\\n",
       "count  487.000000  487.000000  487.000000  487.000000  487.000000  487.000000   \n",
       "mean     0.141684    0.141684    0.141684    0.143737    0.143737    0.143737   \n",
       "std      0.349084    0.349084    0.349084    0.351184    0.351184    0.351184   \n",
       "min      0.000000    0.000000    0.000000    0.000000    0.000000    0.000000   \n",
       "25%      0.000000    0.000000    0.000000    0.000000    0.000000    0.000000   \n",
       "50%      0.000000    0.000000    0.000000    0.000000    0.000000    0.000000   \n",
       "75%      0.000000    0.000000    0.000000    0.000000    0.000000    0.000000   \n",
       "max      1.000000    1.000000    1.000000    1.000000    1.000000    1.000000   \n",
       "\n",
       "              Sun  holiday  PRCP_mm_y   dry day_y  Temp (C)_y      annual  \n",
       "count  487.000000    487.0   487.0000  487.000000  487.000000  487.000000  \n",
       "mean     0.143737      0.0     2.0308    0.624230   11.756331   22.345205  \n",
       "std      0.351184      0.0     6.2407    0.484819    9.771275    0.385559  \n",
       "min      0.000000      0.0     0.0000    0.000000  -20.416667   21.679452  \n",
       "25%      0.000000      0.0     0.0000    0.000000    4.222222   22.012329  \n",
       "50%      0.000000      0.0     0.0000    1.000000   11.805556   22.345205  \n",
       "75%      0.000000      0.0     0.8128    1.000000   20.708333   22.678082  \n",
       "max      1.000000      0.0    83.2612    1.000000   31.611111   23.010959  "
      ]
     },
     "execution_count": 30,
     "metadata": {},
     "output_type": "execute_result"
    }
   ],
   "source": [
    "print('Total number of rows: {0}\\n\\n'.format(len(training_df.index)))\n",
    "training_df.describe(include='all')"
   ]
  },
  {
   "cell_type": "code",
   "execution_count": 31,
   "id": "4a4abc05",
   "metadata": {},
   "outputs": [
    {
     "data": {
      "text/html": [
       "<div>\n",
       "<style scoped>\n",
       "    .dataframe tbody tr th:only-of-type {\n",
       "        vertical-align: middle;\n",
       "    }\n",
       "\n",
       "    .dataframe tbody tr th {\n",
       "        vertical-align: top;\n",
       "    }\n",
       "\n",
       "    .dataframe thead th {\n",
       "        text-align: right;\n",
       "    }\n",
       "</style>\n",
       "<table border=\"1\" class=\"dataframe\">\n",
       "  <thead>\n",
       "    <tr style=\"text-align: right;\">\n",
       "      <th></th>\n",
       "      <th>total_rides</th>\n",
       "      <th>prev_day_rides</th>\n",
       "      <th>prev_week_rides</th>\n",
       "      <th>one_year_ago_rides</th>\n",
       "      <th>Mon</th>\n",
       "      <th>Tue</th>\n",
       "      <th>Wed</th>\n",
       "      <th>Thu</th>\n",
       "      <th>Fri</th>\n",
       "      <th>Sat</th>\n",
       "      <th>Sun</th>\n",
       "      <th>holiday</th>\n",
       "      <th>PRCP_mm_y</th>\n",
       "      <th>dry day_y</th>\n",
       "      <th>Temp (C)_y</th>\n",
       "      <th>annual</th>\n",
       "    </tr>\n",
       "  </thead>\n",
       "  <tbody>\n",
       "    <tr>\n",
       "      <th>total_rides</th>\n",
       "      <td>1.000000</td>\n",
       "      <td>-0.001845</td>\n",
       "      <td>0.008361</td>\n",
       "      <td>0.039629</td>\n",
       "      <td>0.040909</td>\n",
       "      <td>2.665103e-01</td>\n",
       "      <td>0.285975</td>\n",
       "      <td>0.263789</td>\n",
       "      <td>0.138451</td>\n",
       "      <td>-0.340558</td>\n",
       "      <td>-0.651529</td>\n",
       "      <td>NaN</td>\n",
       "      <td>-0.090224</td>\n",
       "      <td>0.056488</td>\n",
       "      <td>0.295261</td>\n",
       "      <td>1.765009e-01</td>\n",
       "    </tr>\n",
       "    <tr>\n",
       "      <th>prev_day_rides</th>\n",
       "      <td>-0.001845</td>\n",
       "      <td>1.000000</td>\n",
       "      <td>-0.005308</td>\n",
       "      <td>0.091675</td>\n",
       "      <td>0.012350</td>\n",
       "      <td>5.150554e-02</td>\n",
       "      <td>-0.005629</td>\n",
       "      <td>0.008183</td>\n",
       "      <td>0.026590</td>\n",
       "      <td>-0.078871</td>\n",
       "      <td>-0.013779</td>\n",
       "      <td>NaN</td>\n",
       "      <td>0.059822</td>\n",
       "      <td>-0.038666</td>\n",
       "      <td>-0.063476</td>\n",
       "      <td>-7.029614e-02</td>\n",
       "    </tr>\n",
       "    <tr>\n",
       "      <th>prev_week_rides</th>\n",
       "      <td>0.008361</td>\n",
       "      <td>-0.005308</td>\n",
       "      <td>1.000000</td>\n",
       "      <td>-0.037830</td>\n",
       "      <td>-0.001749</td>\n",
       "      <td>9.144538e-03</td>\n",
       "      <td>-0.058792</td>\n",
       "      <td>0.057561</td>\n",
       "      <td>0.009597</td>\n",
       "      <td>-0.002412</td>\n",
       "      <td>-0.013601</td>\n",
       "      <td>NaN</td>\n",
       "      <td>0.026697</td>\n",
       "      <td>-0.008559</td>\n",
       "      <td>-0.054097</td>\n",
       "      <td>1.018758e-02</td>\n",
       "    </tr>\n",
       "    <tr>\n",
       "      <th>one_year_ago_rides</th>\n",
       "      <td>0.039629</td>\n",
       "      <td>0.091675</td>\n",
       "      <td>-0.037830</td>\n",
       "      <td>1.000000</td>\n",
       "      <td>-0.043041</td>\n",
       "      <td>7.259650e-02</td>\n",
       "      <td>0.042584</td>\n",
       "      <td>-0.102062</td>\n",
       "      <td>0.062363</td>\n",
       "      <td>-0.063217</td>\n",
       "      <td>0.032267</td>\n",
       "      <td>NaN</td>\n",
       "      <td>-0.034864</td>\n",
       "      <td>-0.005515</td>\n",
       "      <td>0.048123</td>\n",
       "      <td>-2.123296e-02</td>\n",
       "    </tr>\n",
       "    <tr>\n",
       "      <th>Mon</th>\n",
       "      <td>0.040909</td>\n",
       "      <td>0.012350</td>\n",
       "      <td>-0.001749</td>\n",
       "      <td>-0.043041</td>\n",
       "      <td>1.000000</td>\n",
       "      <td>-1.650718e-01</td>\n",
       "      <td>-0.165072</td>\n",
       "      <td>-0.166463</td>\n",
       "      <td>-0.166463</td>\n",
       "      <td>-0.166463</td>\n",
       "      <td>-0.166463</td>\n",
       "      <td>NaN</td>\n",
       "      <td>-0.020074</td>\n",
       "      <td>0.035600</td>\n",
       "      <td>-0.016333</td>\n",
       "      <td>-2.890008e-03</td>\n",
       "    </tr>\n",
       "    <tr>\n",
       "      <th>Tue</th>\n",
       "      <td>0.266510</td>\n",
       "      <td>0.051506</td>\n",
       "      <td>0.009145</td>\n",
       "      <td>0.072596</td>\n",
       "      <td>-0.165072</td>\n",
       "      <td>1.000000e+00</td>\n",
       "      <td>-0.165072</td>\n",
       "      <td>-0.166463</td>\n",
       "      <td>-0.166463</td>\n",
       "      <td>-0.166463</td>\n",
       "      <td>-0.166463</td>\n",
       "      <td>NaN</td>\n",
       "      <td>0.016991</td>\n",
       "      <td>0.047757</td>\n",
       "      <td>0.006523</td>\n",
       "      <td>-1.912164e-16</td>\n",
       "    </tr>\n",
       "    <tr>\n",
       "      <th>Wed</th>\n",
       "      <td>0.285975</td>\n",
       "      <td>-0.005629</td>\n",
       "      <td>-0.058792</td>\n",
       "      <td>0.042584</td>\n",
       "      <td>-0.165072</td>\n",
       "      <td>-1.650718e-01</td>\n",
       "      <td>1.000000</td>\n",
       "      <td>-0.166463</td>\n",
       "      <td>-0.166463</td>\n",
       "      <td>-0.166463</td>\n",
       "      <td>-0.166463</td>\n",
       "      <td>NaN</td>\n",
       "      <td>0.027019</td>\n",
       "      <td>0.011284</td>\n",
       "      <td>0.016292</td>\n",
       "      <td>2.890008e-03</td>\n",
       "    </tr>\n",
       "    <tr>\n",
       "      <th>Thu</th>\n",
       "      <td>0.263789</td>\n",
       "      <td>0.008183</td>\n",
       "      <td>0.057561</td>\n",
       "      <td>-0.102062</td>\n",
       "      <td>-0.166463</td>\n",
       "      <td>-1.664629e-01</td>\n",
       "      <td>-0.166463</td>\n",
       "      <td>1.000000</td>\n",
       "      <td>-0.167866</td>\n",
       "      <td>-0.167866</td>\n",
       "      <td>-0.167866</td>\n",
       "      <td>NaN</td>\n",
       "      <td>-0.032949</td>\n",
       "      <td>-0.008412</td>\n",
       "      <td>0.038043</td>\n",
       "      <td>-4.371544e-03</td>\n",
       "    </tr>\n",
       "    <tr>\n",
       "      <th>Fri</th>\n",
       "      <td>0.138451</td>\n",
       "      <td>0.026590</td>\n",
       "      <td>0.009597</td>\n",
       "      <td>0.062363</td>\n",
       "      <td>-0.166463</td>\n",
       "      <td>-1.664629e-01</td>\n",
       "      <td>-0.166463</td>\n",
       "      <td>-0.167866</td>\n",
       "      <td>1.000000</td>\n",
       "      <td>-0.167866</td>\n",
       "      <td>-0.167866</td>\n",
       "      <td>NaN</td>\n",
       "      <td>-0.031590</td>\n",
       "      <td>-0.056753</td>\n",
       "      <td>-0.001182</td>\n",
       "      <td>-1.457181e-03</td>\n",
       "    </tr>\n",
       "    <tr>\n",
       "      <th>Sat</th>\n",
       "      <td>-0.340558</td>\n",
       "      <td>-0.078871</td>\n",
       "      <td>-0.002412</td>\n",
       "      <td>-0.063217</td>\n",
       "      <td>-0.166463</td>\n",
       "      <td>-1.664629e-01</td>\n",
       "      <td>-0.166463</td>\n",
       "      <td>-0.167866</td>\n",
       "      <td>-0.167866</td>\n",
       "      <td>1.000000</td>\n",
       "      <td>-0.167866</td>\n",
       "      <td>NaN</td>\n",
       "      <td>-0.034952</td>\n",
       "      <td>-0.008412</td>\n",
       "      <td>-0.019587</td>\n",
       "      <td>1.457181e-03</td>\n",
       "    </tr>\n",
       "    <tr>\n",
       "      <th>Sun</th>\n",
       "      <td>-0.651529</td>\n",
       "      <td>-0.013779</td>\n",
       "      <td>-0.013601</td>\n",
       "      <td>0.032267</td>\n",
       "      <td>-0.166463</td>\n",
       "      <td>-1.664629e-01</td>\n",
       "      <td>-0.166463</td>\n",
       "      <td>-0.167866</td>\n",
       "      <td>-0.167866</td>\n",
       "      <td>-0.167866</td>\n",
       "      <td>1.000000</td>\n",
       "      <td>NaN</td>\n",
       "      <td>0.075697</td>\n",
       "      <td>-0.020497</td>\n",
       "      <td>-0.023718</td>\n",
       "      <td>4.371544e-03</td>\n",
       "    </tr>\n",
       "    <tr>\n",
       "      <th>holiday</th>\n",
       "      <td>NaN</td>\n",
       "      <td>NaN</td>\n",
       "      <td>NaN</td>\n",
       "      <td>NaN</td>\n",
       "      <td>NaN</td>\n",
       "      <td>NaN</td>\n",
       "      <td>NaN</td>\n",
       "      <td>NaN</td>\n",
       "      <td>NaN</td>\n",
       "      <td>NaN</td>\n",
       "      <td>NaN</td>\n",
       "      <td>NaN</td>\n",
       "      <td>NaN</td>\n",
       "      <td>NaN</td>\n",
       "      <td>NaN</td>\n",
       "      <td>NaN</td>\n",
       "    </tr>\n",
       "    <tr>\n",
       "      <th>PRCP_mm_y</th>\n",
       "      <td>-0.090224</td>\n",
       "      <td>0.059822</td>\n",
       "      <td>0.026697</td>\n",
       "      <td>-0.034864</td>\n",
       "      <td>-0.020074</td>\n",
       "      <td>1.699128e-02</td>\n",
       "      <td>0.027019</td>\n",
       "      <td>-0.032949</td>\n",
       "      <td>-0.031590</td>\n",
       "      <td>-0.034952</td>\n",
       "      <td>0.075697</td>\n",
       "      <td>NaN</td>\n",
       "      <td>1.000000</td>\n",
       "      <td>-0.419847</td>\n",
       "      <td>0.099305</td>\n",
       "      <td>4.127957e-02</td>\n",
       "    </tr>\n",
       "    <tr>\n",
       "      <th>dry day_y</th>\n",
       "      <td>0.056488</td>\n",
       "      <td>-0.038666</td>\n",
       "      <td>-0.008559</td>\n",
       "      <td>-0.005515</td>\n",
       "      <td>0.035600</td>\n",
       "      <td>4.775732e-02</td>\n",
       "      <td>0.011284</td>\n",
       "      <td>-0.008412</td>\n",
       "      <td>-0.056753</td>\n",
       "      <td>-0.008412</td>\n",
       "      <td>-0.020497</td>\n",
       "      <td>NaN</td>\n",
       "      <td>-0.419847</td>\n",
       "      <td>1.000000</td>\n",
       "      <td>-0.020659</td>\n",
       "      <td>-3.878298e-02</td>\n",
       "    </tr>\n",
       "    <tr>\n",
       "      <th>Temp (C)_y</th>\n",
       "      <td>0.295261</td>\n",
       "      <td>-0.063476</td>\n",
       "      <td>-0.054097</td>\n",
       "      <td>0.048123</td>\n",
       "      <td>-0.016333</td>\n",
       "      <td>6.522804e-03</td>\n",
       "      <td>0.016292</td>\n",
       "      <td>0.038043</td>\n",
       "      <td>-0.001182</td>\n",
       "      <td>-0.019587</td>\n",
       "      <td>-0.023718</td>\n",
       "      <td>NaN</td>\n",
       "      <td>0.099305</td>\n",
       "      <td>-0.020659</td>\n",
       "      <td>1.000000</td>\n",
       "      <td>1.868041e-01</td>\n",
       "    </tr>\n",
       "    <tr>\n",
       "      <th>annual</th>\n",
       "      <td>0.176501</td>\n",
       "      <td>-0.070296</td>\n",
       "      <td>0.010188</td>\n",
       "      <td>-0.021233</td>\n",
       "      <td>-0.002890</td>\n",
       "      <td>-1.912164e-16</td>\n",
       "      <td>0.002890</td>\n",
       "      <td>-0.004372</td>\n",
       "      <td>-0.001457</td>\n",
       "      <td>0.001457</td>\n",
       "      <td>0.004372</td>\n",
       "      <td>NaN</td>\n",
       "      <td>0.041280</td>\n",
       "      <td>-0.038783</td>\n",
       "      <td>0.186804</td>\n",
       "      <td>1.000000e+00</td>\n",
       "    </tr>\n",
       "  </tbody>\n",
       "</table>\n",
       "</div>"
      ],
      "text/plain": [
       "                    total_rides  prev_day_rides  prev_week_rides  \\\n",
       "total_rides            1.000000       -0.001845         0.008361   \n",
       "prev_day_rides        -0.001845        1.000000        -0.005308   \n",
       "prev_week_rides        0.008361       -0.005308         1.000000   \n",
       "one_year_ago_rides     0.039629        0.091675        -0.037830   \n",
       "Mon                    0.040909        0.012350        -0.001749   \n",
       "Tue                    0.266510        0.051506         0.009145   \n",
       "Wed                    0.285975       -0.005629        -0.058792   \n",
       "Thu                    0.263789        0.008183         0.057561   \n",
       "Fri                    0.138451        0.026590         0.009597   \n",
       "Sat                   -0.340558       -0.078871        -0.002412   \n",
       "Sun                   -0.651529       -0.013779        -0.013601   \n",
       "holiday                     NaN             NaN              NaN   \n",
       "PRCP_mm_y             -0.090224        0.059822         0.026697   \n",
       "dry day_y              0.056488       -0.038666        -0.008559   \n",
       "Temp (C)_y             0.295261       -0.063476        -0.054097   \n",
       "annual                 0.176501       -0.070296         0.010188   \n",
       "\n",
       "                    one_year_ago_rides       Mon           Tue       Wed  \\\n",
       "total_rides                   0.039629  0.040909  2.665103e-01  0.285975   \n",
       "prev_day_rides                0.091675  0.012350  5.150554e-02 -0.005629   \n",
       "prev_week_rides              -0.037830 -0.001749  9.144538e-03 -0.058792   \n",
       "one_year_ago_rides            1.000000 -0.043041  7.259650e-02  0.042584   \n",
       "Mon                          -0.043041  1.000000 -1.650718e-01 -0.165072   \n",
       "Tue                           0.072596 -0.165072  1.000000e+00 -0.165072   \n",
       "Wed                           0.042584 -0.165072 -1.650718e-01  1.000000   \n",
       "Thu                          -0.102062 -0.166463 -1.664629e-01 -0.166463   \n",
       "Fri                           0.062363 -0.166463 -1.664629e-01 -0.166463   \n",
       "Sat                          -0.063217 -0.166463 -1.664629e-01 -0.166463   \n",
       "Sun                           0.032267 -0.166463 -1.664629e-01 -0.166463   \n",
       "holiday                            NaN       NaN           NaN       NaN   \n",
       "PRCP_mm_y                    -0.034864 -0.020074  1.699128e-02  0.027019   \n",
       "dry day_y                    -0.005515  0.035600  4.775732e-02  0.011284   \n",
       "Temp (C)_y                    0.048123 -0.016333  6.522804e-03  0.016292   \n",
       "annual                       -0.021233 -0.002890 -1.912164e-16  0.002890   \n",
       "\n",
       "                         Thu       Fri       Sat       Sun  holiday  \\\n",
       "total_rides         0.263789  0.138451 -0.340558 -0.651529      NaN   \n",
       "prev_day_rides      0.008183  0.026590 -0.078871 -0.013779      NaN   \n",
       "prev_week_rides     0.057561  0.009597 -0.002412 -0.013601      NaN   \n",
       "one_year_ago_rides -0.102062  0.062363 -0.063217  0.032267      NaN   \n",
       "Mon                -0.166463 -0.166463 -0.166463 -0.166463      NaN   \n",
       "Tue                -0.166463 -0.166463 -0.166463 -0.166463      NaN   \n",
       "Wed                -0.166463 -0.166463 -0.166463 -0.166463      NaN   \n",
       "Thu                 1.000000 -0.167866 -0.167866 -0.167866      NaN   \n",
       "Fri                -0.167866  1.000000 -0.167866 -0.167866      NaN   \n",
       "Sat                -0.167866 -0.167866  1.000000 -0.167866      NaN   \n",
       "Sun                -0.167866 -0.167866 -0.167866  1.000000      NaN   \n",
       "holiday                  NaN       NaN       NaN       NaN      NaN   \n",
       "PRCP_mm_y          -0.032949 -0.031590 -0.034952  0.075697      NaN   \n",
       "dry day_y          -0.008412 -0.056753 -0.008412 -0.020497      NaN   \n",
       "Temp (C)_y          0.038043 -0.001182 -0.019587 -0.023718      NaN   \n",
       "annual             -0.004372 -0.001457  0.001457  0.004372      NaN   \n",
       "\n",
       "                    PRCP_mm_y  dry day_y  Temp (C)_y        annual  \n",
       "total_rides         -0.090224   0.056488    0.295261  1.765009e-01  \n",
       "prev_day_rides       0.059822  -0.038666   -0.063476 -7.029614e-02  \n",
       "prev_week_rides      0.026697  -0.008559   -0.054097  1.018758e-02  \n",
       "one_year_ago_rides  -0.034864  -0.005515    0.048123 -2.123296e-02  \n",
       "Mon                 -0.020074   0.035600   -0.016333 -2.890008e-03  \n",
       "Tue                  0.016991   0.047757    0.006523 -1.912164e-16  \n",
       "Wed                  0.027019   0.011284    0.016292  2.890008e-03  \n",
       "Thu                 -0.032949  -0.008412    0.038043 -4.371544e-03  \n",
       "Fri                 -0.031590  -0.056753   -0.001182 -1.457181e-03  \n",
       "Sat                 -0.034952  -0.008412   -0.019587  1.457181e-03  \n",
       "Sun                  0.075697  -0.020497   -0.023718  4.371544e-03  \n",
       "holiday                   NaN        NaN         NaN           NaN  \n",
       "PRCP_mm_y            1.000000  -0.419847    0.099305  4.127957e-02  \n",
       "dry day_y           -0.419847   1.000000   -0.020659 -3.878298e-02  \n",
       "Temp (C)_y           0.099305  -0.020659    1.000000  1.868041e-01  \n",
       "annual               0.041280  -0.038783    0.186804  1.000000e+00  "
      ]
     },
     "execution_count": 31,
     "metadata": {},
     "output_type": "execute_result"
    }
   ],
   "source": [
    "#@title Code - View correlation matrix\n",
    "training_df.corr(numeric_only = True)"
   ]
  },
  {
   "cell_type": "code",
   "execution_count": 33,
   "id": "d2118a4a",
   "metadata": {},
   "outputs": [
    {
     "ename": "ValueError",
     "evalue": "Mime type rendering requires nbformat>=4.2.0 but it is not installed",
     "output_type": "error",
     "traceback": [
      "\u001b[31m---------------------------------------------------------------------------\u001b[39m",
      "\u001b[31mValueError\u001b[39m                                Traceback (most recent call last)",
      "\u001b[36mFile \u001b[39m\u001b[32m~/github/.venv/lib/python3.12/site-packages/IPython/core/formatters.py:984\u001b[39m, in \u001b[36mIPythonDisplayFormatter.__call__\u001b[39m\u001b[34m(self, obj)\u001b[39m\n\u001b[32m    982\u001b[39m method = get_real_method(obj, \u001b[38;5;28mself\u001b[39m.print_method)\n\u001b[32m    983\u001b[39m \u001b[38;5;28;01mif\u001b[39;00m method \u001b[38;5;129;01mis\u001b[39;00m \u001b[38;5;129;01mnot\u001b[39;00m \u001b[38;5;28;01mNone\u001b[39;00m:\n\u001b[32m--> \u001b[39m\u001b[32m984\u001b[39m     \u001b[43mmethod\u001b[49m\u001b[43m(\u001b[49m\u001b[43m)\u001b[49m\n\u001b[32m    985\u001b[39m     \u001b[38;5;28;01mreturn\u001b[39;00m \u001b[38;5;28;01mTrue\u001b[39;00m\n",
      "\u001b[36mFile \u001b[39m\u001b[32m~/github/.venv/lib/python3.12/site-packages/plotly/basedatatypes.py:850\u001b[39m, in \u001b[36mBaseFigure._ipython_display_\u001b[39m\u001b[34m(self)\u001b[39m\n\u001b[32m    847\u001b[39m \u001b[38;5;28;01mimport\u001b[39;00m\u001b[38;5;250m \u001b[39m\u001b[34;01mplotly\u001b[39;00m\u001b[34;01m.\u001b[39;00m\u001b[34;01mio\u001b[39;00m\u001b[38;5;250m \u001b[39m\u001b[38;5;28;01mas\u001b[39;00m\u001b[38;5;250m \u001b[39m\u001b[34;01mpio\u001b[39;00m\n\u001b[32m    849\u001b[39m \u001b[38;5;28;01mif\u001b[39;00m pio.renderers.render_on_display \u001b[38;5;129;01mand\u001b[39;00m pio.renderers.default:\n\u001b[32m--> \u001b[39m\u001b[32m850\u001b[39m     \u001b[43mpio\u001b[49m\u001b[43m.\u001b[49m\u001b[43mshow\u001b[49m\u001b[43m(\u001b[49m\u001b[38;5;28;43mself\u001b[39;49m\u001b[43m)\u001b[49m\n\u001b[32m    851\u001b[39m \u001b[38;5;28;01melse\u001b[39;00m:\n\u001b[32m    852\u001b[39m     \u001b[38;5;28mprint\u001b[39m(\u001b[38;5;28mrepr\u001b[39m(\u001b[38;5;28mself\u001b[39m))\n",
      "\u001b[36mFile \u001b[39m\u001b[32m~/github/.venv/lib/python3.12/site-packages/plotly/io/_renderers.py:415\u001b[39m, in \u001b[36mshow\u001b[39m\u001b[34m(fig, renderer, validate, **kwargs)\u001b[39m\n\u001b[32m    410\u001b[39m     \u001b[38;5;28;01mraise\u001b[39;00m \u001b[38;5;167;01mValueError\u001b[39;00m(\n\u001b[32m    411\u001b[39m         \u001b[33m\"\u001b[39m\u001b[33mMime type rendering requires ipython but it is not installed\u001b[39m\u001b[33m\"\u001b[39m\n\u001b[32m    412\u001b[39m     )\n\u001b[32m    414\u001b[39m \u001b[38;5;28;01mif\u001b[39;00m \u001b[38;5;129;01mnot\u001b[39;00m nbformat \u001b[38;5;129;01mor\u001b[39;00m Version(nbformat.__version__) < Version(\u001b[33m\"\u001b[39m\u001b[33m4.2.0\u001b[39m\u001b[33m\"\u001b[39m):\n\u001b[32m--> \u001b[39m\u001b[32m415\u001b[39m     \u001b[38;5;28;01mraise\u001b[39;00m \u001b[38;5;167;01mValueError\u001b[39;00m(\n\u001b[32m    416\u001b[39m         \u001b[33m\"\u001b[39m\u001b[33mMime type rendering requires nbformat>=4.2.0 but it is not installed\u001b[39m\u001b[33m\"\u001b[39m\n\u001b[32m    417\u001b[39m     )\n\u001b[32m    419\u001b[39m display_jupyter_version_warnings()\n\u001b[32m    421\u001b[39m ipython_display.display(bundle, raw=\u001b[38;5;28;01mTrue\u001b[39;00m)\n",
      "\u001b[31mValueError\u001b[39m: Mime type rendering requires nbformat>=4.2.0 but it is not installed"
     ]
    },
    {
     "data": {
      "application/vnd.plotly.v1+json": {
       "config": {
        "plotlyServerURL": "https://plot.ly"
       },
       "data": [
        {
         "dimensions": [
          {
           "axis": {
            "matches": true
           },
           "label": "total_rides",
           "values": {
            "bdata": "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",
            "dtype": "i4"
           }
          },
          {
           "axis": {
            "matches": true
           },
           "label": "prev_day_rides",
           "values": {
            "bdata": "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",
            "dtype": "f8"
           }
          },
          {
           "axis": {
            "matches": true
           },
           "label": "prev_week_rides",
           "values": {
            "bdata": "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",
            "dtype": "f8"
           }
          },
          {
           "axis": {
            "matches": true
           },
           "label": "one_year_ago_rides",
           "values": {
            "bdata": "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",
            "dtype": "f8"
           }
          },
          {
           "axis": {
            "matches": true
           },
           "label": "Mon",
           "values": {
            "bdata": "AAAAAAAAAAAAAAAAAAAAAAAAAAAAAAAAAAAAAAAAAAAAAAAAAADwPwAAAAAAAAAAAAAAAAAAAAAAAAAAAAAAAAAAAAAAAAAAAAAAAAAAAAAAAAAAAAAAAAAAAAAAAPA/AAAAAAAAAAAAAAAAAAAAAAAAAAAAAAAAAAAAAAAAAAAAAAAAAAAAAAAAAAAAAAAAAAAAAAAA8D8AAAAAAAAAAAAAAAAAAAAAAAAAAAAAAAAAAAAAAAAAAAAAAAAAAAAAAAAAAAAAAAAAAAAAAADwPwAAAAAAAAAAAAAAAAAAAAAAAAAAAAAAAAAAAAAAAAAAAAAAAAAAAAAAAAAAAAAAAAAAAAAAAPA/AAAAAAAAAAAAAAAAAAAAAAAAAAAAAAAAAAAAAAAAAAAAAAAAAAAAAAAAAAAAAAAAAAAAAAAA8D8AAAAAAAAAAAAAAAAAAAAAAAAAAAAAAAAAAAAAAAAAAAAAAAAAAAAAAAAAAAAAAAAAAAAAAADwPwAAAAAAAAAAAAAAAAAAAAAAAAAAAAAAAAAAAAAAAAAAAAAAAAAAAAAAAAAAAAAAAAAAAAAAAPA/AAAAAAAAAAAAAAAAAAAAAAAAAAAAAAAAAAAAAAAAAAAAAAAAAAAAAAAAAAAAAAAAAAAAAAAA8D8AAAAAAAAAAAAAAAAAAAAAAAAAAAAAAAAAAAAAAAAAAAAAAAAAAAAAAAAAAAAAAAAAAAAAAADwPwAAAAAAAAAAAAAAAAAAAAAAAAAAAAAAAAAAAAAAAAAAAAAAAAAAAAAAAAAAAAAAAAAAAAAAAPA/AAAAAAAAAAAAAAAAAAAAAAAAAAAAAAAAAAAAAAAAAAAAAAAAAAAAAAAAAAAAAAAAAAAAAAAA8D8AAAAAAAAAAAAAAAAAAAAAAAAAAAAAAAAAAAAAAAAAAAAAAAAAAAAAAAAAAAAAAAAAAAAAAADwPwAAAAAAAAAAAAAAAAAAAAAAAAAAAAAAAAAAAAAAAAAAAAAAAAAAAAAAAAAAAAAAAAAAAAAAAPA/AAAAAAAAAAAAAAAAAAAAAAAAAAAAAAAAAAAAAAAAAAAAAAAAAAAAAAAAAAAAAAAAAAAAAAAA8D8AAAAAAAAAAAAAAAAAAAAAAAAAAAAAAAAAAAAAAAAAAAAAAAAAAAAAAAAAAAAAAAAAAAAAAADwPwAAAAAAAAAAAAAAAAAAAAAAAAAAAAAAAAAAAAAAAAAAAAAAAAAAAAAAAAAAAAAAAAAAAAAAAPA/AAAAAAAAAAAAAAAAAAAAAAAAAAAAAAAAAAAAAAAAAAAAAAAAAAAAAAAAAAAAAAAAAAAAAAAA8D8AAAAAAAAAAAAAAAAAAAAAAAAAAAAAAAAAAAAAAAAAAAAAAAAAAAAAAAAAAAAAAAAAAAAAAADwPwAAAAAAAAAAAAAAAAAAAAAAAAAAAAAAAAAAAAAAAAAAAAAAAAAAAAAAAAAAAAAAAAAAAAAAAPA/AAAAAAAAAAAAAAAAAAAAAAAAAAAAAAAAAAAAAAAAAAAAAAAAAAAAAAAAAAAAAAAAAAAAAAAA8D8AAAAAAAAAAAAAAAAAAAAAAAAAAAAAAAAAAAAAAAAAAAAAAAAAAAAAAAAAAAAAAAAAAAAAAADwPwAAAAAAAAAAAAAAAAAAAAAAAAAAAAAAAAAAAAAAAAAAAAAAAAAAAAAAAAAAAAAAAAAAAAAAAPA/AAAAAAAAAAAAAAAAAAAAAAAAAAAAAAAAAAAAAAAAAAAAAAAAAAAAAAAAAAAAAAAAAAAAAAAA8D8AAAAAAAAAAAAAAAAAAAAAAAAAAAAAAAAAAAAAAAAAAAAAAAAAAAAAAAAAAAAAAAAAAAAAAADwPwAAAAAAAAAAAAAAAAAAAAAAAAAAAAAAAAAAAAAAAAAAAAAAAAAAAAAAAAAAAAAAAAAAAAAAAPA/AAAAAAAAAAAAAAAAAAAAAAAAAAAAAAAAAAAAAAAAAAAAAAAAAAAAAAAAAAAAAAAAAAAAAAAA8D8AAAAAAAAAAAAAAAAAAAAAAAAAAAAAAAAAAAAAAAAAAAAAAAAAAAAAAAAAAAAAAAAAAAAAAADwPwAAAAAAAAAAAAAAAAAAAAAAAAAAAAAAAAAAAAAAAAAAAAAAAAAAAAAAAAAAAAAAAAAAAAAAAPA/AAAAAAAAAAAAAAAAAAAAAAAAAAAAAAAAAAAAAAAAAAAAAAAAAAAAAAAAAAAAAAAAAAAAAAAA8D8AAAAAAAAAAAAAAAAAAAAAAAAAAAAAAAAAAAAAAAAAAAAAAAAAAAAAAAAAAAAAAAAAAAAAAADwPwAAAAAAAAAAAAAAAAAAAAAAAAAAAAAAAAAAAAAAAAAAAAAAAAAAAAAAAAAAAAAAAAAAAAAAAPA/AAAAAAAAAAAAAAAAAAAAAAAAAAAAAAAAAAAAAAAAAAAAAAAAAAAAAAAAAAAAAAAAAAAAAAAA8D8AAAAAAAAAAAAAAAAAAAAAAAAAAAAAAAAAAAAAAAAAAAAAAAAAAAAAAAAAAAAAAAAAAAAAAADwPwAAAAAAAAAAAAAAAAAAAAAAAAAAAAAAAAAAAAAAAAAAAAAAAAAAAAAAAAAAAAAAAAAAAAAAAPA/AAAAAAAAAAAAAAAAAAAAAAAAAAAAAAAAAAAAAAAAAAAAAAAAAAAAAAAAAAAAAAAAAAAAAAAA8D8AAAAAAAAAAAAAAAAAAAAAAAAAAAAAAAAAAAAAAAAAAAAAAAAAAAAAAAAAAAAAAAAAAAAAAADwPwAAAAAAAAAAAAAAAAAAAAAAAAAAAAAAAAAAAAAAAAAAAAAAAAAAAAAAAAAAAAAAAAAAAAAAAPA/AAAAAAAAAAAAAAAAAAAAAAAAAAAAAAAAAAAAAAAAAAAAAAAAAAAAAAAAAAAAAAAAAAAAAAAA8D8AAAAAAAAAAAAAAAAAAAAAAAAAAAAAAAAAAAAAAAAAAAAAAAAAAAAAAAAAAAAAAAAAAAAAAADwPwAAAAAAAAAAAAAAAAAAAAAAAAAAAAAAAAAAAAAAAAAAAAAAAAAAAAAAAAAAAAAAAAAAAAAAAPA/AAAAAAAAAAAAAAAAAAAAAAAAAAAAAAAAAAAAAAAAAAAAAAAAAAAAAAAAAAAAAAAAAAAAAAAA8D8AAAAAAAAAAAAAAAAAAAAAAAAAAAAAAAAAAAAAAAAAAAAAAAAAAAAAAAAAAAAAAAAAAAAAAADwPwAAAAAAAAAAAAAAAAAAAAAAAAAAAAAAAAAAAAAAAAAAAAAAAAAAAAAAAAAAAAAAAAAAAAAAAPA/AAAAAAAAAAAAAAAAAAAAAAAAAAAAAAAAAAAAAAAAAAAAAAAAAAAAAAAAAAAAAAAAAAAAAAAA8D8AAAAAAAAAAAAAAAAAAAAAAAAAAAAAAAAAAAAAAAAAAAAAAAAAAAAAAAAAAAAAAAAAAAAAAADwPwAAAAAAAAAAAAAAAAAAAAAAAAAAAAAAAAAAAAAAAAAAAAAAAAAAAAAAAAAAAAAAAAAAAAAAAPA/AAAAAAAAAAAAAAAAAAAAAAAAAAAAAAAAAAAAAAAAAAAAAAAAAAAAAAAAAAAAAAAAAAAAAAAA8D8AAAAAAAAAAAAAAAAAAAAAAAAAAAAAAAAAAAAAAAAAAAAAAAAAAAAAAAAAAAAAAAAAAAAAAADwPwAAAAAAAAAAAAAAAAAAAAAAAAAAAAAAAAAAAAAAAAAAAAAAAAAAAAAAAAAAAAAAAAAAAAAAAPA/AAAAAAAAAAAAAAAAAAAAAAAAAAAAAAAAAAAAAAAAAAAAAAAAAAAAAAAAAAAAAAAAAAAAAAAA8D8AAAAAAAAAAAAAAAAAAAAAAAAAAAAAAAAAAAAAAAAAAAAAAAAAAAAAAAAAAAAAAAAAAAAAAADwPwAAAAAAAAAAAAAAAAAAAAAAAAAAAAAAAAAAAAAAAAAAAAAAAAAAAAAAAAAAAAAAAAAAAAAAAPA/AAAAAAAAAAAAAAAAAAAAAAAAAAAAAAAAAAAAAAAAAAAAAAAAAAAAAAAAAAAAAAAAAAAAAAAA8D8AAAAAAAAAAAAAAAAAAAAAAAAAAAAAAAAAAAAAAAAAAAAAAAAAAAAAAAAAAAAAAAAAAAAAAADwPwAAAAAAAAAAAAAAAAAAAAAAAAAAAAAAAAAAAAAAAAAAAAAAAAAAAAAAAAAAAAAAAAAAAAAAAPA/AAAAAAAAAAAAAAAAAAAAAAAAAAAAAAAAAAAAAAAAAAAAAAAAAAAAAAAAAAAAAAAAAAAAAAAA8D8AAAAAAAAAAAAAAAAAAAAAAAAAAAAAAAAAAAAAAAAAAAAAAAAAAAAAAAAAAAAAAAAAAAAAAADwPwAAAAAAAAAAAAAAAAAAAAAAAAAAAAAAAAAAAAAAAAAAAAAAAAAAAAAAAAAAAAAAAAAAAAAAAPA/AAAAAAAAAAAAAAAAAAAAAAAAAAAAAAAAAAAAAAAAAAAAAAAAAAAAAAAAAAAAAAAAAAAAAAAA8D8AAAAAAAAAAAAAAAAAAAAAAAAAAAAAAAAAAAAAAAAAAAAAAAAAAAAAAAAAAAAAAAAAAAAAAADwPwAAAAAAAAAAAAAAAAAAAAAAAAAAAAAAAAAAAAAAAAAAAAAAAAAAAAAAAAAAAAAAAAAAAAAAAPA/AAAAAAAAAAAAAAAAAAAAAAAAAAAAAAAAAAAAAAAAAAAAAAAAAAAAAAAAAAAAAAAAAAAAAAAA8D8AAAAAAAAAAAAAAAAAAAAAAAAAAAAAAAAAAAAAAAAAAAAAAAAAAAAAAAAAAAAAAAAAAAAAAADwPwAAAAAAAAAAAAAAAAAAAAAAAAAAAAAAAAAAAAAAAAAAAAAAAAAAAAAAAAAAAAAAAAAAAAAAAPA/AAAAAAAAAAAAAAAAAAAAAAAAAAAAAAAAAAAAAAAAAAAAAAAAAAAAAAAAAAAAAAAAAAAAAAAA8D8AAAAAAAAAAAAAAAAAAAAAAAAAAAAAAAAAAAAAAAAAAAAAAAAAAAAAAAAAAAAAAAAAAAAAAADwPwAAAAAAAAAAAAAAAAAAAAAAAAAAAAAAAAAAAAAAAAAAAAAAAAAAAAAAAAAAAAAAAAAAAAAAAPA/AAAAAAAAAAAAAAAAAAAAAAAAAAAAAAAAAAAAAAAAAAAAAAAAAAAAAAAAAAAAAAAAAAAAAAAA8D8AAAAAAAAAAAAAAAAAAAAAAAAAAAAAAAAAAAAAAAAAAAAAAAAAAAAAAAAAAAAAAAA=",
            "dtype": "f8"
           }
          },
          {
           "axis": {
            "matches": true
           },
           "label": "Tue",
           "values": {
            "bdata": "AAAAAAAAAAAAAAAAAAAAAAAAAAAAAAAAAAAAAAAAAAAAAAAAAAAAAAAAAAAAAPA/AAAAAAAAAAAAAAAAAAAAAAAAAAAAAAAAAAAAAAAAAAAAAAAAAAAAAAAAAAAAAAAAAAAAAAAA8D8AAAAAAAAAAAAAAAAAAAAAAAAAAAAAAAAAAAAAAAAAAAAAAAAAAAAAAAAAAAAAAAAAAAAAAADwPwAAAAAAAAAAAAAAAAAAAAAAAAAAAAAAAAAAAAAAAAAAAAAAAAAAAAAAAAAAAAAAAAAAAAAAAPA/AAAAAAAAAAAAAAAAAAAAAAAAAAAAAAAAAAAAAAAAAAAAAAAAAAAAAAAAAAAAAAAAAAAAAAAA8D8AAAAAAAAAAAAAAAAAAAAAAAAAAAAAAAAAAAAAAAAAAAAAAAAAAAAAAAAAAAAAAAAAAAAAAADwPwAAAAAAAAAAAAAAAAAAAAAAAAAAAAAAAAAAAAAAAAAAAAAAAAAAAAAAAAAAAAAAAAAAAAAAAPA/AAAAAAAAAAAAAAAAAAAAAAAAAAAAAAAAAAAAAAAAAAAAAAAAAAAAAAAAAAAAAAAAAAAAAAAA8D8AAAAAAAAAAAAAAAAAAAAAAAAAAAAAAAAAAAAAAAAAAAAAAAAAAAAAAAAAAAAAAAAAAAAAAADwPwAAAAAAAAAAAAAAAAAAAAAAAAAAAAAAAAAAAAAAAAAAAAAAAAAAAAAAAAAAAAAAAAAAAAAAAPA/AAAAAAAAAAAAAAAAAAAAAAAAAAAAAAAAAAAAAAAAAAAAAAAAAAAAAAAAAAAAAAAAAAAAAAAA8D8AAAAAAAAAAAAAAAAAAAAAAAAAAAAAAAAAAAAAAAAAAAAAAAAAAAAAAAAAAAAAAAAAAAAAAADwPwAAAAAAAAAAAAAAAAAAAAAAAAAAAAAAAAAAAAAAAAAAAAAAAAAAAAAAAAAAAAAAAAAAAAAAAPA/AAAAAAAAAAAAAAAAAAAAAAAAAAAAAAAAAAAAAAAAAAAAAAAAAAAAAAAAAAAAAAAAAAAAAAAA8D8AAAAAAAAAAAAAAAAAAAAAAAAAAAAAAAAAAAAAAAAAAAAAAAAAAAAAAAAAAAAAAAAAAAAAAADwPwAAAAAAAAAAAAAAAAAAAAAAAAAAAAAAAAAAAAAAAAAAAAAAAAAAAAAAAAAAAAAAAAAAAAAAAPA/AAAAAAAAAAAAAAAAAAAAAAAAAAAAAAAAAAAAAAAAAAAAAAAAAAAAAAAAAAAAAAAAAAAAAAAA8D8AAAAAAAAAAAAAAAAAAAAAAAAAAAAAAAAAAAAAAAAAAAAAAAAAAAAAAAAAAAAAAAAAAAAAAADwPwAAAAAAAAAAAAAAAAAAAAAAAAAAAAAAAAAAAAAAAAAAAAAAAAAAAAAAAAAAAAAAAAAAAAAAAPA/AAAAAAAAAAAAAAAAAAAAAAAAAAAAAAAAAAAAAAAAAAAAAAAAAAAAAAAAAAAAAAAAAAAAAAAA8D8AAAAAAAAAAAAAAAAAAAAAAAAAAAAAAAAAAAAAAAAAAAAAAAAAAAAAAAAAAAAAAAAAAAAAAADwPwAAAAAAAAAAAAAAAAAAAAAAAAAAAAAAAAAAAAAAAAAAAAAAAAAAAAAAAAAAAAAAAAAAAAAAAPA/AAAAAAAAAAAAAAAAAAAAAAAAAAAAAAAAAAAAAAAAAAAAAAAAAAAAAAAAAAAAAAAAAAAAAAAA8D8AAAAAAAAAAAAAAAAAAAAAAAAAAAAAAAAAAAAAAAAAAAAAAAAAAAAAAAAAAAAAAAAAAAAAAADwPwAAAAAAAAAAAAAAAAAAAAAAAAAAAAAAAAAAAAAAAAAAAAAAAAAAAAAAAAAAAAAAAAAAAAAAAPA/AAAAAAAAAAAAAAAAAAAAAAAAAAAAAAAAAAAAAAAAAAAAAAAAAAAAAAAAAAAAAAAAAAAAAAAA8D8AAAAAAAAAAAAAAAAAAAAAAAAAAAAAAAAAAAAAAAAAAAAAAAAAAAAAAAAAAAAAAAAAAAAAAADwPwAAAAAAAAAAAAAAAAAAAAAAAAAAAAAAAAAAAAAAAAAAAAAAAAAAAAAAAAAAAAAAAAAAAAAAAPA/AAAAAAAAAAAAAAAAAAAAAAAAAAAAAAAAAAAAAAAAAAAAAAAAAAAAAAAAAAAAAAAAAAAAAAAA8D8AAAAAAAAAAAAAAAAAAAAAAAAAAAAAAAAAAAAAAAAAAAAAAAAAAAAAAAAAAAAAAAAAAAAAAADwPwAAAAAAAAAAAAAAAAAAAAAAAAAAAAAAAAAAAAAAAAAAAAAAAAAAAAAAAAAAAAAAAAAAAAAAAPA/AAAAAAAAAAAAAAAAAAAAAAAAAAAAAAAAAAAAAAAAAAAAAAAAAAAAAAAAAAAAAAAAAAAAAAAA8D8AAAAAAAAAAAAAAAAAAAAAAAAAAAAAAAAAAAAAAAAAAAAAAAAAAAAAAAAAAAAAAAAAAAAAAADwPwAAAAAAAAAAAAAAAAAAAAAAAAAAAAAAAAAAAAAAAAAAAAAAAAAAAAAAAAAAAAAAAAAAAAAAAPA/AAAAAAAAAAAAAAAAAAAAAAAAAAAAAAAAAAAAAAAAAAAAAAAAAAAAAAAAAAAAAAAAAAAAAAAA8D8AAAAAAAAAAAAAAAAAAAAAAAAAAAAAAAAAAAAAAAAAAAAAAAAAAAAAAAAAAAAAAAAAAAAAAADwPwAAAAAAAAAAAAAAAAAAAAAAAAAAAAAAAAAAAAAAAAAAAAAAAAAAAAAAAAAAAAAAAAAAAAAAAPA/AAAAAAAAAAAAAAAAAAAAAAAAAAAAAAAAAAAAAAAAAAAAAAAAAAAAAAAAAAAAAAAAAAAAAAAA8D8AAAAAAAAAAAAAAAAAAAAAAAAAAAAAAAAAAAAAAAAAAAAAAAAAAAAAAAAAAAAAAAAAAAAAAADwPwAAAAAAAAAAAAAAAAAAAAAAAAAAAAAAAAAAAAAAAAAAAAAAAAAAAAAAAAAAAAAAAAAAAAAAAPA/AAAAAAAAAAAAAAAAAAAAAAAAAAAAAAAAAAAAAAAAAAAAAAAAAAAAAAAAAAAAAAAAAAAAAAAA8D8AAAAAAAAAAAAAAAAAAAAAAAAAAAAAAAAAAAAAAAAAAAAAAAAAAAAAAAAAAAAAAAAAAAAAAADwPwAAAAAAAAAAAAAAAAAAAAAAAAAAAAAAAAAAAAAAAAAAAAAAAAAAAAAAAAAAAAAAAAAAAAAAAPA/AAAAAAAAAAAAAAAAAAAAAAAAAAAAAAAAAAAAAAAAAAAAAAAAAAAAAAAAAAAAAAAAAAAAAAAA8D8AAAAAAAAAAAAAAAAAAAAAAAAAAAAAAAAAAAAAAAAAAAAAAAAAAAAAAAAAAAAAAAAAAAAAAADwPwAAAAAAAAAAAAAAAAAAAAAAAAAAAAAAAAAAAAAAAAAAAAAAAAAAAAAAAAAAAAAAAAAAAAAAAPA/AAAAAAAAAAAAAAAAAAAAAAAAAAAAAAAAAAAAAAAAAAAAAAAAAAAAAAAAAAAAAAAAAAAAAAAA8D8AAAAAAAAAAAAAAAAAAAAAAAAAAAAAAAAAAAAAAAAAAAAAAAAAAAAAAAAAAAAAAAAAAAAAAADwPwAAAAAAAAAAAAAAAAAAAAAAAAAAAAAAAAAAAAAAAAAAAAAAAAAAAAAAAAAAAAAAAAAAAAAAAPA/AAAAAAAAAAAAAAAAAAAAAAAAAAAAAAAAAAAAAAAAAAAAAAAAAAAAAAAAAAAAAAAAAAAAAAAA8D8AAAAAAAAAAAAAAAAAAAAAAAAAAAAAAAAAAAAAAAAAAAAAAAAAAAAAAAAAAAAAAAAAAAAAAADwPwAAAAAAAAAAAAAAAAAAAAAAAAAAAAAAAAAAAAAAAAAAAAAAAAAAAAAAAAAAAAAAAAAAAAAAAPA/AAAAAAAAAAAAAAAAAAAAAAAAAAAAAAAAAAAAAAAAAAAAAAAAAAAAAAAAAAAAAAAAAAAAAAAA8D8AAAAAAAAAAAAAAAAAAAAAAAAAAAAAAAAAAAAAAAAAAAAAAAAAAAAAAAAAAAAAAAAAAAAAAADwPwAAAAAAAAAAAAAAAAAAAAAAAAAAAAAAAAAAAAAAAAAAAAAAAAAAAAAAAAAAAAAAAAAAAAAAAPA/AAAAAAAAAAAAAAAAAAAAAAAAAAAAAAAAAAAAAAAAAAAAAAAAAAAAAAAAAAAAAAAAAAAAAAAA8D8AAAAAAAAAAAAAAAAAAAAAAAAAAAAAAAAAAAAAAAAAAAAAAAAAAAAAAAAAAAAAAAAAAAAAAADwPwAAAAAAAAAAAAAAAAAAAAAAAAAAAAAAAAAAAAAAAAAAAAAAAAAAAAAAAAAAAAAAAAAAAAAAAPA/AAAAAAAAAAAAAAAAAAAAAAAAAAAAAAAAAAAAAAAAAAAAAAAAAAAAAAAAAAAAAAAAAAAAAAAA8D8AAAAAAAAAAAAAAAAAAAAAAAAAAAAAAAAAAAAAAAAAAAAAAAAAAAAAAAAAAAAAAAAAAAAAAADwPwAAAAAAAAAAAAAAAAAAAAAAAAAAAAAAAAAAAAAAAAAAAAAAAAAAAAAAAAAAAAAAAAAAAAAAAPA/AAAAAAAAAAAAAAAAAAAAAAAAAAAAAAAAAAAAAAAAAAAAAAAAAAAAAAAAAAAAAAAAAAAAAAAA8D8AAAAAAAAAAAAAAAAAAAAAAAAAAAAAAAAAAAAAAAAAAAAAAAAAAAAAAAAAAAAAAAAAAAAAAADwPwAAAAAAAAAAAAAAAAAAAAAAAAAAAAAAAAAAAAAAAAAAAAAAAAAAAAAAAAAAAAAAAAAAAAAAAPA/AAAAAAAAAAAAAAAAAAAAAAAAAAAAAAAAAAAAAAAAAAAAAAAAAAAAAAAAAAAAAAAAAAAAAAAA8D8AAAAAAAAAAAAAAAAAAAAAAAAAAAAAAAAAAAAAAAAAAAAAAAAAAAAAAAAAAAAAAAAAAAAAAADwPwAAAAAAAAAAAAAAAAAAAAAAAAAAAAAAAAAAAAAAAAAAAAAAAAAAAAAAAAAAAAAAAAAAAAAAAPA/AAAAAAAAAAAAAAAAAAAAAAAAAAAAAAAAAAAAAAAAAAAAAAAAAAAAAAAAAAAAAAAAAAAAAAAA8D8AAAAAAAAAAAAAAAAAAAAAAAAAAAAAAAAAAAAAAAAAAAAAAAAAAAAAAAAAAAAAAAAAAAAAAADwPwAAAAAAAAAAAAAAAAAAAAAAAAAAAAAAAAAAAAAAAAAAAAAAAAAAAAA=",
            "dtype": "f8"
           }
          },
          {
           "axis": {
            "matches": true
           },
           "label": "Wed",
           "values": {
            "bdata": "AAAAAAAAAAAAAAAAAAAAAAAAAAAAAAAAAAAAAAAAAAAAAAAAAAAAAAAAAAAAAAAAAAAAAAAA8D8AAAAAAAAAAAAAAAAAAAAAAAAAAAAAAAAAAAAAAAAAAAAAAAAAAAAAAAAAAAAAAAAAAAAAAADwPwAAAAAAAAAAAAAAAAAAAAAAAAAAAAAAAAAAAAAAAAAAAAAAAAAAAAAAAAAAAAAAAAAAAAAAAPA/AAAAAAAAAAAAAAAAAAAAAAAAAAAAAAAAAAAAAAAAAAAAAAAAAAAAAAAAAAAAAAAAAAAAAAAA8D8AAAAAAAAAAAAAAAAAAAAAAAAAAAAAAAAAAAAAAAAAAAAAAAAAAAAAAAAAAAAAAAAAAAAAAADwPwAAAAAAAAAAAAAAAAAAAAAAAAAAAAAAAAAAAAAAAAAAAAAAAAAAAAAAAAAAAAAAAAAAAAAAAPA/AAAAAAAAAAAAAAAAAAAAAAAAAAAAAAAAAAAAAAAAAAAAAAAAAAAAAAAAAAAAAAAAAAAAAAAA8D8AAAAAAAAAAAAAAAAAAAAAAAAAAAAAAAAAAAAAAAAAAAAAAAAAAAAAAAAAAAAAAAAAAAAAAADwPwAAAAAAAAAAAAAAAAAAAAAAAAAAAAAAAAAAAAAAAAAAAAAAAAAAAAAAAAAAAAAAAAAAAAAAAPA/AAAAAAAAAAAAAAAAAAAAAAAAAAAAAAAAAAAAAAAAAAAAAAAAAAAAAAAAAAAAAAAAAAAAAAAA8D8AAAAAAAAAAAAAAAAAAAAAAAAAAAAAAAAAAAAAAAAAAAAAAAAAAAAAAAAAAAAAAAAAAAAAAADwPwAAAAAAAAAAAAAAAAAAAAAAAAAAAAAAAAAAAAAAAAAAAAAAAAAAAAAAAAAAAAAAAAAAAAAAAPA/AAAAAAAAAAAAAAAAAAAAAAAAAAAAAAAAAAAAAAAAAAAAAAAAAAAAAAAAAAAAAAAAAAAAAAAA8D8AAAAAAAAAAAAAAAAAAAAAAAAAAAAAAAAAAAAAAAAAAAAAAAAAAAAAAAAAAAAAAAAAAAAAAADwPwAAAAAAAAAAAAAAAAAAAAAAAAAAAAAAAAAAAAAAAAAAAAAAAAAAAAAAAAAAAAAAAAAAAAAAAPA/AAAAAAAAAAAAAAAAAAAAAAAAAAAAAAAAAAAAAAAAAAAAAAAAAAAAAAAAAAAAAAAAAAAAAAAA8D8AAAAAAAAAAAAAAAAAAAAAAAAAAAAAAAAAAAAAAAAAAAAAAAAAAAAAAAAAAAAAAAAAAAAAAADwPwAAAAAAAAAAAAAAAAAAAAAAAAAAAAAAAAAAAAAAAAAAAAAAAAAAAAAAAAAAAAAAAAAAAAAAAPA/AAAAAAAAAAAAAAAAAAAAAAAAAAAAAAAAAAAAAAAAAAAAAAAAAAAAAAAAAAAAAAAAAAAAAAAA8D8AAAAAAAAAAAAAAAAAAAAAAAAAAAAAAAAAAAAAAAAAAAAAAAAAAAAAAAAAAAAAAAAAAAAAAADwPwAAAAAAAAAAAAAAAAAAAAAAAAAAAAAAAAAAAAAAAAAAAAAAAAAAAAAAAAAAAAAAAAAAAAAAAPA/AAAAAAAAAAAAAAAAAAAAAAAAAAAAAAAAAAAAAAAAAAAAAAAAAAAAAAAAAAAAAAAAAAAAAAAA8D8AAAAAAAAAAAAAAAAAAAAAAAAAAAAAAAAAAAAAAAAAAAAAAAAAAAAAAAAAAAAAAAAAAAAAAADwPwAAAAAAAAAAAAAAAAAAAAAAAAAAAAAAAAAAAAAAAAAAAAAAAAAAAAAAAAAAAAAAAAAAAAAAAPA/AAAAAAAAAAAAAAAAAAAAAAAAAAAAAAAAAAAAAAAAAAAAAAAAAAAAAAAAAAAAAAAAAAAAAAAA8D8AAAAAAAAAAAAAAAAAAAAAAAAAAAAAAAAAAAAAAAAAAAAAAAAAAAAAAAAAAAAAAAAAAAAAAADwPwAAAAAAAAAAAAAAAAAAAAAAAAAAAAAAAAAAAAAAAAAAAAAAAAAAAAAAAAAAAAAAAAAAAAAAAPA/AAAAAAAAAAAAAAAAAAAAAAAAAAAAAAAAAAAAAAAAAAAAAAAAAAAAAAAAAAAAAAAAAAAAAAAA8D8AAAAAAAAAAAAAAAAAAAAAAAAAAAAAAAAAAAAAAAAAAAAAAAAAAAAAAAAAAAAAAAAAAAAAAADwPwAAAAAAAAAAAAAAAAAAAAAAAAAAAAAAAAAAAAAAAAAAAAAAAAAAAAAAAAAAAAAAAAAAAAAAAPA/AAAAAAAAAAAAAAAAAAAAAAAAAAAAAAAAAAAAAAAAAAAAAAAAAAAAAAAAAAAAAAAAAAAAAAAA8D8AAAAAAAAAAAAAAAAAAAAAAAAAAAAAAAAAAAAAAAAAAAAAAAAAAAAAAAAAAAAAAAAAAAAAAADwPwAAAAAAAAAAAAAAAAAAAAAAAAAAAAAAAAAAAAAAAAAAAAAAAAAAAAAAAAAAAAAAAAAAAAAAAPA/AAAAAAAAAAAAAAAAAAAAAAAAAAAAAAAAAAAAAAAAAAAAAAAAAAAAAAAAAAAAAAAAAAAAAAAA8D8AAAAAAAAAAAAAAAAAAAAAAAAAAAAAAAAAAAAAAAAAAAAAAAAAAAAAAAAAAAAAAAAAAAAAAADwPwAAAAAAAAAAAAAAAAAAAAAAAAAAAAAAAAAAAAAAAAAAAAAAAAAAAAAAAAAAAAAAAAAAAAAAAPA/AAAAAAAAAAAAAAAAAAAAAAAAAAAAAAAAAAAAAAAAAAAAAAAAAAAAAAAAAAAAAAAAAAAAAAAA8D8AAAAAAAAAAAAAAAAAAAAAAAAAAAAAAAAAAAAAAAAAAAAAAAAAAAAAAAAAAAAAAAAAAAAAAADwPwAAAAAAAAAAAAAAAAAAAAAAAAAAAAAAAAAAAAAAAAAAAAAAAAAAAAAAAAAAAAAAAAAAAAAAAPA/AAAAAAAAAAAAAAAAAAAAAAAAAAAAAAAAAAAAAAAAAAAAAAAAAAAAAAAAAAAAAAAAAAAAAAAA8D8AAAAAAAAAAAAAAAAAAAAAAAAAAAAAAAAAAAAAAAAAAAAAAAAAAAAAAAAAAAAAAAAAAAAAAADwPwAAAAAAAAAAAAAAAAAAAAAAAAAAAAAAAAAAAAAAAAAAAAAAAAAAAAAAAAAAAAAAAAAAAAAAAPA/AAAAAAAAAAAAAAAAAAAAAAAAAAAAAAAAAAAAAAAAAAAAAAAAAAAAAAAAAAAAAAAAAAAAAAAA8D8AAAAAAAAAAAAAAAAAAAAAAAAAAAAAAAAAAAAAAAAAAAAAAAAAAAAAAAAAAAAAAAAAAAAAAADwPwAAAAAAAAAAAAAAAAAAAAAAAAAAAAAAAAAAAAAAAAAAAAAAAAAAAAAAAAAAAAAAAAAAAAAAAPA/AAAAAAAAAAAAAAAAAAAAAAAAAAAAAAAAAAAAAAAAAAAAAAAAAAAAAAAAAAAAAAAAAAAAAAAA8D8AAAAAAAAAAAAAAAAAAAAAAAAAAAAAAAAAAAAAAAAAAAAAAAAAAAAAAAAAAAAAAAAAAAAAAADwPwAAAAAAAAAAAAAAAAAAAAAAAAAAAAAAAAAAAAAAAAAAAAAAAAAAAAAAAAAAAAAAAAAAAAAAAPA/AAAAAAAAAAAAAAAAAAAAAAAAAAAAAAAAAAAAAAAAAAAAAAAAAAAAAAAAAAAAAAAAAAAAAAAA8D8AAAAAAAAAAAAAAAAAAAAAAAAAAAAAAAAAAAAAAAAAAAAAAAAAAAAAAAAAAAAAAAAAAAAAAADwPwAAAAAAAAAAAAAAAAAAAAAAAAAAAAAAAAAAAAAAAAAAAAAAAAAAAAAAAAAAAAAAAAAAAAAAAPA/AAAAAAAAAAAAAAAAAAAAAAAAAAAAAAAAAAAAAAAAAAAAAAAAAAAAAAAAAAAAAAAAAAAAAAAA8D8AAAAAAAAAAAAAAAAAAAAAAAAAAAAAAAAAAAAAAAAAAAAAAAAAAAAAAAAAAAAAAAAAAAAAAADwPwAAAAAAAAAAAAAAAAAAAAAAAAAAAAAAAAAAAAAAAAAAAAAAAAAAAAAAAAAAAAAAAAAAAAAAAPA/AAAAAAAAAAAAAAAAAAAAAAAAAAAAAAAAAAAAAAAAAAAAAAAAAAAAAAAAAAAAAAAAAAAAAAAA8D8AAAAAAAAAAAAAAAAAAAAAAAAAAAAAAAAAAAAAAAAAAAAAAAAAAAAAAAAAAAAAAAAAAAAAAADwPwAAAAAAAAAAAAAAAAAAAAAAAAAAAAAAAAAAAAAAAAAAAAAAAAAAAAAAAAAAAAAAAAAAAAAAAPA/AAAAAAAAAAAAAAAAAAAAAAAAAAAAAAAAAAAAAAAAAAAAAAAAAAAAAAAAAAAAAAAAAAAAAAAA8D8AAAAAAAAAAAAAAAAAAAAAAAAAAAAAAAAAAAAAAAAAAAAAAAAAAAAAAAAAAAAAAAAAAAAAAADwPwAAAAAAAAAAAAAAAAAAAAAAAAAAAAAAAAAAAAAAAAAAAAAAAAAAAAAAAAAAAAAAAAAAAAAAAPA/AAAAAAAAAAAAAAAAAAAAAAAAAAAAAAAAAAAAAAAAAAAAAAAAAAAAAAAAAAAAAAAAAAAAAAAA8D8AAAAAAAAAAAAAAAAAAAAAAAAAAAAAAAAAAAAAAAAAAAAAAAAAAAAAAAAAAAAAAAAAAAAAAADwPwAAAAAAAAAAAAAAAAAAAAAAAAAAAAAAAAAAAAAAAAAAAAAAAAAAAAAAAAAAAAAAAAAAAAAAAPA/AAAAAAAAAAAAAAAAAAAAAAAAAAAAAAAAAAAAAAAAAAAAAAAAAAAAAAAAAAAAAAAAAAAAAAAA8D8AAAAAAAAAAAAAAAAAAAAAAAAAAAAAAAAAAAAAAAAAAAAAAAAAAAAAAAAAAAAAAAAAAAAAAADwPwAAAAAAAAAAAAAAAAAAAAAAAAAAAAAAAAAAAAAAAAAAAAAAAAAAAAAAAAAAAAAAAAAAAAAAAPA/AAAAAAAAAAAAAAAAAAAAAAAAAAAAAAAAAAAAAAAAAAAAAAAAAAAAAAAAAAAAAAAAAAAAAAAA8D8AAAAAAAAAAAAAAAAAAAAAAAAAAAAAAAAAAAAAAAAAAAAAAAAAAAAAAAAAAAAAAAAAAAAAAADwPwAAAAAAAAAAAAAAAAAAAAAAAAAAAAAAAAAAAAAAAAAAAAAAAAAAAAAAAAAAAAAAAAAAAAAAAPA/AAAAAAAAAAAAAAAAAAAAAAAAAAAAAAAAAAAAAAAAAAA=",
            "dtype": "f8"
           }
          },
          {
           "axis": {
            "matches": true
           },
           "label": "Thu",
           "values": {
            "bdata": "AAAAAAAA8D8AAAAAAAAAAAAAAAAAAAAAAAAAAAAAAAAAAAAAAAAAAAAAAAAAAAAAAAAAAAAAAAAAAAAAAADwPwAAAAAAAAAAAAAAAAAAAAAAAAAAAAAAAAAAAAAAAAAAAAAAAAAAAAAAAAAAAAAAAAAAAAAAAPA/AAAAAAAAAAAAAAAAAAAAAAAAAAAAAAAAAAAAAAAAAAAAAAAAAAAAAAAAAAAAAAAAAAAAAAAA8D8AAAAAAAAAAAAAAAAAAAAAAAAAAAAAAAAAAAAAAAAAAAAAAAAAAAAAAAAAAAAAAAAAAAAAAADwPwAAAAAAAAAAAAAAAAAAAAAAAAAAAAAAAAAAAAAAAAAAAAAAAAAAAAAAAAAAAAAAAAAAAAAAAPA/AAAAAAAAAAAAAAAAAAAAAAAAAAAAAAAAAAAAAAAAAAAAAAAAAAAAAAAAAAAAAAAAAAAAAAAA8D8AAAAAAAAAAAAAAAAAAAAAAAAAAAAAAAAAAAAAAAAAAAAAAAAAAAAAAAAAAAAAAAAAAAAAAADwPwAAAAAAAAAAAAAAAAAAAAAAAAAAAAAAAAAAAAAAAAAAAAAAAAAAAAAAAAAAAAAAAAAAAAAAAPA/AAAAAAAAAAAAAAAAAAAAAAAAAAAAAAAAAAAAAAAAAAAAAAAAAAAAAAAAAAAAAAAAAAAAAAAA8D8AAAAAAAAAAAAAAAAAAAAAAAAAAAAAAAAAAAAAAAAAAAAAAAAAAAAAAAAAAAAAAAAAAAAAAADwPwAAAAAAAAAAAAAAAAAAAAAAAAAAAAAAAAAAAAAAAAAAAAAAAAAAAAAAAAAAAAAAAAAAAAAAAPA/AAAAAAAAAAAAAAAAAAAAAAAAAAAAAAAAAAAAAAAAAAAAAAAAAAAAAAAAAAAAAAAAAAAAAAAA8D8AAAAAAAAAAAAAAAAAAAAAAAAAAAAAAAAAAAAAAAAAAAAAAAAAAAAAAAAAAAAAAAAAAAAAAADwPwAAAAAAAAAAAAAAAAAAAAAAAAAAAAAAAAAAAAAAAAAAAAAAAAAAAAAAAAAAAAAAAAAAAAAAAPA/AAAAAAAAAAAAAAAAAAAAAAAAAAAAAAAAAAAAAAAAAAAAAAAAAAAAAAAAAAAAAAAAAAAAAAAA8D8AAAAAAAAAAAAAAAAAAAAAAAAAAAAAAAAAAAAAAAAAAAAAAAAAAAAAAAAAAAAAAAAAAAAAAADwPwAAAAAAAAAAAAAAAAAAAAAAAAAAAAAAAAAAAAAAAAAAAAAAAAAAAAAAAAAAAAAAAAAAAAAAAPA/AAAAAAAAAAAAAAAAAAAAAAAAAAAAAAAAAAAAAAAAAAAAAAAAAAAAAAAAAAAAAAAAAAAAAAAA8D8AAAAAAAAAAAAAAAAAAAAAAAAAAAAAAAAAAAAAAAAAAAAAAAAAAAAAAAAAAAAAAAAAAAAAAADwPwAAAAAAAAAAAAAAAAAAAAAAAAAAAAAAAAAAAAAAAAAAAAAAAAAAAAAAAAAAAAAAAAAAAAAAAPA/AAAAAAAAAAAAAAAAAAAAAAAAAAAAAAAAAAAAAAAAAAAAAAAAAAAAAAAAAAAAAAAAAAAAAAAA8D8AAAAAAAAAAAAAAAAAAAAAAAAAAAAAAAAAAAAAAAAAAAAAAAAAAAAAAAAAAAAAAAAAAAAAAADwPwAAAAAAAAAAAAAAAAAAAAAAAAAAAAAAAAAAAAAAAAAAAAAAAAAAAAAAAAAAAAAAAAAAAAAAAPA/AAAAAAAAAAAAAAAAAAAAAAAAAAAAAAAAAAAAAAAAAAAAAAAAAAAAAAAAAAAAAAAAAAAAAAAA8D8AAAAAAAAAAAAAAAAAAAAAAAAAAAAAAAAAAAAAAAAAAAAAAAAAAAAAAAAAAAAAAAAAAAAAAADwPwAAAAAAAAAAAAAAAAAAAAAAAAAAAAAAAAAAAAAAAAAAAAAAAAAAAAAAAAAAAAAAAAAAAAAAAPA/AAAAAAAAAAAAAAAAAAAAAAAAAAAAAAAAAAAAAAAAAAAAAAAAAAAAAAAAAAAAAAAAAAAAAAAA8D8AAAAAAAAAAAAAAAAAAAAAAAAAAAAAAAAAAAAAAAAAAAAAAAAAAAAAAAAAAAAAAAAAAAAAAADwPwAAAAAAAAAAAAAAAAAAAAAAAAAAAAAAAAAAAAAAAAAAAAAAAAAAAAAAAAAAAAAAAAAAAAAAAPA/AAAAAAAAAAAAAAAAAAAAAAAAAAAAAAAAAAAAAAAAAAAAAAAAAAAAAAAAAAAAAAAAAAAAAAAA8D8AAAAAAAAAAAAAAAAAAAAAAAAAAAAAAAAAAAAAAAAAAAAAAAAAAAAAAAAAAAAAAAAAAAAAAADwPwAAAAAAAAAAAAAAAAAAAAAAAAAAAAAAAAAAAAAAAAAAAAAAAAAAAAAAAAAAAAAAAAAAAAAAAPA/AAAAAAAAAAAAAAAAAAAAAAAAAAAAAAAAAAAAAAAAAAAAAAAAAAAAAAAAAAAAAAAAAAAAAAAA8D8AAAAAAAAAAAAAAAAAAAAAAAAAAAAAAAAAAAAAAAAAAAAAAAAAAAAAAAAAAAAAAAAAAAAAAADwPwAAAAAAAAAAAAAAAAAAAAAAAAAAAAAAAAAAAAAAAAAAAAAAAAAAAAAAAAAAAAAAAAAAAAAAAPA/AAAAAAAAAAAAAAAAAAAAAAAAAAAAAAAAAAAAAAAAAAAAAAAAAAAAAAAAAAAAAAAAAAAAAAAA8D8AAAAAAAAAAAAAAAAAAAAAAAAAAAAAAAAAAAAAAAAAAAAAAAAAAAAAAAAAAAAAAAAAAAAAAADwPwAAAAAAAAAAAAAAAAAAAAAAAAAAAAAAAAAAAAAAAAAAAAAAAAAAAAAAAAAAAAAAAAAAAAAAAPA/AAAAAAAAAAAAAAAAAAAAAAAAAAAAAAAAAAAAAAAAAAAAAAAAAAAAAAAAAAAAAAAAAAAAAAAA8D8AAAAAAAAAAAAAAAAAAAAAAAAAAAAAAAAAAAAAAAAAAAAAAAAAAAAAAAAAAAAAAAAAAAAAAADwPwAAAAAAAAAAAAAAAAAAAAAAAAAAAAAAAAAAAAAAAAAAAAAAAAAAAAAAAAAAAAAAAAAAAAAAAPA/AAAAAAAAAAAAAAAAAAAAAAAAAAAAAAAAAAAAAAAAAAAAAAAAAAAAAAAAAAAAAAAAAAAAAAAA8D8AAAAAAAAAAAAAAAAAAAAAAAAAAAAAAAAAAAAAAAAAAAAAAAAAAAAAAAAAAAAAAAAAAAAAAADwPwAAAAAAAAAAAAAAAAAAAAAAAAAAAAAAAAAAAAAAAAAAAAAAAAAAAAAAAAAAAAAAAAAAAAAAAPA/AAAAAAAAAAAAAAAAAAAAAAAAAAAAAAAAAAAAAAAAAAAAAAAAAAAAAAAAAAAAAAAAAAAAAAAA8D8AAAAAAAAAAAAAAAAAAAAAAAAAAAAAAAAAAAAAAAAAAAAAAAAAAAAAAAAAAAAAAAAAAAAAAADwPwAAAAAAAAAAAAAAAAAAAAAAAAAAAAAAAAAAAAAAAAAAAAAAAAAAAAAAAAAAAAAAAAAAAAAAAPA/AAAAAAAAAAAAAAAAAAAAAAAAAAAAAAAAAAAAAAAAAAAAAAAAAAAAAAAAAAAAAAAAAAAAAAAA8D8AAAAAAAAAAAAAAAAAAAAAAAAAAAAAAAAAAAAAAAAAAAAAAAAAAAAAAAAAAAAAAAAAAAAAAADwPwAAAAAAAAAAAAAAAAAAAAAAAAAAAAAAAAAAAAAAAAAAAAAAAAAAAAAAAAAAAAAAAAAAAAAAAPA/AAAAAAAAAAAAAAAAAAAAAAAAAAAAAAAAAAAAAAAAAAAAAAAAAAAAAAAAAAAAAAAAAAAAAAAA8D8AAAAAAAAAAAAAAAAAAAAAAAAAAAAAAAAAAAAAAAAAAAAAAAAAAAAAAAAAAAAAAAAAAAAAAADwPwAAAAAAAAAAAAAAAAAAAAAAAAAAAAAAAAAAAAAAAAAAAAAAAAAAAAAAAAAAAAAAAAAAAAAAAPA/AAAAAAAAAAAAAAAAAAAAAAAAAAAAAAAAAAAAAAAAAAAAAAAAAAAAAAAAAAAAAAAAAAAAAAAA8D8AAAAAAAAAAAAAAAAAAAAAAAAAAAAAAAAAAAAAAAAAAAAAAAAAAAAAAAAAAAAAAAAAAAAAAADwPwAAAAAAAAAAAAAAAAAAAAAAAAAAAAAAAAAAAAAAAAAAAAAAAAAAAAAAAAAAAAAAAAAAAAAAAPA/AAAAAAAAAAAAAAAAAAAAAAAAAAAAAAAAAAAAAAAAAAAAAAAAAAAAAAAAAAAAAAAAAAAAAAAA8D8AAAAAAAAAAAAAAAAAAAAAAAAAAAAAAAAAAAAAAAAAAAAAAAAAAAAAAAAAAAAAAAAAAAAAAADwPwAAAAAAAAAAAAAAAAAAAAAAAAAAAAAAAAAAAAAAAAAAAAAAAAAAAAAAAAAAAAAAAAAAAAAAAPA/AAAAAAAAAAAAAAAAAAAAAAAAAAAAAAAAAAAAAAAAAAAAAAAAAAAAAAAAAAAAAAAAAAAAAAAA8D8AAAAAAAAAAAAAAAAAAAAAAAAAAAAAAAAAAAAAAAAAAAAAAAAAAAAAAAAAAAAAAAAAAAAAAADwPwAAAAAAAAAAAAAAAAAAAAAAAAAAAAAAAAAAAAAAAAAAAAAAAAAAAAAAAAAAAAAAAAAAAAAAAPA/AAAAAAAAAAAAAAAAAAAAAAAAAAAAAAAAAAAAAAAAAAAAAAAAAAAAAAAAAAAAAAAAAAAAAAAA8D8AAAAAAAAAAAAAAAAAAAAAAAAAAAAAAAAAAAAAAAAAAAAAAAAAAAAAAAAAAAAAAAAAAAAAAADwPwAAAAAAAAAAAAAAAAAAAAAAAAAAAAAAAAAAAAAAAAAAAAAAAAAAAAAAAAAAAAAAAAAAAAAAAPA/AAAAAAAAAAAAAAAAAAAAAAAAAAAAAAAAAAAAAAAAAAAAAAAAAAAAAAAAAAAAAAAAAAAAAAAA8D8AAAAAAAAAAAAAAAAAAAAAAAAAAAAAAAAAAAAAAAAAAAAAAAAAAAAAAAAAAAAAAAAAAAAAAADwPwAAAAAAAAAAAAAAAAAAAAAAAAAAAAAAAAAAAAAAAAAAAAAAAAAAAAAAAAAAAAAAAAAAAAAAAPA/AAAAAAAAAAAAAAAAAAAAAAAAAAAAAAAAAAAAAAAAAAAAAAAAAAAAAAAAAAAAAAAAAAAAAAAA8D8AAAAAAAAAAAAAAAAAAAAAAAAAAAAAAAA=",
            "dtype": "f8"
           }
          },
          {
           "axis": {
            "matches": true
           },
           "label": "Fri",
           "values": {
            "bdata": "AAAAAAAAAAAAAAAAAADwPwAAAAAAAAAAAAAAAAAAAAAAAAAAAAAAAAAAAAAAAAAAAAAAAAAAAAAAAAAAAAAAAAAAAAAAAPA/AAAAAAAAAAAAAAAAAAAAAAAAAAAAAAAAAAAAAAAAAAAAAAAAAAAAAAAAAAAAAAAAAAAAAAAA8D8AAAAAAAAAAAAAAAAAAAAAAAAAAAAAAAAAAAAAAAAAAAAAAAAAAAAAAAAAAAAAAAAAAAAAAADwPwAAAAAAAAAAAAAAAAAAAAAAAAAAAAAAAAAAAAAAAAAAAAAAAAAAAAAAAAAAAAAAAAAAAAAAAPA/AAAAAAAAAAAAAAAAAAAAAAAAAAAAAAAAAAAAAAAAAAAAAAAAAAAAAAAAAAAAAAAAAAAAAAAA8D8AAAAAAAAAAAAAAAAAAAAAAAAAAAAAAAAAAAAAAAAAAAAAAAAAAAAAAAAAAAAAAAAAAAAAAADwPwAAAAAAAAAAAAAAAAAAAAAAAAAAAAAAAAAAAAAAAAAAAAAAAAAAAAAAAAAAAAAAAAAAAAAAAPA/AAAAAAAAAAAAAAAAAAAAAAAAAAAAAAAAAAAAAAAAAAAAAAAAAAAAAAAAAAAAAAAAAAAAAAAA8D8AAAAAAAAAAAAAAAAAAAAAAAAAAAAAAAAAAAAAAAAAAAAAAAAAAAAAAAAAAAAAAAAAAAAAAADwPwAAAAAAAAAAAAAAAAAAAAAAAAAAAAAAAAAAAAAAAAAAAAAAAAAAAAAAAAAAAAAAAAAAAAAAAPA/AAAAAAAAAAAAAAAAAAAAAAAAAAAAAAAAAAAAAAAAAAAAAAAAAAAAAAAAAAAAAAAAAAAAAAAA8D8AAAAAAAAAAAAAAAAAAAAAAAAAAAAAAAAAAAAAAAAAAAAAAAAAAAAAAAAAAAAAAAAAAAAAAADwPwAAAAAAAAAAAAAAAAAAAAAAAAAAAAAAAAAAAAAAAAAAAAAAAAAAAAAAAAAAAAAAAAAAAAAAAPA/AAAAAAAAAAAAAAAAAAAAAAAAAAAAAAAAAAAAAAAAAAAAAAAAAAAAAAAAAAAAAAAAAAAAAAAA8D8AAAAAAAAAAAAAAAAAAAAAAAAAAAAAAAAAAAAAAAAAAAAAAAAAAAAAAAAAAAAAAAAAAAAAAADwPwAAAAAAAAAAAAAAAAAAAAAAAAAAAAAAAAAAAAAAAAAAAAAAAAAAAAAAAAAAAAAAAAAAAAAAAPA/AAAAAAAAAAAAAAAAAAAAAAAAAAAAAAAAAAAAAAAAAAAAAAAAAAAAAAAAAAAAAAAAAAAAAAAA8D8AAAAAAAAAAAAAAAAAAAAAAAAAAAAAAAAAAAAAAAAAAAAAAAAAAAAAAAAAAAAAAAAAAAAAAADwPwAAAAAAAAAAAAAAAAAAAAAAAAAAAAAAAAAAAAAAAAAAAAAAAAAAAAAAAAAAAAAAAAAAAAAAAPA/AAAAAAAAAAAAAAAAAAAAAAAAAAAAAAAAAAAAAAAAAAAAAAAAAAAAAAAAAAAAAAAAAAAAAAAA8D8AAAAAAAAAAAAAAAAAAAAAAAAAAAAAAAAAAAAAAAAAAAAAAAAAAAAAAAAAAAAAAAAAAAAAAADwPwAAAAAAAAAAAAAAAAAAAAAAAAAAAAAAAAAAAAAAAAAAAAAAAAAAAAAAAAAAAAAAAAAAAAAAAPA/AAAAAAAAAAAAAAAAAAAAAAAAAAAAAAAAAAAAAAAAAAAAAAAAAAAAAAAAAAAAAAAAAAAAAAAA8D8AAAAAAAAAAAAAAAAAAAAAAAAAAAAAAAAAAAAAAAAAAAAAAAAAAAAAAAAAAAAAAAAAAAAAAADwPwAAAAAAAAAAAAAAAAAAAAAAAAAAAAAAAAAAAAAAAAAAAAAAAAAAAAAAAAAAAAAAAAAAAAAAAPA/AAAAAAAAAAAAAAAAAAAAAAAAAAAAAAAAAAAAAAAAAAAAAAAAAAAAAAAAAAAAAAAAAAAAAAAA8D8AAAAAAAAAAAAAAAAAAAAAAAAAAAAAAAAAAAAAAAAAAAAAAAAAAAAAAAAAAAAAAAAAAAAAAADwPwAAAAAAAAAAAAAAAAAAAAAAAAAAAAAAAAAAAAAAAAAAAAAAAAAAAAAAAAAAAAAAAAAAAAAAAPA/AAAAAAAAAAAAAAAAAAAAAAAAAAAAAAAAAAAAAAAAAAAAAAAAAAAAAAAAAAAAAAAAAAAAAAAA8D8AAAAAAAAAAAAAAAAAAAAAAAAAAAAAAAAAAAAAAAAAAAAAAAAAAAAAAAAAAAAAAAAAAAAAAADwPwAAAAAAAAAAAAAAAAAAAAAAAAAAAAAAAAAAAAAAAAAAAAAAAAAAAAAAAAAAAAAAAAAAAAAAAPA/AAAAAAAAAAAAAAAAAAAAAAAAAAAAAAAAAAAAAAAAAAAAAAAAAAAAAAAAAAAAAAAAAAAAAAAA8D8AAAAAAAAAAAAAAAAAAAAAAAAAAAAAAAAAAAAAAAAAAAAAAAAAAAAAAAAAAAAAAAAAAAAAAADwPwAAAAAAAAAAAAAAAAAAAAAAAAAAAAAAAAAAAAAAAAAAAAAAAAAAAAAAAAAAAAAAAAAAAAAAAPA/AAAAAAAAAAAAAAAAAAAAAAAAAAAAAAAAAAAAAAAAAAAAAAAAAAAAAAAAAAAAAAAAAAAAAAAA8D8AAAAAAAAAAAAAAAAAAAAAAAAAAAAAAAAAAAAAAAAAAAAAAAAAAAAAAAAAAAAAAAAAAAAAAADwPwAAAAAAAAAAAAAAAAAAAAAAAAAAAAAAAAAAAAAAAAAAAAAAAAAAAAAAAAAAAAAAAAAAAAAAAPA/AAAAAAAAAAAAAAAAAAAAAAAAAAAAAAAAAAAAAAAAAAAAAAAAAAAAAAAAAAAAAAAAAAAAAAAA8D8AAAAAAAAAAAAAAAAAAAAAAAAAAAAAAAAAAAAAAAAAAAAAAAAAAAAAAAAAAAAAAAAAAAAAAADwPwAAAAAAAAAAAAAAAAAAAAAAAAAAAAAAAAAAAAAAAAAAAAAAAAAAAAAAAAAAAAAAAAAAAAAAAPA/AAAAAAAAAAAAAAAAAAAAAAAAAAAAAAAAAAAAAAAAAAAAAAAAAAAAAAAAAAAAAAAAAAAAAAAA8D8AAAAAAAAAAAAAAAAAAAAAAAAAAAAAAAAAAAAAAAAAAAAAAAAAAAAAAAAAAAAAAAAAAAAAAADwPwAAAAAAAAAAAAAAAAAAAAAAAAAAAAAAAAAAAAAAAAAAAAAAAAAAAAAAAAAAAAAAAAAAAAAAAPA/AAAAAAAAAAAAAAAAAAAAAAAAAAAAAAAAAAAAAAAAAAAAAAAAAAAAAAAAAAAAAAAAAAAAAAAA8D8AAAAAAAAAAAAAAAAAAAAAAAAAAAAAAAAAAAAAAAAAAAAAAAAAAAAAAAAAAAAAAAAAAAAAAADwPwAAAAAAAAAAAAAAAAAAAAAAAAAAAAAAAAAAAAAAAAAAAAAAAAAAAAAAAAAAAAAAAAAAAAAAAPA/AAAAAAAAAAAAAAAAAAAAAAAAAAAAAAAAAAAAAAAAAAAAAAAAAAAAAAAAAAAAAAAAAAAAAAAA8D8AAAAAAAAAAAAAAAAAAAAAAAAAAAAAAAAAAAAAAAAAAAAAAAAAAAAAAAAAAAAAAAAAAAAAAADwPwAAAAAAAAAAAAAAAAAAAAAAAAAAAAAAAAAAAAAAAAAAAAAAAAAAAAAAAAAAAAAAAAAAAAAAAPA/AAAAAAAAAAAAAAAAAAAAAAAAAAAAAAAAAAAAAAAAAAAAAAAAAAAAAAAAAAAAAAAAAAAAAAAA8D8AAAAAAAAAAAAAAAAAAAAAAAAAAAAAAAAAAAAAAAAAAAAAAAAAAAAAAAAAAAAAAAAAAAAAAADwPwAAAAAAAAAAAAAAAAAAAAAAAAAAAAAAAAAAAAAAAAAAAAAAAAAAAAAAAAAAAAAAAAAAAAAAAPA/AAAAAAAAAAAAAAAAAAAAAAAAAAAAAAAAAAAAAAAAAAAAAAAAAAAAAAAAAAAAAAAAAAAAAAAA8D8AAAAAAAAAAAAAAAAAAAAAAAAAAAAAAAAAAAAAAAAAAAAAAAAAAAAAAAAAAAAAAAAAAAAAAADwPwAAAAAAAAAAAAAAAAAAAAAAAAAAAAAAAAAAAAAAAAAAAAAAAAAAAAAAAAAAAAAAAAAAAAAAAPA/AAAAAAAAAAAAAAAAAAAAAAAAAAAAAAAAAAAAAAAAAAAAAAAAAAAAAAAAAAAAAAAAAAAAAAAA8D8AAAAAAAAAAAAAAAAAAAAAAAAAAAAAAAAAAAAAAAAAAAAAAAAAAAAAAAAAAAAAAAAAAAAAAADwPwAAAAAAAAAAAAAAAAAAAAAAAAAAAAAAAAAAAAAAAAAAAAAAAAAAAAAAAAAAAAAAAAAAAAAAAPA/AAAAAAAAAAAAAAAAAAAAAAAAAAAAAAAAAAAAAAAAAAAAAAAAAAAAAAAAAAAAAAAAAAAAAAAA8D8AAAAAAAAAAAAAAAAAAAAAAAAAAAAAAAAAAAAAAAAAAAAAAAAAAAAAAAAAAAAAAAAAAAAAAADwPwAAAAAAAAAAAAAAAAAAAAAAAAAAAAAAAAAAAAAAAAAAAAAAAAAAAAAAAAAAAAAAAAAAAAAAAPA/AAAAAAAAAAAAAAAAAAAAAAAAAAAAAAAAAAAAAAAAAAAAAAAAAAAAAAAAAAAAAAAAAAAAAAAA8D8AAAAAAAAAAAAAAAAAAAAAAAAAAAAAAAAAAAAAAAAAAAAAAAAAAAAAAAAAAAAAAAAAAAAAAADwPwAAAAAAAAAAAAAAAAAAAAAAAAAAAAAAAAAAAAAAAAAAAAAAAAAAAAAAAAAAAAAAAAAAAAAAAPA/AAAAAAAAAAAAAAAAAAAAAAAAAAAAAAAAAAAAAAAAAAAAAAAAAAAAAAAAAAAAAAAAAAAAAAAA8D8AAAAAAAAAAAAAAAAAAAAAAAAAAAAAAAAAAAAAAAAAAAAAAAAAAAAAAAAAAAAAAAAAAAAAAADwPwAAAAAAAAAAAAAAAAAAAAAAAAAAAAAAAAAAAAAAAAAAAAAAAAAAAAAAAAAAAAAAAAAAAAAAAPA/AAAAAAAAAAAAAAAAAAAAAAAAAAAAAAAAAAAAAAAAAAAAAAAAAAAAAAAAAAAAAAAAAAAAAAAA8D8AAAAAAAAAAAAAAAAAAAAAAAAAAAAAAAAAAAAAAAAAAAAAAAAAAAAAAAAAAAAAAAAAAAAAAADwPwAAAAAAAAAAAAAAAAAAAAA=",
            "dtype": "f8"
           }
          },
          {
           "axis": {
            "matches": true
           },
           "label": "Sat",
           "values": {
            "bdata": "AAAAAAAAAAAAAAAAAAAAAAAAAAAAAPA/AAAAAAAAAAAAAAAAAAAAAAAAAAAAAAAAAAAAAAAAAAAAAAAAAAAAAAAAAAAAAAAAAAAAAAAA8D8AAAAAAAAAAAAAAAAAAAAAAAAAAAAAAAAAAAAAAAAAAAAAAAAAAAAAAAAAAAAAAAAAAAAAAADwPwAAAAAAAAAAAAAAAAAAAAAAAAAAAAAAAAAAAAAAAAAAAAAAAAAAAAAAAAAAAAAAAAAAAAAAAPA/AAAAAAAAAAAAAAAAAAAAAAAAAAAAAAAAAAAAAAAAAAAAAAAAAAAAAAAAAAAAAAAAAAAAAAAA8D8AAAAAAAAAAAAAAAAAAAAAAAAAAAAAAAAAAAAAAAAAAAAAAAAAAAAAAAAAAAAAAAAAAAAAAADwPwAAAAAAAAAAAAAAAAAAAAAAAAAAAAAAAAAAAAAAAAAAAAAAAAAAAAAAAAAAAAAAAAAAAAAAAPA/AAAAAAAAAAAAAAAAAAAAAAAAAAAAAAAAAAAAAAAAAAAAAAAAAAAAAAAAAAAAAAAAAAAAAAAA8D8AAAAAAAAAAAAAAAAAAAAAAAAAAAAAAAAAAAAAAAAAAAAAAAAAAAAAAAAAAAAAAAAAAAAAAADwPwAAAAAAAAAAAAAAAAAAAAAAAAAAAAAAAAAAAAAAAAAAAAAAAAAAAAAAAAAAAAAAAAAAAAAAAPA/AAAAAAAAAAAAAAAAAAAAAAAAAAAAAAAAAAAAAAAAAAAAAAAAAAAAAAAAAAAAAAAAAAAAAAAA8D8AAAAAAAAAAAAAAAAAAAAAAAAAAAAAAAAAAAAAAAAAAAAAAAAAAAAAAAAAAAAAAAAAAAAAAADwPwAAAAAAAAAAAAAAAAAAAAAAAAAAAAAAAAAAAAAAAAAAAAAAAAAAAAAAAAAAAAAAAAAAAAAAAPA/AAAAAAAAAAAAAAAAAAAAAAAAAAAAAAAAAAAAAAAAAAAAAAAAAAAAAAAAAAAAAAAAAAAAAAAA8D8AAAAAAAAAAAAAAAAAAAAAAAAAAAAAAAAAAAAAAAAAAAAAAAAAAAAAAAAAAAAAAAAAAAAAAADwPwAAAAAAAAAAAAAAAAAAAAAAAAAAAAAAAAAAAAAAAAAAAAAAAAAAAAAAAAAAAAAAAAAAAAAAAPA/AAAAAAAAAAAAAAAAAAAAAAAAAAAAAAAAAAAAAAAAAAAAAAAAAAAAAAAAAAAAAAAAAAAAAAAA8D8AAAAAAAAAAAAAAAAAAAAAAAAAAAAAAAAAAAAAAAAAAAAAAAAAAAAAAAAAAAAAAAAAAAAAAADwPwAAAAAAAAAAAAAAAAAAAAAAAAAAAAAAAAAAAAAAAAAAAAAAAAAAAAAAAAAAAAAAAAAAAAAAAPA/AAAAAAAAAAAAAAAAAAAAAAAAAAAAAAAAAAAAAAAAAAAAAAAAAAAAAAAAAAAAAAAAAAAAAAAA8D8AAAAAAAAAAAAAAAAAAAAAAAAAAAAAAAAAAAAAAAAAAAAAAAAAAAAAAAAAAAAAAAAAAAAAAADwPwAAAAAAAAAAAAAAAAAAAAAAAAAAAAAAAAAAAAAAAAAAAAAAAAAAAAAAAAAAAAAAAAAAAAAAAPA/AAAAAAAAAAAAAAAAAAAAAAAAAAAAAAAAAAAAAAAAAAAAAAAAAAAAAAAAAAAAAAAAAAAAAAAA8D8AAAAAAAAAAAAAAAAAAAAAAAAAAAAAAAAAAAAAAAAAAAAAAAAAAAAAAAAAAAAAAAAAAAAAAADwPwAAAAAAAAAAAAAAAAAAAAAAAAAAAAAAAAAAAAAAAAAAAAAAAAAAAAAAAAAAAAAAAAAAAAAAAPA/AAAAAAAAAAAAAAAAAAAAAAAAAAAAAAAAAAAAAAAAAAAAAAAAAAAAAAAAAAAAAAAAAAAAAAAA8D8AAAAAAAAAAAAAAAAAAAAAAAAAAAAAAAAAAAAAAAAAAAAAAAAAAAAAAAAAAAAAAAAAAAAAAADwPwAAAAAAAAAAAAAAAAAAAAAAAAAAAAAAAAAAAAAAAAAAAAAAAAAAAAAAAAAAAAAAAAAAAAAAAPA/AAAAAAAAAAAAAAAAAAAAAAAAAAAAAAAAAAAAAAAAAAAAAAAAAAAAAAAAAAAAAAAAAAAAAAAA8D8AAAAAAAAAAAAAAAAAAAAAAAAAAAAAAAAAAAAAAAAAAAAAAAAAAAAAAAAAAAAAAAAAAAAAAADwPwAAAAAAAAAAAAAAAAAAAAAAAAAAAAAAAAAAAAAAAAAAAAAAAAAAAAAAAAAAAAAAAAAAAAAAAPA/AAAAAAAAAAAAAAAAAAAAAAAAAAAAAAAAAAAAAAAAAAAAAAAAAAAAAAAAAAAAAAAAAAAAAAAA8D8AAAAAAAAAAAAAAAAAAAAAAAAAAAAAAAAAAAAAAAAAAAAAAAAAAAAAAAAAAAAAAAAAAAAAAADwPwAAAAAAAAAAAAAAAAAAAAAAAAAAAAAAAAAAAAAAAAAAAAAAAAAAAAAAAAAAAAAAAAAAAAAAAPA/AAAAAAAAAAAAAAAAAAAAAAAAAAAAAAAAAAAAAAAAAAAAAAAAAAAAAAAAAAAAAAAAAAAAAAAA8D8AAAAAAAAAAAAAAAAAAAAAAAAAAAAAAAAAAAAAAAAAAAAAAAAAAAAAAAAAAAAAAAAAAAAAAADwPwAAAAAAAAAAAAAAAAAAAAAAAAAAAAAAAAAAAAAAAAAAAAAAAAAAAAAAAAAAAAAAAAAAAAAAAPA/AAAAAAAAAAAAAAAAAAAAAAAAAAAAAAAAAAAAAAAAAAAAAAAAAAAAAAAAAAAAAAAAAAAAAAAA8D8AAAAAAAAAAAAAAAAAAAAAAAAAAAAAAAAAAAAAAAAAAAAAAAAAAAAAAAAAAAAAAAAAAAAAAADwPwAAAAAAAAAAAAAAAAAAAAAAAAAAAAAAAAAAAAAAAAAAAAAAAAAAAAAAAAAAAAAAAAAAAAAAAPA/AAAAAAAAAAAAAAAAAAAAAAAAAAAAAAAAAAAAAAAAAAAAAAAAAAAAAAAAAAAAAAAAAAAAAAAA8D8AAAAAAAAAAAAAAAAAAAAAAAAAAAAAAAAAAAAAAAAAAAAAAAAAAAAAAAAAAAAAAAAAAAAAAADwPwAAAAAAAAAAAAAAAAAAAAAAAAAAAAAAAAAAAAAAAAAAAAAAAAAAAAAAAAAAAAAAAAAAAAAAAPA/AAAAAAAAAAAAAAAAAAAAAAAAAAAAAAAAAAAAAAAAAAAAAAAAAAAAAAAAAAAAAAAAAAAAAAAA8D8AAAAAAAAAAAAAAAAAAAAAAAAAAAAAAAAAAAAAAAAAAAAAAAAAAAAAAAAAAAAAAAAAAAAAAADwPwAAAAAAAAAAAAAAAAAAAAAAAAAAAAAAAAAAAAAAAAAAAAAAAAAAAAAAAAAAAAAAAAAAAAAAAPA/AAAAAAAAAAAAAAAAAAAAAAAAAAAAAAAAAAAAAAAAAAAAAAAAAAAAAAAAAAAAAAAAAAAAAAAA8D8AAAAAAAAAAAAAAAAAAAAAAAAAAAAAAAAAAAAAAAAAAAAAAAAAAAAAAAAAAAAAAAAAAAAAAADwPwAAAAAAAAAAAAAAAAAAAAAAAAAAAAAAAAAAAAAAAAAAAAAAAAAAAAAAAAAAAAAAAAAAAAAAAPA/AAAAAAAAAAAAAAAAAAAAAAAAAAAAAAAAAAAAAAAAAAAAAAAAAAAAAAAAAAAAAAAAAAAAAAAA8D8AAAAAAAAAAAAAAAAAAAAAAAAAAAAAAAAAAAAAAAAAAAAAAAAAAAAAAAAAAAAAAAAAAAAAAADwPwAAAAAAAAAAAAAAAAAAAAAAAAAAAAAAAAAAAAAAAAAAAAAAAAAAAAAAAAAAAAAAAAAAAAAAAPA/AAAAAAAAAAAAAAAAAAAAAAAAAAAAAAAAAAAAAAAAAAAAAAAAAAAAAAAAAAAAAAAAAAAAAAAA8D8AAAAAAAAAAAAAAAAAAAAAAAAAAAAAAAAAAAAAAAAAAAAAAAAAAAAAAAAAAAAAAAAAAAAAAADwPwAAAAAAAAAAAAAAAAAAAAAAAAAAAAAAAAAAAAAAAAAAAAAAAAAAAAAAAAAAAAAAAAAAAAAAAPA/AAAAAAAAAAAAAAAAAAAAAAAAAAAAAAAAAAAAAAAAAAAAAAAAAAAAAAAAAAAAAAAAAAAAAAAA8D8AAAAAAAAAAAAAAAAAAAAAAAAAAAAAAAAAAAAAAAAAAAAAAAAAAAAAAAAAAAAAAAAAAAAAAADwPwAAAAAAAAAAAAAAAAAAAAAAAAAAAAAAAAAAAAAAAAAAAAAAAAAAAAAAAAAAAAAAAAAAAAAAAPA/AAAAAAAAAAAAAAAAAAAAAAAAAAAAAAAAAAAAAAAAAAAAAAAAAAAAAAAAAAAAAAAAAAAAAAAA8D8AAAAAAAAAAAAAAAAAAAAAAAAAAAAAAAAAAAAAAAAAAAAAAAAAAAAAAAAAAAAAAAAAAAAAAADwPwAAAAAAAAAAAAAAAAAAAAAAAAAAAAAAAAAAAAAAAAAAAAAAAAAAAAAAAAAAAAAAAAAAAAAAAPA/AAAAAAAAAAAAAAAAAAAAAAAAAAAAAAAAAAAAAAAAAAAAAAAAAAAAAAAAAAAAAAAAAAAAAAAA8D8AAAAAAAAAAAAAAAAAAAAAAAAAAAAAAAAAAAAAAAAAAAAAAAAAAAAAAAAAAAAAAAAAAAAAAADwPwAAAAAAAAAAAAAAAAAAAAAAAAAAAAAAAAAAAAAAAAAAAAAAAAAAAAAAAAAAAAAAAAAAAAAAAPA/AAAAAAAAAAAAAAAAAAAAAAAAAAAAAAAAAAAAAAAAAAAAAAAAAAAAAAAAAAAAAAAAAAAAAAAA8D8AAAAAAAAAAAAAAAAAAAAAAAAAAAAAAAAAAAAAAAAAAAAAAAAAAAAAAAAAAAAAAAAAAAAAAADwPwAAAAAAAAAAAAAAAAAAAAAAAAAAAAAAAAAAAAAAAAAAAAAAAAAAAAAAAAAAAAAAAAAAAAAAAPA/AAAAAAAAAAAAAAAAAAAAAAAAAAAAAAAAAAAAAAAAAAAAAAAAAAAAAAAAAAAAAAAAAAAAAAAA8D8AAAAAAAAAAAAAAAAAAAAAAAAAAAAAAAAAAAAAAAAAAAAAAAAAAAAAAAAAAAAAAAAAAAAAAADwPwAAAAAAAAAAAAAAAAAAAAAAAAAAAAAAAAAAAAAAAAAAAAAAAAAAAAAAAAAAAAAAAAAAAAAAAPA/AAAAAAAAAAA=",
            "dtype": "f8"
           }
          },
          {
           "axis": {
            "matches": true
           },
           "label": "Sun",
           "values": {
            "bdata": "AAAAAAAAAAAAAAAAAAAAAAAAAAAAAAAAAAAAAAAA8D8AAAAAAAAAAAAAAAAAAAAAAAAAAAAAAAAAAAAAAAAAAAAAAAAAAAAAAAAAAAAAAAAAAAAAAADwPwAAAAAAAAAAAAAAAAAAAAAAAAAAAAAAAAAAAAAAAAAAAAAAAAAAAAAAAAAAAAAAAAAAAAAAAPA/AAAAAAAAAAAAAAAAAAAAAAAAAAAAAAAAAAAAAAAAAAAAAAAAAAAAAAAAAAAAAAAAAAAAAAAA8D8AAAAAAAAAAAAAAAAAAAAAAAAAAAAAAAAAAAAAAAAAAAAAAAAAAAAAAAAAAAAAAAAAAAAAAADwPwAAAAAAAAAAAAAAAAAAAAAAAAAAAAAAAAAAAAAAAAAAAAAAAAAAAAAAAAAAAAAAAAAAAAAAAPA/AAAAAAAAAAAAAAAAAAAAAAAAAAAAAAAAAAAAAAAAAAAAAAAAAAAAAAAAAAAAAAAAAAAAAAAA8D8AAAAAAAAAAAAAAAAAAAAAAAAAAAAAAAAAAAAAAAAAAAAAAAAAAAAAAAAAAAAAAAAAAAAAAADwPwAAAAAAAAAAAAAAAAAAAAAAAAAAAAAAAAAAAAAAAAAAAAAAAAAAAAAAAAAAAAAAAAAAAAAAAPA/AAAAAAAAAAAAAAAAAAAAAAAAAAAAAAAAAAAAAAAAAAAAAAAAAAAAAAAAAAAAAAAAAAAAAAAA8D8AAAAAAAAAAAAAAAAAAAAAAAAAAAAAAAAAAAAAAAAAAAAAAAAAAAAAAAAAAAAAAAAAAAAAAADwPwAAAAAAAAAAAAAAAAAAAAAAAAAAAAAAAAAAAAAAAAAAAAAAAAAAAAAAAAAAAAAAAAAAAAAAAPA/AAAAAAAAAAAAAAAAAAAAAAAAAAAAAAAAAAAAAAAAAAAAAAAAAAAAAAAAAAAAAAAAAAAAAAAA8D8AAAAAAAAAAAAAAAAAAAAAAAAAAAAAAAAAAAAAAAAAAAAAAAAAAAAAAAAAAAAAAAAAAAAAAADwPwAAAAAAAAAAAAAAAAAAAAAAAAAAAAAAAAAAAAAAAAAAAAAAAAAAAAAAAAAAAAAAAAAAAAAAAPA/AAAAAAAAAAAAAAAAAAAAAAAAAAAAAAAAAAAAAAAAAAAAAAAAAAAAAAAAAAAAAAAAAAAAAAAA8D8AAAAAAAAAAAAAAAAAAAAAAAAAAAAAAAAAAAAAAAAAAAAAAAAAAAAAAAAAAAAAAAAAAAAAAADwPwAAAAAAAAAAAAAAAAAAAAAAAAAAAAAAAAAAAAAAAAAAAAAAAAAAAAAAAAAAAAAAAAAAAAAAAPA/AAAAAAAAAAAAAAAAAAAAAAAAAAAAAAAAAAAAAAAAAAAAAAAAAAAAAAAAAAAAAAAAAAAAAAAA8D8AAAAAAAAAAAAAAAAAAAAAAAAAAAAAAAAAAAAAAAAAAAAAAAAAAAAAAAAAAAAAAAAAAAAAAADwPwAAAAAAAAAAAAAAAAAAAAAAAAAAAAAAAAAAAAAAAAAAAAAAAAAAAAAAAAAAAAAAAAAAAAAAAPA/AAAAAAAAAAAAAAAAAAAAAAAAAAAAAAAAAAAAAAAAAAAAAAAAAAAAAAAAAAAAAAAAAAAAAAAA8D8AAAAAAAAAAAAAAAAAAAAAAAAAAAAAAAAAAAAAAAAAAAAAAAAAAAAAAAAAAAAAAAAAAAAAAADwPwAAAAAAAAAAAAAAAAAAAAAAAAAAAAAAAAAAAAAAAAAAAAAAAAAAAAAAAAAAAAAAAAAAAAAAAPA/AAAAAAAAAAAAAAAAAAAAAAAAAAAAAAAAAAAAAAAAAAAAAAAAAAAAAAAAAAAAAAAAAAAAAAAA8D8AAAAAAAAAAAAAAAAAAAAAAAAAAAAAAAAAAAAAAAAAAAAAAAAAAAAAAAAAAAAAAAAAAAAAAADwPwAAAAAAAAAAAAAAAAAAAAAAAAAAAAAAAAAAAAAAAAAAAAAAAAAAAAAAAAAAAAAAAAAAAAAAAPA/AAAAAAAAAAAAAAAAAAAAAAAAAAAAAAAAAAAAAAAAAAAAAAAAAAAAAAAAAAAAAAAAAAAAAAAA8D8AAAAAAAAAAAAAAAAAAAAAAAAAAAAAAAAAAAAAAAAAAAAAAAAAAAAAAAAAAAAAAAAAAAAAAADwPwAAAAAAAAAAAAAAAAAAAAAAAAAAAAAAAAAAAAAAAAAAAAAAAAAAAAAAAAAAAAAAAAAAAAAAAPA/AAAAAAAAAAAAAAAAAAAAAAAAAAAAAAAAAAAAAAAAAAAAAAAAAAAAAAAAAAAAAAAAAAAAAAAA8D8AAAAAAAAAAAAAAAAAAAAAAAAAAAAAAAAAAAAAAAAAAAAAAAAAAAAAAAAAAAAAAAAAAAAAAADwPwAAAAAAAAAAAAAAAAAAAAAAAAAAAAAAAAAAAAAAAAAAAAAAAAAAAAAAAAAAAAAAAAAAAAAAAPA/AAAAAAAAAAAAAAAAAAAAAAAAAAAAAAAAAAAAAAAAAAAAAAAAAAAAAAAAAAAAAAAAAAAAAAAA8D8AAAAAAAAAAAAAAAAAAAAAAAAAAAAAAAAAAAAAAAAAAAAAAAAAAAAAAAAAAAAAAAAAAAAAAADwPwAAAAAAAAAAAAAAAAAAAAAAAAAAAAAAAAAAAAAAAAAAAAAAAAAAAAAAAAAAAAAAAAAAAAAAAPA/AAAAAAAAAAAAAAAAAAAAAAAAAAAAAAAAAAAAAAAAAAAAAAAAAAAAAAAAAAAAAAAAAAAAAAAA8D8AAAAAAAAAAAAAAAAAAAAAAAAAAAAAAAAAAAAAAAAAAAAAAAAAAAAAAAAAAAAAAAAAAAAAAADwPwAAAAAAAAAAAAAAAAAAAAAAAAAAAAAAAAAAAAAAAAAAAAAAAAAAAAAAAAAAAAAAAAAAAAAAAPA/AAAAAAAAAAAAAAAAAAAAAAAAAAAAAAAAAAAAAAAAAAAAAAAAAAAAAAAAAAAAAAAAAAAAAAAA8D8AAAAAAAAAAAAAAAAAAAAAAAAAAAAAAAAAAAAAAAAAAAAAAAAAAAAAAAAAAAAAAAAAAAAAAADwPwAAAAAAAAAAAAAAAAAAAAAAAAAAAAAAAAAAAAAAAAAAAAAAAAAAAAAAAAAAAAAAAAAAAAAAAPA/AAAAAAAAAAAAAAAAAAAAAAAAAAAAAAAAAAAAAAAAAAAAAAAAAAAAAAAAAAAAAAAAAAAAAAAA8D8AAAAAAAAAAAAAAAAAAAAAAAAAAAAAAAAAAAAAAAAAAAAAAAAAAAAAAAAAAAAAAAAAAAAAAADwPwAAAAAAAAAAAAAAAAAAAAAAAAAAAAAAAAAAAAAAAAAAAAAAAAAAAAAAAAAAAAAAAAAAAAAAAPA/AAAAAAAAAAAAAAAAAAAAAAAAAAAAAAAAAAAAAAAAAAAAAAAAAAAAAAAAAAAAAAAAAAAAAAAA8D8AAAAAAAAAAAAAAAAAAAAAAAAAAAAAAAAAAAAAAAAAAAAAAAAAAAAAAAAAAAAAAAAAAAAAAADwPwAAAAAAAAAAAAAAAAAAAAAAAAAAAAAAAAAAAAAAAAAAAAAAAAAAAAAAAAAAAAAAAAAAAAAAAPA/AAAAAAAAAAAAAAAAAAAAAAAAAAAAAAAAAAAAAAAAAAAAAAAAAAAAAAAAAAAAAAAAAAAAAAAA8D8AAAAAAAAAAAAAAAAAAAAAAAAAAAAAAAAAAAAAAAAAAAAAAAAAAAAAAAAAAAAAAAAAAAAAAADwPwAAAAAAAAAAAAAAAAAAAAAAAAAAAAAAAAAAAAAAAAAAAAAAAAAAAAAAAAAAAAAAAAAAAAAAAPA/AAAAAAAAAAAAAAAAAAAAAAAAAAAAAAAAAAAAAAAAAAAAAAAAAAAAAAAAAAAAAAAAAAAAAAAA8D8AAAAAAAAAAAAAAAAAAAAAAAAAAAAAAAAAAAAAAAAAAAAAAAAAAAAAAAAAAAAAAAAAAAAAAADwPwAAAAAAAAAAAAAAAAAAAAAAAAAAAAAAAAAAAAAAAAAAAAAAAAAAAAAAAAAAAAAAAAAAAAAAAPA/AAAAAAAAAAAAAAAAAAAAAAAAAAAAAAAAAAAAAAAAAAAAAAAAAAAAAAAAAAAAAAAAAAAAAAAA8D8AAAAAAAAAAAAAAAAAAAAAAAAAAAAAAAAAAAAAAAAAAAAAAAAAAAAAAAAAAAAAAAAAAAAAAADwPwAAAAAAAAAAAAAAAAAAAAAAAAAAAAAAAAAAAAAAAAAAAAAAAAAAAAAAAAAAAAAAAAAAAAAAAPA/AAAAAAAAAAAAAAAAAAAAAAAAAAAAAAAAAAAAAAAAAAAAAAAAAAAAAAAAAAAAAAAAAAAAAAAA8D8AAAAAAAAAAAAAAAAAAAAAAAAAAAAAAAAAAAAAAAAAAAAAAAAAAAAAAAAAAAAAAAAAAAAAAADwPwAAAAAAAAAAAAAAAAAAAAAAAAAAAAAAAAAAAAAAAAAAAAAAAAAAAAAAAAAAAAAAAAAAAAAAAPA/AAAAAAAAAAAAAAAAAAAAAAAAAAAAAAAAAAAAAAAAAAAAAAAAAAAAAAAAAAAAAAAAAAAAAAAA8D8AAAAAAAAAAAAAAAAAAAAAAAAAAAAAAAAAAAAAAAAAAAAAAAAAAAAAAAAAAAAAAAAAAAAAAADwPwAAAAAAAAAAAAAAAAAAAAAAAAAAAAAAAAAAAAAAAAAAAAAAAAAAAAAAAAAAAAAAAAAAAAAAAPA/AAAAAAAAAAAAAAAAAAAAAAAAAAAAAAAAAAAAAAAAAAAAAAAAAAAAAAAAAAAAAAAAAAAAAAAA8D8AAAAAAAAAAAAAAAAAAAAAAAAAAAAAAAAAAAAAAAAAAAAAAAAAAAAAAAAAAAAAAAAAAAAAAADwPwAAAAAAAAAAAAAAAAAAAAAAAAAAAAAAAAAAAAAAAAAAAAAAAAAAAAAAAAAAAAAAAAAAAAAAAPA/AAAAAAAAAAAAAAAAAAAAAAAAAAAAAAAAAAAAAAAAAAAAAAAAAAAAAAAAAAAAAAAAAAAAAAAA8D8AAAAAAAAAAAAAAAAAAAAAAAAAAAAAAAAAAAAAAAAAAAAAAAAAAAAAAAAAAAAAAAAAAAAAAADwPwAAAAAAAAAAAAAAAAAAAAAAAAAAAAAAAAAAAAAAAAAAAAAAAAAAAAAAAAAAAAAAAAAAAAAAAPA/AAAAAAAAAAAAAAAAAAAAAAAAAAAAAAAAAAAAAAAAAAAAAAAAAAAAAAAAAAAAAAAAAAAAAAAA8D8=",
            "dtype": "f8"
           }
          },
          {
           "axis": {
            "matches": true
           },
           "label": "holiday",
           "values": {
            "bdata": "AAAAAAAAAAAAAAAAAAAAAAAAAAAAAAAAAAAAAAAAAAAAAAAAAAAAAAAAAAAAAAAAAAAAAAAAAAAAAAAAAAAAAAAAAAAAAAAAAAAAAAAAAAAAAAAAAAAAAAAAAAAAAAAAAAAAAAAAAAAAAAAAAAAAAAAAAAAAAAAAAAAAAAAAAAAAAAAAAAAAAAAAAAAAAAAAAAAAAAAAAAAAAAAAAAAAAAAAAAAAAAAAAAAAAAAAAAAAAAAAAAAAAAAAAAAAAAAAAAAAAAAAAAAAAAAAAAAAAAAAAAAAAAAAAAAAAAAAAAAAAAAAAAAAAAAAAAAAAAAAAAAAAAAAAAAAAAAAAAAAAAAAAAAAAAAAAAAAAAAAAAAAAAAAAAAAAAAAAAAAAAAAAAAAAAAAAAAAAAAAAAAAAAAAAAAAAAAAAAAAAAAAAAAAAAAAAAAAAAAAAAAAAAAAAAAAAAAAAAAAAAAAAAAAAAAAAAAAAAAAAAAAAAAAAAAAAAAAAAAAAAAAAAAAAAAAAAAAAAAAAAAAAAAAAAAAAAAAAAAAAAAAAAAAAAAAAAAAAAAAAAAAAAAAAAAAAAAAAAAAAAAAAAAAAAAAAAAAAAAAAAAAAAAAAAAAAAAAAAAAAAAAAAAAAAAAAAAAAAAAAAAAAAAAAAAAAAAAAAAAAAAAAAAAAAAAAAAAAAAAAAAAAAAAAAAAAAAAAAAAAAAAAAAAAAAAAAAAAAAAAAAAAAAAAAAAAAAAAAAAAAAAAAAAAAAAAAAAAAAAAAAAAAAAAAAAAAAAAAAAAAAAAAAAAAAAAAAAAAAAAAAAAAAAAAAAAAAAAAAAAAAAAAAAAAAAAAAAAAAAAAAAAAAAAAAAAAAAAAAAAAAAAAAAAAAAAAAAAAAAAAAAAAAAAAAAAAAAAAAAAAAAAAAAAAAAAAAAAAAAAAAAAAAAAAAAAAAAAAAAAAAAAAAAAAAAAAAAAAAAAAAAAAAAAAAAAAAAAAAAAAAAAAAAAAAAAAAAAAAAAAAAAAAAAAAAAAAAAAAAAAAAAAAAAAAAAAAAAAAAAAAAAAAAAAAAAAAAAAAAAAAAAAAAAAAAAAAAAAAAAAAAAAAAAAAAAAAAAAAAAAAAAAAAAAAAAAAAAAAAAAAAAAAAAAAAAAAAAAAAAAAAAAAAAAAAAAAAAAAAAAAAAAAAAAAAAAAAAAAAAAAAAAAAAAAAAAAAAAAAAAAAAAAAAAAAAAAAAAAAAAAAAAAAAAAAAAAAAAAAAAAAAAAAAAAAAAAAAAAAAAAAAAAAAAAAAAAAAAAAAAAAAAAAAAAAAAAAAAAAAAAAAAAAAAAAAAAAAAAAAAAAAAAAAAAAAAAAAAAAAAAAAAAAAAAAAAAAAAAAAAAAAAAAAAAAAAAAAAAAAAAAAAAAAAAAAAAAAAAAAAAAAAAAAAAAAAAAAAAAAAAAAAAAAAAAAAAAAAAAAAAAAAAAAAAAAAAAAAAAAAAAAAAAAAAAAAAAAAAAAAAAAAAAAAAAAAAAAAAAAAAAAAAAAAAAAAAAAAAAAAAAAAAAAAAAAAAAAAAAAAAAAAAAAAAAAAAAAAAAAAAAAAAAAAAAAAAAAAAAAAAAAAAAAAAAAAAAAAAAAAAAAAAAAAAAAAAAAAAAAAAAAAAAAAAAAAAAAAAAAAAAAAAAAAAAAAAAAAAAAAAAAAAAAAAAAAAAAAAAAAAAAAAAAAAAAAAAAAAAAAAAAAAAAAAAAAAAAAAAAAAAAAAAAAAAAAAAAAAAAAAAAAAAAAAAAAAAAAAAAAAAAAAAAAAAAAAAAAAAAAAAAAAAAAAAAAAAAAAAAAAAAAAAAAAAAAAAAAAAAAAAAAAAAAAAAAAAAAAAAAAAAAAAAAAAAAAAAAAAAAAAAAAAAAAAAAAAAAAAAAAAAAAAAAAAAAAAAAAAAAAAAAAAAAAAAAAAAAAAAAAAAAAAAAAAAAAAAAAAAAAAAAAAAAAAAAAAAAAAAAAAAAAAAAAAAAAAAAAAAAAAAAAAAAAAAAAAAAAAAAAAAAAAAAAAAAAAAAAAAAAAAAAAAAAAAAAAAAAAAAAAAAAAAAAAAAAAAAAAAAAAAAAAAAAAAAAAAAAAAAAAAAAAAAAAAAAAAAAAAAAAAAAAAAAAAAAAAAAAAAAAAAAAAAAAAAAAAAAAAAAAAAAAAAAAAAAAAAAAAAAAAAAAAAAAAAAAAAAAAAAAAAAAAAAAAAAAAAAAAAAAAAAAAAAAAAAAAAAAAAAAAAAAAAAAAAAAAAAAAAAAAAAAAAAAAAAAAAAAAAAAAAAAAAAAAAAAAAAAAAAAAAAAAAAAAAAAAAAAAAAAAAAAAAAAAAAAAAAAAAAAAAAAAAAAAAAAAAAAAAAAAAAAAAAAAAAAAAAAAAAAAAAAAAAAAAAAAAAAAAAAAAAAAAAAAAAAAAAAAAAAAAAAAAAAAAAAAAAAAAAAAAAAAAAAAAAAAAAAAAAAAAAAAAAAAAAAAAAAAAAAAAAAAAAAAAAAAAAAAAAAAAAAAAAAAAAAAAAAAAAAAAAAAAAAAAAAAAAAAAAAAAAAAAAAAAAAAAAAAAAAAAAAAAAAAAAAAAAAAAAAAAAAAAAAAAAAAAAAAAAAAAAAAAAAAAAAAAAAAAAAAAAAAAAAAAAAAAAAAAAAAAAAAAAAAAAAAAAAAAAAAAAAAAAAAAAAAAAAAAAAAAAAAAAAAAAAAAAAAAAAAAAAAAAAAAAAAAAAAAAAAAAAAAAAAAAAAAAAAAAAAAAAAAAAAAAAAAAAAAAAAAAAAAAAAAAAAAAAAAAAAAAAAAAAAAAAAAAAAAAAAAAAAAAAAAAAAAAAAAAAAAAAAAAAAAAAAAAAAAAAAAAAAAAAAAAAAAAAAAAAAAAAAAAAAAAAAAAAAAAAAAAAAAAAAAAAAAAAAAAAAAAAAAAAAAAAAAAAAAAAAAAAAAAAAAAAAAAAAAAAAAAAAAAAAAAAAAAAAAAAAAAAAAAAAAAAAAAAAAAAAAAAAAAAAAAAAAAAAAAAAAAAAAAAAAAAAAAAAAAAAAAAAAAAAAAAAAAAAAAAAAAAAAAAAAAAAAAAAAAAAAAAAAAAAAAAAAAAAAAAAAAAAAAAAAAAAAAAAAAAAAAAAAAAAAAAAAAAAAAAAAAAAAAAAAAAAAAAAAAAAAAAAAAAAAAAAAAAAAAAAAAAAAAAAAAAAAAAAAAAAAAAAAAAAAAAAAAAAAAAAAAAAAAAAAAAAAAAAAAAAAAAAAAAAAAAAAAAAAAAAAAAAAAAAAAAAAAAAAAAAAAAAAAAAAAAAAAAAAAAAAAAAAAAAAAAAAAAAAAAAAAAAAAAAAAAAAAAAAAAAAAAAAAAAAAAAAAAAAAAAAAAAAAAAAAAAAAAAAAAAAAAAAAAAAAAAAAAAAAAAAAAAAAAAAAAAAAAAAAAAAAAAAAAAAAAAAAAAAAAAAAAAAAAAAAAAAAAAAAAAAAAAAAAAAAAAAAAAAAAAAAAAAAAAAAAAAAAAAAAAAAAAAAAAAAAAAAAAAAAAAAAAAAAAAAAAAAAAAAAAAAAAAAAAAAAAAAAAAAAAAAAAAAAAAAAAAAAAAAAAAAAAAAAAAAAAAAAAAAAAAAAAAAAAAAAAAAAAAAAAAAAAAAAAAAAAAAAAAAAAAAAAAAAAAAAAAAAAAAAAAAAAAAAAAAAAAAAAAAAAAAAAAAAAAAAAAAAAAAAAAAAAAAAAAAAAAAAAAAAAAAAAAAAAAAAAAAAAAAAAAAAAAAAAAAAAAAAAAAAAAAAAAAAAAAAAAAAAAAAAAAAAAAAAAAAAAAAAAAAAAAAAAAAAAAAAAAAAAAAAAAAAAAAAAAAAAAAAAAAAAAAAAAAAAAAAAAAAAAAAAAAAAAAAAAAAAAAAAAAAAAAAAAAAAAAAAAAAAAAAAAAAAAAAAAAAAAAAAAAAAAAAAAAAAAAAAAAAAAAAAAAAAAAAAAAAAAAAAAAAAAAAAAAAAAAAAAAAAAAAAAAAAAAAAAAAAAAAAAAAAAAAAAAAAAAAAAAAAAAAAAAAAAAAAAAAAAAAAAAAAAAAAAAAAAAAAAAAAAAAAAAAAAAAAAAAAAAAAAAAAAAAAAAAAAAAAAAAAAAAAAAAAAAAAAAAAAAAAAAAAAAAAAAAAAAAAAAAAAAAAAAAAAAAAAAAAAAAAAAAAAAAAAAAAAAAAAAAAAAAAAAAAAAAAAAAAAAAAAAAAAAAAAAAAAAAAAAAAAAAAAAAAAAAAAAAAAAAAAAAAAAAAAAAAAAAAAAAAAAAAAAAAAAAAAAAAAAAAAAAAAAAAAAAAAAAAAAAAAAAAAAAAAAAAAAAAAAAAAAAAAAAAAAAAAAAAAAAAAAAAAAAAAAAAAAAAAAAAAAAAAAAAAAAAAAAAAAAAAAAAAAAAAAAAAAAAAAAAAAAAAAAAAAAAAAAAAAAAAAAAAAAAAAAAAAAAAAAAAAAAAAAAAAAAAAAAAAAAAAAAAAAAAAAAAAAAAAAAAAAAAAAAAAAAAAAAAAAAAAAAAAAAAAAAAAAAAAAAAAAAAAAAAAAAAAAAAAAAAAAAAAAAAAAAAAAAAAAAAAAAAAAAAAAAAAAAAAAAAAAAAAAAAAAAAAAAAAAAAAAAAAAAAAAAAAAAAAAAAAAAAAAAAAAAAAAAAAAAAAAAAAAAAAAAAAAAAAAAAAAAAAAAAAAAAAAAAAAAAAAAAAAAAAAAAAAAAAAAAAAAAAAAAAAAAAAAAAAAAAAAAAAAAAAAAAAAAAAAAAAAAAAAAAAAAAAAAAAAAAAAAAAAAAAAAAAAAAAAAAAAAAAAAAAAAAAAAAAAAAAAAAAAAAAAAAAAAAAAAAAAAAAAAAAAAAAAAAAAAAAAAAAAAAAAAAAAAAAAAAAAAAAAAAAAAAAAAAAAAAAAAAAAAAAAAAAAAAAAAAAAAAAAAAAAAAAAAAAAAAAAAAAAAAAAAAAAAAAAAAAAAAAAAAAAAAAAAAAAAAAAAAAAAAAAAAAAAAAAAAAAAAAAAAAAAAAAAAAAAAAAAAAAAAAAAAAAAAAAAAAAAAAAAAAAAAAAAAAAAAAAAAAAAAAAAAAAAAAAAAAAAAAAAAAAAAAAAAAAAAAAAAAAAAAAAAAAAAAAAAAAAAAAAAAAAAAAAAAAAAAAAAAAAAAAAAAAAAAAAAAAAAAAAAAAAAAAAAAAAAAAAAAAAAAAAAAAAAAAAAAAAAAAAAAAAAAAAAAAAAAAAAAAAAAAAAAAAAAAAAAAAAAAAAAAA=",
            "dtype": "f8"
           }
          },
          {
           "axis": {
            "matches": true
           },
           "label": "PRCP_mm_y",
           "values": {
            "bdata": "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",
            "dtype": "f8"
           }
          },
          {
           "axis": {
            "matches": true
           },
           "label": "dry day_y",
           "values": {
            "bdata": "AQEBAAABAQEBAQAAAAEBAQEAAAAAAQEAAAEBAQEBAQEBAQEAAQEBAQAAAAABAQEBAQEBAQEAAAABAQEAAAEBAQAAAQEBAQEBAQEBAAABAAEBAQEBAQEBAAEAAQEBAQEBAQEBAAABAAAAAAABAQEBAQABAQEAAQEBAQEAAQAAAAABAQEBAQEAAQEAAQAAAQEAAQEAAAAAAAABAQEBAQEBAQEAAQEBAQAAAAEBAQEBAAAAAAEAAQABAQAAAAEBAAAAAAABAQAAAQEBAQAAAAAAAQEBAQAAAQAAAAEBAQEBAQEBAQAAAAEAAAEAAQEAAQEBAAAAAQEBAQAAAAEBAQAAAAEBAQEAAQEBAQEBAQEBAQEAAAEBAQEAAQEBAQABAAEBAQEBAQEBAQEBAAABAQAAAAABAQABAAABAQAAAAAAAQEBAQEBAAABAQABAAABAQEBAQEAAAABAQEAAQEAAAEAAQEBAQEBAQEBAQEBAQEBAQEBAQAAAAEAAAABAQEAAAEAAAAAAQEAAAAAAQEBAQEBAAABAQEBAAAAAAABAQAAAAABAQEAAAAAAAEAAQEAAAEBAQABAQEBAQEBAQABAQAAAQEBAQABAQEBAAEAAQABAQEAAQEBAQEBAAEBAQEAAAEBAAABAAABAA==",
            "dtype": "i1"
           }
          },
          {
           "axis": {
            "matches": true
           },
           "label": "Temp (C)_y",
           "values": {
            "bdata": "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",
            "dtype": "f8"
           }
          },
          {
           "axis": {
            "matches": true
           },
           "label": "annual",
           "values": {
            "bdata": "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",
            "dtype": "f8"
           }
          }
         ],
         "hovertemplate": "%{xaxis.title.text}=%{x}<br>%{yaxis.title.text}=%{y}<extra></extra>",
         "legendgroup": "",
         "marker": {
          "color": "#636efa",
          "symbol": "circle"
         },
         "name": "",
         "showlegend": false,
         "type": "splom"
        }
       ],
       "layout": {
        "dragmode": "select",
        "legend": {
         "tracegroupgap": 0
        },
        "margin": {
         "t": 60
        },
        "template": {
         "data": {
          "bar": [
           {
            "error_x": {
             "color": "#2a3f5f"
            },
            "error_y": {
             "color": "#2a3f5f"
            },
            "marker": {
             "line": {
              "color": "#E5ECF6",
              "width": 0.5
             },
             "pattern": {
              "fillmode": "overlay",
              "size": 10,
              "solidity": 0.2
             }
            },
            "type": "bar"
           }
          ],
          "barpolar": [
           {
            "marker": {
             "line": {
              "color": "#E5ECF6",
              "width": 0.5
             },
             "pattern": {
              "fillmode": "overlay",
              "size": 10,
              "solidity": 0.2
             }
            },
            "type": "barpolar"
           }
          ],
          "carpet": [
           {
            "aaxis": {
             "endlinecolor": "#2a3f5f",
             "gridcolor": "white",
             "linecolor": "white",
             "minorgridcolor": "white",
             "startlinecolor": "#2a3f5f"
            },
            "baxis": {
             "endlinecolor": "#2a3f5f",
             "gridcolor": "white",
             "linecolor": "white",
             "minorgridcolor": "white",
             "startlinecolor": "#2a3f5f"
            },
            "type": "carpet"
           }
          ],
          "choropleth": [
           {
            "colorbar": {
             "outlinewidth": 0,
             "ticks": ""
            },
            "type": "choropleth"
           }
          ],
          "contour": [
           {
            "colorbar": {
             "outlinewidth": 0,
             "ticks": ""
            },
            "colorscale": [
             [
              0,
              "#0d0887"
             ],
             [
              0.1111111111111111,
              "#46039f"
             ],
             [
              0.2222222222222222,
              "#7201a8"
             ],
             [
              0.3333333333333333,
              "#9c179e"
             ],
             [
              0.4444444444444444,
              "#bd3786"
             ],
             [
              0.5555555555555556,
              "#d8576b"
             ],
             [
              0.6666666666666666,
              "#ed7953"
             ],
             [
              0.7777777777777778,
              "#fb9f3a"
             ],
             [
              0.8888888888888888,
              "#fdca26"
             ],
             [
              1,
              "#f0f921"
             ]
            ],
            "type": "contour"
           }
          ],
          "contourcarpet": [
           {
            "colorbar": {
             "outlinewidth": 0,
             "ticks": ""
            },
            "type": "contourcarpet"
           }
          ],
          "heatmap": [
           {
            "colorbar": {
             "outlinewidth": 0,
             "ticks": ""
            },
            "colorscale": [
             [
              0,
              "#0d0887"
             ],
             [
              0.1111111111111111,
              "#46039f"
             ],
             [
              0.2222222222222222,
              "#7201a8"
             ],
             [
              0.3333333333333333,
              "#9c179e"
             ],
             [
              0.4444444444444444,
              "#bd3786"
             ],
             [
              0.5555555555555556,
              "#d8576b"
             ],
             [
              0.6666666666666666,
              "#ed7953"
             ],
             [
              0.7777777777777778,
              "#fb9f3a"
             ],
             [
              0.8888888888888888,
              "#fdca26"
             ],
             [
              1,
              "#f0f921"
             ]
            ],
            "type": "heatmap"
           }
          ],
          "histogram": [
           {
            "marker": {
             "pattern": {
              "fillmode": "overlay",
              "size": 10,
              "solidity": 0.2
             }
            },
            "type": "histogram"
           }
          ],
          "histogram2d": [
           {
            "colorbar": {
             "outlinewidth": 0,
             "ticks": ""
            },
            "colorscale": [
             [
              0,
              "#0d0887"
             ],
             [
              0.1111111111111111,
              "#46039f"
             ],
             [
              0.2222222222222222,
              "#7201a8"
             ],
             [
              0.3333333333333333,
              "#9c179e"
             ],
             [
              0.4444444444444444,
              "#bd3786"
             ],
             [
              0.5555555555555556,
              "#d8576b"
             ],
             [
              0.6666666666666666,
              "#ed7953"
             ],
             [
              0.7777777777777778,
              "#fb9f3a"
             ],
             [
              0.8888888888888888,
              "#fdca26"
             ],
             [
              1,
              "#f0f921"
             ]
            ],
            "type": "histogram2d"
           }
          ],
          "histogram2dcontour": [
           {
            "colorbar": {
             "outlinewidth": 0,
             "ticks": ""
            },
            "colorscale": [
             [
              0,
              "#0d0887"
             ],
             [
              0.1111111111111111,
              "#46039f"
             ],
             [
              0.2222222222222222,
              "#7201a8"
             ],
             [
              0.3333333333333333,
              "#9c179e"
             ],
             [
              0.4444444444444444,
              "#bd3786"
             ],
             [
              0.5555555555555556,
              "#d8576b"
             ],
             [
              0.6666666666666666,
              "#ed7953"
             ],
             [
              0.7777777777777778,
              "#fb9f3a"
             ],
             [
              0.8888888888888888,
              "#fdca26"
             ],
             [
              1,
              "#f0f921"
             ]
            ],
            "type": "histogram2dcontour"
           }
          ],
          "mesh3d": [
           {
            "colorbar": {
             "outlinewidth": 0,
             "ticks": ""
            },
            "type": "mesh3d"
           }
          ],
          "parcoords": [
           {
            "line": {
             "colorbar": {
              "outlinewidth": 0,
              "ticks": ""
             }
            },
            "type": "parcoords"
           }
          ],
          "pie": [
           {
            "automargin": true,
            "type": "pie"
           }
          ],
          "scatter": [
           {
            "fillpattern": {
             "fillmode": "overlay",
             "size": 10,
             "solidity": 0.2
            },
            "type": "scatter"
           }
          ],
          "scatter3d": [
           {
            "line": {
             "colorbar": {
              "outlinewidth": 0,
              "ticks": ""
             }
            },
            "marker": {
             "colorbar": {
              "outlinewidth": 0,
              "ticks": ""
             }
            },
            "type": "scatter3d"
           }
          ],
          "scattercarpet": [
           {
            "marker": {
             "colorbar": {
              "outlinewidth": 0,
              "ticks": ""
             }
            },
            "type": "scattercarpet"
           }
          ],
          "scattergeo": [
           {
            "marker": {
             "colorbar": {
              "outlinewidth": 0,
              "ticks": ""
             }
            },
            "type": "scattergeo"
           }
          ],
          "scattergl": [
           {
            "marker": {
             "colorbar": {
              "outlinewidth": 0,
              "ticks": ""
             }
            },
            "type": "scattergl"
           }
          ],
          "scattermap": [
           {
            "marker": {
             "colorbar": {
              "outlinewidth": 0,
              "ticks": ""
             }
            },
            "type": "scattermap"
           }
          ],
          "scattermapbox": [
           {
            "marker": {
             "colorbar": {
              "outlinewidth": 0,
              "ticks": ""
             }
            },
            "type": "scattermapbox"
           }
          ],
          "scatterpolar": [
           {
            "marker": {
             "colorbar": {
              "outlinewidth": 0,
              "ticks": ""
             }
            },
            "type": "scatterpolar"
           }
          ],
          "scatterpolargl": [
           {
            "marker": {
             "colorbar": {
              "outlinewidth": 0,
              "ticks": ""
             }
            },
            "type": "scatterpolargl"
           }
          ],
          "scatterternary": [
           {
            "marker": {
             "colorbar": {
              "outlinewidth": 0,
              "ticks": ""
             }
            },
            "type": "scatterternary"
           }
          ],
          "surface": [
           {
            "colorbar": {
             "outlinewidth": 0,
             "ticks": ""
            },
            "colorscale": [
             [
              0,
              "#0d0887"
             ],
             [
              0.1111111111111111,
              "#46039f"
             ],
             [
              0.2222222222222222,
              "#7201a8"
             ],
             [
              0.3333333333333333,
              "#9c179e"
             ],
             [
              0.4444444444444444,
              "#bd3786"
             ],
             [
              0.5555555555555556,
              "#d8576b"
             ],
             [
              0.6666666666666666,
              "#ed7953"
             ],
             [
              0.7777777777777778,
              "#fb9f3a"
             ],
             [
              0.8888888888888888,
              "#fdca26"
             ],
             [
              1,
              "#f0f921"
             ]
            ],
            "type": "surface"
           }
          ],
          "table": [
           {
            "cells": {
             "fill": {
              "color": "#EBF0F8"
             },
             "line": {
              "color": "white"
             }
            },
            "header": {
             "fill": {
              "color": "#C8D4E3"
             },
             "line": {
              "color": "white"
             }
            },
            "type": "table"
           }
          ]
         },
         "layout": {
          "annotationdefaults": {
           "arrowcolor": "#2a3f5f",
           "arrowhead": 0,
           "arrowwidth": 1
          },
          "autotypenumbers": "strict",
          "coloraxis": {
           "colorbar": {
            "outlinewidth": 0,
            "ticks": ""
           }
          },
          "colorscale": {
           "diverging": [
            [
             0,
             "#8e0152"
            ],
            [
             0.1,
             "#c51b7d"
            ],
            [
             0.2,
             "#de77ae"
            ],
            [
             0.3,
             "#f1b6da"
            ],
            [
             0.4,
             "#fde0ef"
            ],
            [
             0.5,
             "#f7f7f7"
            ],
            [
             0.6,
             "#e6f5d0"
            ],
            [
             0.7,
             "#b8e186"
            ],
            [
             0.8,
             "#7fbc41"
            ],
            [
             0.9,
             "#4d9221"
            ],
            [
             1,
             "#276419"
            ]
           ],
           "sequential": [
            [
             0,
             "#0d0887"
            ],
            [
             0.1111111111111111,
             "#46039f"
            ],
            [
             0.2222222222222222,
             "#7201a8"
            ],
            [
             0.3333333333333333,
             "#9c179e"
            ],
            [
             0.4444444444444444,
             "#bd3786"
            ],
            [
             0.5555555555555556,
             "#d8576b"
            ],
            [
             0.6666666666666666,
             "#ed7953"
            ],
            [
             0.7777777777777778,
             "#fb9f3a"
            ],
            [
             0.8888888888888888,
             "#fdca26"
            ],
            [
             1,
             "#f0f921"
            ]
           ],
           "sequentialminus": [
            [
             0,
             "#0d0887"
            ],
            [
             0.1111111111111111,
             "#46039f"
            ],
            [
             0.2222222222222222,
             "#7201a8"
            ],
            [
             0.3333333333333333,
             "#9c179e"
            ],
            [
             0.4444444444444444,
             "#bd3786"
            ],
            [
             0.5555555555555556,
             "#d8576b"
            ],
            [
             0.6666666666666666,
             "#ed7953"
            ],
            [
             0.7777777777777778,
             "#fb9f3a"
            ],
            [
             0.8888888888888888,
             "#fdca26"
            ],
            [
             1,
             "#f0f921"
            ]
           ]
          },
          "colorway": [
           "#636efa",
           "#EF553B",
           "#00cc96",
           "#ab63fa",
           "#FFA15A",
           "#19d3f3",
           "#FF6692",
           "#B6E880",
           "#FF97FF",
           "#FECB52"
          ],
          "font": {
           "color": "#2a3f5f"
          },
          "geo": {
           "bgcolor": "white",
           "lakecolor": "white",
           "landcolor": "#E5ECF6",
           "showlakes": true,
           "showland": true,
           "subunitcolor": "white"
          },
          "hoverlabel": {
           "align": "left"
          },
          "hovermode": "closest",
          "mapbox": {
           "style": "light"
          },
          "paper_bgcolor": "white",
          "plot_bgcolor": "#E5ECF6",
          "polar": {
           "angularaxis": {
            "gridcolor": "white",
            "linecolor": "white",
            "ticks": ""
           },
           "bgcolor": "#E5ECF6",
           "radialaxis": {
            "gridcolor": "white",
            "linecolor": "white",
            "ticks": ""
           }
          },
          "scene": {
           "xaxis": {
            "backgroundcolor": "#E5ECF6",
            "gridcolor": "white",
            "gridwidth": 2,
            "linecolor": "white",
            "showbackground": true,
            "ticks": "",
            "zerolinecolor": "white"
           },
           "yaxis": {
            "backgroundcolor": "#E5ECF6",
            "gridcolor": "white",
            "gridwidth": 2,
            "linecolor": "white",
            "showbackground": true,
            "ticks": "",
            "zerolinecolor": "white"
           },
           "zaxis": {
            "backgroundcolor": "#E5ECF6",
            "gridcolor": "white",
            "gridwidth": 2,
            "linecolor": "white",
            "showbackground": true,
            "ticks": "",
            "zerolinecolor": "white"
           }
          },
          "shapedefaults": {
           "line": {
            "color": "#2a3f5f"
           }
          },
          "ternary": {
           "aaxis": {
            "gridcolor": "white",
            "linecolor": "white",
            "ticks": ""
           },
           "baxis": {
            "gridcolor": "white",
            "linecolor": "white",
            "ticks": ""
           },
           "bgcolor": "#E5ECF6",
           "caxis": {
            "gridcolor": "white",
            "linecolor": "white",
            "ticks": ""
           }
          },
          "title": {
           "x": 0.05
          },
          "xaxis": {
           "automargin": true,
           "gridcolor": "white",
           "linecolor": "white",
           "ticks": "",
           "title": {
            "standoff": 15
           },
           "zerolinecolor": "white",
           "zerolinewidth": 2
          },
          "yaxis": {
           "automargin": true,
           "gridcolor": "white",
           "linecolor": "white",
           "ticks": "",
           "title": {
            "standoff": 15
           },
           "zerolinecolor": "white",
           "zerolinewidth": 2
          }
         }
        }
       }
      },
      "text/html": [
       "<div>                        <script type=\"text/javascript\">window.PlotlyConfig = {MathJaxConfig: 'local'};</script>\n",
       "        <script charset=\"utf-8\" src=\"https://cdn.plot.ly/plotly-3.0.1.min.js\" integrity=\"sha256-oy6Be7Eh6eiQFs5M7oXuPxxm9qbJXEtTpfSI93dW16Q=\" crossorigin=\"anonymous\"></script>                <div id=\"7f1cbb61-a99a-43da-b757-be84fa030752\" class=\"plotly-graph-div\" style=\"height:100%; width:100%;\"></div>            <script type=\"text/javascript\">                window.PLOTLYENV=window.PLOTLYENV || {};                                if (document.getElementById(\"7f1cbb61-a99a-43da-b757-be84fa030752\")) {                    Plotly.newPlot(                        \"7f1cbb61-a99a-43da-b757-be84fa030752\",                        [{\"dimensions\":[{\"axis\":{\"matches\":true},\"label\":\"total_rides\",\"values\":{\"dtype\":\"i4\",\"bdata\":\"HrMNACdADQAhdwkAV\\u002fgGABVfBgBJkQ0AbBQOAEUNDgBSag0ANHwJADpuBQCpkQwAKAMOAHckDgDORQ4A9FkOAAgKCgAnTwcAwOYMAEzgDQDTMg4AVywOAGdqDAC57QgAon4GABrADAAFCw4A2S8OAH0LDgA\\u002fkw0A9FAJAOGMBgBNRQ0AESQOALoQDgB8SQ4AXnsNAOiSCQDEiAgAM2ALANbyDQBpeA0AtosOAKZUDQB+HQkAx2UGAPlCDAAXTQ0AM8sNANyXDQAwTwwAReYIACSLBgCX2AwASfEMANE9DgAzGQ4AKwsNAFKhCACdBwYArM4LAJrxDQB36w0AxzEOAGa\\u002fDAAwygcARpoGAMTtDADoCAwAh9QNAFs2DgCRBgwAX+UHALAeBgCeXAwAZugMADNADQDmFA0ACf8LAGpmBwDgnAUA3wgLAG9uCwBWSAoAOicEADv2BwAUegcArCMFAEjlCwCiywwA22gMAN\\u002fnDAAPewwAXTcIABoFBgC20AsAML8MAGT4DABn5gwAL1wLALVqCABWFwYAwcMLANPNDADUIAwAAckMAKOKCwCCjgcAH7UFACaXCgDImAsAKlYLANRVCAAC\\u002fwMAbrwDAAolAgC1AgUAoOYHACkkCACN0wgA3kYJAAGxBgBxqAQAUWgGAJUOCgDyigoAUlQKAB+fCQBz9wYA1mkFABxjCwBI5gwAYtsMAAJvDACqOAsAvnoHAP+2BQCpggcA2NcMAC3aDACZnAwAFoILAPFbBwBLOQUAzNcLAP8iDQDsMwwAv7sMAEsSCwAZCgcAHUAFAK3BCgClRwsAaIcMAFKgDAClYgkAMWQHAHu9BQCIHAwAxiMNAIA1DQDP9AsA4L4LAJRxBwAnoQUAy9cLAIE3DQDV5AwAWdULALxdCwCB8wcAyD0GACmACQCJJA0Arq0LALz5DAAlxgsAINcHAPMWBgBiCAsAgzgNAMqpDQAuGQ0A\\u002fxcLAEpFCAB2IwYAV84LANqZDQDXcg0AbfsMAFbiCwDoMAoA\\u002f7gFAL6yCwDGlw0AocgNAM4fDQC4gwsAUGIHADoNBgCc4QsAyRcNANjPDABRsgwA+e0LABJ5BwDXIwYA72kMAC+KDQBGkQwADdINACndCwBmZggAW+cGAHpYCwAofwsA7dELAMNnDACjLQsA7tAIACMxBgAgeAwATSgOAE7SDQAcJw4AcE8NAIZiCQDz6QUAX7oLAMHEDQBq2A0AueMNAHc4DQAbsQgAEGkGANytDADMpw0AaSgOAHgrDgA23wwAInoIABArBgAaLQwAgMYNAPVKDgBPQQ4Am4YNAE5eCQDDUQcAmiEMACVpDgCYYQ4A2AQOADFdDABKoAgAX\\u002fIFAIFQDABNAg4A0eINAPD3DQCRkAwA\\u002fBcJAIwcBwCEtQwAOGkOAMFLDgDkFQ4AAAgNAHWkCQBe8QcAmVAHAP28DQBU1Q0AlU0OAHy9DQAwQwoAzeIHAJEjDQDV5w0ATyEOAJpvDQDkFw0A6q0KAH6cBgBi+gsAA5oMAFGFDQD+cg0A628MAGY0CgDxiAcAA9wJAIwtDQCYsA0ASI4NAGQFDQAoMgoA13MIAO+7CwBDng0AvY8NAAowDQD0\\u002fwwAUN0JAD2IBQBEQwsAXUkHAEHKCwBVSA0A8p0MAGlXCQD5bAcAJ3UMANAPDQApKgwASr0NAEr5DABy4AkASt4HAO+pDADz5Q0AHwEOAMv8DQARWA0ALUgKAKorCADKZwwABJwNANz2DADAiw0AL+wLAAHwCQBYtgcAk0EMANQBDgBdYw4Ar0oPAHB8DgDocgoAdJcIAAxsDADMsg0ATa0NACCUDQDZ2gwA8nUKAO+xBwAgrAoAYncNAIbdDQCX+gwAwBQNAPpyCgDPKwgAwKgNAKqRDgBqrw0A9TkNAEsqDgD3sAkAZMIHAIJRDgCsUw8APWkPAMskDwDG1g4ArU8KAMqECADt1QcAii8PAKhQDwAP3w8A4YgOABHQCgBaUQgAAyQNAH3NDwAdpA8A96IPAOQ9DwCykgoA0TIHAPliDgCcFA8AofcPAOC7DwC\\u002fIw4APJkKAHICCABCFg4AH\\u002fsOAEhtDwAhzA8AFvEOAJuQCgBJIwgAVJIOAAMVEACaHhAAxMEPAJ4SDwDkAAsAFgQKACKADABy8A8A5eAPANVIDwAIog0AEDsJAKnhBwAbIw4Aqa0PANDIDwA6dw8AGZ8OACZJCgBKwwcAPkMOAKjFDwCSOA8Ao3UOACxhDQBisgkASKgGAP0GDgBj4w0ANA0PANo9DwCLTQ4AxmcKAM+VBwAPaA4Ag3QPANtDDwAI5w8AOWgMAJt5CQBGdwcAPywOAFFWDwAqag8ARDMPAHuzDgBkIQoAIVIHAO1MDABGSAwAu1ILAGHTBADUZQgAS\\u002fwHAEjNBQDpsAwAoZoNAABaDgAllw4AFwUNAG9zCQC+vQYAP1wNAAlcDgDmrw4A5wYPAH5BDgDy9AkA6AYHAMjfDACcRA4AdVEOAENmDgBQig0ALm8IABz2BgBtSgwASUcNAPd+DQDY4wwAxXcKAO1dCABq7wUAZ3EDACOvCACz\\u002fwkAbNwJADhWCgCUcAgAZKwGAA==\"}},{\"axis\":{\"matches\":true},\"label\":\"prev_day_rides\",\"values\":{\"dtype\":\"f8\",\"bdata\":\"AAAAAJ76NUEAAAAApGswQQAAAADTBzdBAAAAAGisOEEAAAAASZ81QQAAAAC5hThBAAAAAMyRN0EAAAAA7To6QQAAAADAkjhBAAAAAKoXNkEAAAAAGGsoQQAAAAAAmBtBAAAAALNHMEEAAAAAdCUdQQAAAABJHTpBAAAAAO+yOkEAAAAAIPM1QQAAAADwpiBBAAAAAOqFLkEAAAAAPR82QQAAAADqYC1BAAAAAF7YJ0EAAAAAErQuQQAAAACCOCVBAAAAAP7oI0EAAAAAQTk4QQAAAADMkTpBAAAAABHZNkEAAAAA9007QQAAAACrwjtBAAAAAM+QOEEAAAAA5M44QQAAAACEBThBAAAAAPYNLkEAAAAATmI4QQAAAAD9CjxBAAAAAA1zOUEAAAAAZhgiQQAAAADEhjdBAAAAAKhBKEEAAAAAQ+A6QQAAAADvpTlBAAAAAAbzLEEAAAAAUkU3QQAAAADcEBZBAAAAAMIfOUEAAAAAmPg2QQAAAACImThBAAAAAGZ1N0EAAAAA+w83QQAAAACIZi5BAAAAAMyvJ0EAAAAAKGcdQQAAAAC+RypBAAAAAEsbOEEAAAAA50I8QQAAAAA0ojhBAAAAAOmUOkEAAAAAnNw3QQAAAABc9hBBAAAAAK0FOkEAAAAA2kMnQQAAAACivi5BAAAAAHRDNEEAAAAAf683QQAAAAAhBjpBAAAAAKOYOUEAAAAAYjw3QQAAAAAaLjlBAAAAAN\\u002fhOEEAAAAA7NgfQQAAAACchBZBAAAAAPqaL0EAAAAAr+k4QQAAAADtRzlBAAAAAAirNUEAAAAAEjAkQQAAAABUCjtBAAAAAFc7OEEAAAAAvKEjQQAAAAA9iTdBAAAAAIqXOUEAAAAAeGw3QQAAAADOnzlBAAAAAND+I0EAAAAAVMAeQQAAAABQ5SRBAAAAAMZaMUEAAAAAXnQpQQAAAAC2ZTpBAAAAANRBIUEAAAAAeL02QQAAAABAdjpBAAAAALY8JkEAAAAAmwc5QQAAAACupiVBAAAAAFYRK0EAAAAAXJYuQQAAAACA8DlBAAAAACw\\u002fK0EAAAAA+B4mQQAAAADNBDpBAAAAAEskO0EAAAAAYqE4QQAAAABfYDhBAAAAABaHOUEAAAAAwDM8QQAAAABDnTdBAAAAAFaLN0EAAAAAAXs6QQAAAAAfyDhBAAAAAA5FOUEAAAAAvis5QQAAAADczTZBAAAAAAsLOkEAAAAAYIoqQQAAAAB+dylBAAAAAKVZOEEAAAAA8nIqQQAAAADOmjVBAAAAAOmIOkEAAAAAiEQkQQAAAADEOSRBAAAAALzjOkEAAAAAR\\u002fQ6QQAAAADaRiNBAAAAAMDBGUEAAAAApFQ4QQAAAAAMeydBAAAAAJ0ROUEAAAAA1AsnQQAAAADkRDhBAAAAAESyNkEAAAAAVqE5QQAAAACjXTZBAAAAAG\\u002fHNkEAAAAAaD0fQQAAAABykzlBAAAAAIBdK0EAAAAAVFU4QQAAAABITDlBAAAAALByHUEAAAAAtvcnQQAAAABVejhBAAAAAAD5NUEAAAAABtQuQQAAAADSIThBAAAAAMC7N0EAAAAA1rAiQQAAAAAqLThBAAAAAOL4K0EAAAAAgJ4eQQAAAADjeDhBAAAAALadOkEAAAAAcHw3QQAAAADphTNBAAAAAGmHOUEAAAAAVLI6QQAAAADi4DpBAAAAADnANkEAAAAAIIktQQAAAACYmyBBAAAAALqoNkEAAAAA6C0kQQAAAACsjBxBAAAAAFJ7LUEAAAAAfgwiQQAAAABMZx9BAAAAAPyDJEEAAAAAq4wxQQAAAADsyDpBAAAAAEZZKEEAAAAAoJ83QQAAAACiZClBAAAAAK3uN0EAAAAAACo4QQAAAADZWDlBAAAAAHB8GEEAAAAA4a84QQAAAACJnjdBAAAAAKSVLEEAAAAAqnk4QQAAAACc\\u002fjZBAAAAAOpMMEEAAAAAWfk4QQAAAACuOTFBAAAAAM2jN0EAAAAAmH44QQAAAAD\\u002fwzdBAAAAAGgFPEEAAAAALvQ5QQAAAACRmzlBAAAAAEaMOEEAAAAAMUc5QQAAAABe7yZBAAAAAPIKLkEAAAAA0707QQAAAAAP6TpBAAAAAL4TOkEAAAAADGIYQQAAAADaPCBBAAAAAHq8N0EAAAAASE03QQAAAACMvhhBAAAAAOvROEEAAAAAQIc6QQAAAAD+VjNBAAAAAIduNkEAAAAAvvw3QQAAAAAJSThBAAAAAN5zK0EAAAAAYe8wQQAAAACBrTZBAAAAACbAOUEAAAAAakc4QQAAAAAVpTZBAAAAAJ7CLUEAAAAAExQ2QQAAAAAOWDZBAAAAAC5JJ0EAAAAAuZI6QQAAAABm\\u002fyNBAAAAADLTOEEAAAAAjOk4QQAAAAB+oSxBAAAAAAxzKkEAAAAAJVc2QQAAAADqHDFBAAAAALDRJkEAAAAA4LgUQQAAAABYRClBAAAAAFpdLUEAAAAANMcvQQAAAAAkQTVBAAAAAJKPN0EAAAAAhH86QQAAAADcojpBAAAAAAQEMkEAAAAAIpg4QQAAAAChXjhBAAAAACooI0EAAAAAeCg3QQAAAAA2qjpBAAAAAJRsOUEAAAAA6dk0QQAAAADg+CxBAAAAAGCIKEEAAAAAc\\u002f82QQAAAABtpDdBAAAAAEf9NEEAAAAAtLw2QQAAAAD8dxpBAAAAAExqGEEAAAAA4jU3QQAAAACc3CdBAAAAAHykOkEAAAAAoeM4QQAAAACMkChBAAAAACzoOUEAAAAApIYnQQAAAABvATBBAAAAAODAK0EAAAAAeG0MQQAAAAACaDxBAAAAAB9TO0EAAAAAPEkRQQAAAABNeTlBAAAAABDwJUEAAAAAtGErQQAAAADQxTlBAAAAAK5NOUEAAAAAfqs4QQAAAACEgzVBAAAAAMYHOUEAAAAATFU5QQAAAABykjlBAAAAADy5KEEAAAAATegwQQAAAAAiKSNBAAAAAA1wOUEAAAAAzFsYQQAAAAAOiiRBAAAAAG5mKUEAAAAArCwwQQAAAAC8BixBAAAAADrTNEEAAAAAPdg2QQAAAADZcTdBAAAAAK5LOUEAAAAAy4YxQQAAAAC45ydBAAAAAIa0N0EAAAAAiFQ6QQAAAAA+TjdBAAAAAEzeJ0EAAAAAmJUUQQAAAACM\\u002fjdBAAAAANb3N0EAAAAA2j0jQQAAAAAVxTZBAAAAAG4oLUEAAAAAdg47QQAAAAAt7jhBAAAAAGW9MUEAAAAASo44QQAAAAAljjtBAAAAAPDEMEEAAAAAPEsvQQAAAABEczZBAAAAAHLMOUEAAAAAkPk5QQAAAADlGDdBAAAAAEi0L0EAAAAAFUw6QQAAAABGsTdBAAAAALTZKUEAAAAAEZ43QQAAAADvjDVBAAAAAJgzJEEAAAAAJjItQQAAAACc2BRBAAAAADACKkEAAAAAchMuQQAAAADi+jtBAAAAAA6LNkEAAAAAkZc7QQAAAACO7iBBAAAAAEzGOUEAAAAAiIMvQQAAAAAhfjhBAAAAACqbLEEAAAAAMkg5QQAAAADGBS1BAAAAAK6ZJUEAAAAAQB43QQAAAACCiStBAAAAAIiMPEEAAAAAsAksQQAAAABwFitBAAAAAOftOkEAAAAA3k43QQAAAADyxSxBAAAAACKFKUEAAAAAAa85QQAAAADEBTBBAAAAANyFHkEAAAAAk287QQAAAADFTzZBAAAAAGy+KUEAAAAA1sI3QQAAAAAznTZBAAAAABc\\u002fOUEAAAAAVNYiQQAAAAC48jhBAAAAAPxOLEEAAAAA5jsyQQAAAADQdS9BAAAAAFDoHUEAAAAAEv4nQQAAAADvPjlBAAAAAFzsFEEAAAAALh8oQQAAAACuXylBAAAAALkTOUEAAAAA6Jo1QQAAAAA07TBBAAAAABumOEEAAAAA4wM3QQAAAAB7zDZBAAAAAB\\u002fkOUEAAAAAbH8RQQAAAAAYUihBAAAAAKSXIUEAAAAAQ9EwQQAAAADt6DZBAAAAAJKOKkEAAAAAiNouQQAAAADERjZBAAAAAJwTOUEAAAAAxGQjQQAAAACpyjhBAAAAAJrmJUEAAAAA9LAmQQAAAABSGDBBAAAAAM6bOkEAAAAAkMonQQAAAACaIS1BAAAAAOL8LkEAAAAApMM3QQAAAACyTyhBAAAAAIwlOkEAAAAAOho3QQAAAADk6yRBAAAAAKjlFkEAAAAA8EgYQQAAAABGOTFBAAAAALCiN0EAAAAAoUg3QQAAAAC6QStBAAAAAGQxJEEAAAAAlIMrQQAAAACOEzhBAAAAAIT2OUEAAAAA0iAiQQAAAABiCThBAAAAAEQIHEEAAAAADKojQQAAAABbPzpBAAAAALo6K0EAAAAAtiU8QQAAAABNBThBAAAAAFBPKEEAAAAAUGQ5QQAAAAAw8CpBAAAAAAU5NkEAAAAAbEQkQQAAAACWNjJBAAAAAM0tMUEAAAAASUY7QQAAAAAEXxdBAAAAADA8N0EAAAAAtHg3QQAAAABSLiNBAAAAAPwOFUEAAAAAANQ3QQAAAADCrTpBAAAAAEumOEEAAAAAMokiQQAAAACrKzdBAAAAACV3NUEAAAAAWs8oQQAAAACLSjtBAAAAAPBKGkEAAAAACigvQQAAAACYMhpBAAAAAIt3OEEAAAAA0q4iQQAAAAA6ViZBAAAAAJhQGUEAAAAA7Rc0QQAAAAAUPDZBAAAAACgQOEEAAAAA5Vw4QQAAAABxHTtBAAAAAO0UOEEAAAAAubo1QQAAAAB6RzlBAAAAAJDlL0EAAAAAG+M6QQAAAAC0iRxBAAAAAPxqK0EAAAAA7P0nQQAAAAA5FzlBAAAAAAwIMUEAAAAAaig1QQAAAAD4ISdBAAAAAD0VOkEAAAAAhIY4QQAAAABzIjhBAAAAADMhOUEAAAAA6vQmQQAAAADJ+jhBAAAAAH2AOEEAAAAAZFQqQQAAAAAMeSpBAAAAAGCeKEEAAAAAZ4c4QQAAAAASuCxBAAAAAFByJUEAAAAAUQg5QQAAAACEdTlBAAAAAELhJkEAAAAAXDghQQAAAABAgCJBAAAAALDtIUEAAAAAjOk4QQAAAABFYztBAAAAANY6OkEAAAAAIN83QQAAAACAWTtBAAAAACbeO0EAAAAAJys4QQAAAABxVTpBAAAAAGBsO0EAAAAA8zM5QQAAAACMBylBAAAAAEvsOUE=\"}},{\"axis\":{\"matches\":true},\"label\":\"prev_week_rides\",\"values\":{\"dtype\":\"f8\",\"bdata\":\"AAAAAHhFIEEAAAAAmE8rQQAAAAA5czdBAAAAAGYyLEEAAAAApDUhQQAAAAC4yy5BAAAAACCIHEEAAAAA\\u002fIMkQQAAAADKgiNBAAAAAD4CLEEAAAAAgVI3QQAAAAB+2i5BAAAAALSQOkEAAAAAIGE2QQAAAACOeDhBAAAAAFJXKEEAAAAAltcsQQAAAADpZThBAAAAAIr4I0EAAAAAcOMNQQAAAABaqCdBAAAAAMopNUEAAAAAlFooQQAAAACSVDlBAAAAAP+sOkEAAAAAxEQ4QQAAAACd1zpBAAAAAOg4OUEAAAAAtzw6QQAAAABkgDlBAAAAAChgIEEAAAAAUvYmQQAAAACMRypBAAAAAKwzNkEAAAAAqOUWQQAAAABh9jhBAAAAAB60K0EAAAAAVuIkQQAAAAAiZTtBAAAAAG4ZKkEAAAAAX1o3QQAAAACZczJBAAAAAKr4IkEAAAAApf04QQAAAACnDDBBAAAAAEiJI0EAAAAAVRg3QQAAAACUMTlBAAAAAIBLBUEAAAAAd8Y5QQAAAAD4mThBAAAAAA2pOkEAAAAAAJE4QQAAAAChwTZBAAAAAIhIJUEAAAAA6p4iQQAAAABmLjdBAAAAAM7BN0EAAAAAbo45QQAAAAAU3jdBAAAAAFAqKUEAAAAAdKQtQQAAAABu2SxBAAAAABy2H0EAAAAAoPg3QQAAAABgIT1BAAAAACB4JUEAAAAAeaA5QQAAAAD7DzdBAAAAADSkEUEAAAAA9Ho5QQAAAAAZMjtBAAAAANP2O0EAAAAAiAsZQQAAAACLszhBAAAAAGyGMUEAAAAAAlA5QQAAAADfvTlBAAAAAOB\\u002fGEEAAAAALMEoQQAAAAC3cDlBAAAAANXAOkEAAAAADCQYQQAAAAAXkDdBAAAAAOqvKEEAAAAANz44QQAAAAAEfxhBAAAAANBBLkEAAAAAbOwiQQAAAAA\\u002f8zhBAAAAABT1NUEAAAAAyvotQQAAAADAXztBAAAAAF63KEEAAAAAW9k4QQAAAAAEKTlBAAAAAF3XOkEAAAAA8ocpQQAAAAC8MyBBAAAAADitKkEAAAAANkYsQQAAAAAuSSdBAAAAAERzNkEAAAAA2943QQAAAAA\\u002f8ThBAAAAAI+sNkEAAAAA13IwQQAAAACM6ThBAAAAAA0kOkEAAAAAQAA4QQAAAAC3CjBBAAAAAACqKUEAAAAAcjs5QQAAAAC4cShBAAAAAOZqLUEAAAAAStgpQQAAAACMIilBAAAAAJGBMEEAAAAAr8o6QQAAAAAAECpBAAAAAKyTOEEAAAAAqvQnQQAAAACgGxxBAAAAAE5bOkEAAAAApMchQQAAAAAKizxBAAAAAMHaN0EAAAAAwF0aQQAAAACPoDZBAAAAACZxOUEAAAAAnDM5QQAAAADBbzpBAAAAAHOJOUEAAAAAD5g5QQAAAAB+uDpBAAAAAHmHN0EAAAAAzJE3QQAAAAB1VjZBAAAAAJ0IOEEAAAAAjJAoQQAAAADyWi1BAAAAAC6WOkEAAAAAXnUrQQAAAABsQiVBAAAAAPozIEEAAAAAuJQRQQAAAADE4htBAAAAAAlJOEEAAAAAUjslQQAAAAD82xZBAAAAAGsROEEAAAAAus41QQAAAAAnATlBAAAAAJBgFEEAAAAAqFgjQQAAAABeCDlBAAAAAMofJkEAAAAAUPElQQAAAADzmzdBAAAAAEbrLEEAAAAAct83QQAAAAA7wjhBAAAAAPwAPEEAAAAAgKE5QQAAAACdXDdBAAAAAMzMIEEAAAAA3jM5QQAAAAB+1TZBAAAAACzZJ0EAAAAAuvU3QQAAAAD7+zpBAAAAABKMNkEAAAAAfAAkQQAAAACMQy1BAAAAAKgmKUEAAAAAMCIfQQAAAAA6jDlBAAAAAPYYOEEAAAAASO4wQQAAAACGei5BAAAAAP7RKEEAAAAA9kU5QQAAAADdDDZBAAAAADrTJkEAAAAARbU3QQAAAAAjTTdBAAAAAFqDJUEAAAAAWMYwQQAAAAA6syFBAAAAAGZKI0EAAAAAp9A2QQAAAAAZNDRBAAAAAKAvPEEAAAAAj7s2QQAAAACWhzlBAAAAALoSJkEAAAAAFgs2QQAAAADkWy1BAAAAANWzN0EAAAAA+hAnQQAAAAA9iTdBAAAAALc7N0EAAAAAnEAQQQAAAACKui1BAAAAAHKSOUEAAAAAHGImQQAAAACOkDhBAAAAAAqfIkEAAAAA8OQ3QQAAAABmHzpBAAAAAP31MkEAAAAAi6g3QQAAAACSOiZBAAAAAGTDOEEAAAAAGO8lQQAAAAC7wjhBAAAAABQjLUEAAAAANYg4QQAAAADg+y1BAAAAAJwDOkEAAAAAu9s5QQAAAAAY6DdBAAAAANDcGkEAAAAAyIgVQQAAAADf4TVBAAAAAFBPKEEAAAAACDAZQQAAAAAAZRpBAAAAAJIvKkEAAAAA\\u002fGoZQQAAAABfYDhBAAAAAEmwMkEAAAAAOIIoQQAAAAC1IDpBAAAAAHbQNkEAAAAAqnk6QQAAAABylSZBAAAAAMqFN0EAAAAAv6A3QQAAAACuujlBAAAAALVKN0EAAAAAApw4QQAAAABvuzlBAAAAAJgXLUEAAAAALQU2QQAAAADo5zhBAAAAADIEOUEAAAAAK8s2QQAAAABPHDJBAAAAAFjeOEEAAAAADNI2QQAAAAD6mi9BAAAAAMxbGEEAAAAALis1QQAAAAACziFBAAAAAMo7MUEAAAAAyCssQQAAAACEBTdBAAAAAPRJOkEAAAAAheo4QQAAAAB8qyxBAAAAAI9RNkEAAAAAY10xQQAAAAB+wSxBAAAAAOCtN0EAAAAASukpQQAAAAC2VCZBAAAAAIQAJUEAAAAA9lMtQQAAAAAQDhtBAAAAAGteN0EAAAAAQ\\u002f82QQAAAAANtDhBAAAAABsCOEEAAAAAXo8oQQAAAABvCjpBAAAAAECEEkEAAAAA2j0jQQAAAADaPjlBAAAAABK4IUEAAAAA7VQ3QQAAAADsHSZBAAAAAGbvKEEAAAAAfJA5QQAAAAD\\u002fBThBAAAAAGQ+M0EAAAAANdc7QQAAAAASNThBAAAAACBAOkEAAAAA+fg3QQAAAABzSjlBAAAAAEARN0EAAAAABcw6QQAAAACs0CFBAAAAADLkKEEAAAAA8FYsQQAAAABY9zhBAAAAAD9GPUEAAAAA3tkpQQAAAAACKCdBAAAAAE03PEEAAAAAIvU1QQAAAAAG9iJBAAAAAEBFJ0EAAAAASKE8QQAAAACivi5BAAAAAIzHK0EAAAAAVAo7QQAAAACc2zpBAAAAALB4JkEAAAAA+04wQQAAAAAu+ydBAAAAAINPOkEAAAAAyiw7QQAAAACsbihBAAAAABEENkEAAAAAExQ2QQAAAACskCRBAAAAAO3VNUEAAAAAuCAfQQAAAADmkCVBAAAAALo2OEEAAAAAnD8qQQAAAADleDpBAAAAADSUMEEAAAAA+pouQQAAAADE7ipBAAAAANbfKEEAAAAAxGEfQQAAAAAjwjJBAAAAAD5zKUEAAAAAPEokQQAAAABnqzhBAAAAADYhJUEAAAAA+IswQQAAAACUvyRBAAAAACt2OEEAAAAANN8qQQAAAAA4PRtBAAAAAC3oOEEAAAAA9AU8QQAAAAAI6BpBAAAAAEVYOUEAAAAAzj44QQAAAACWJThBAAAAALU8MkEAAAAAagAtQQAAAAA8ghlBAAAAAAzuN0EAAAAAfNsZQQAAAAAWBjlBAAAAAApKIUEAAAAAi3A6QQAAAAA4iwtBAAAAAIhwJUEAAAAAixU4QQAAAABU1jBBAAAAAMgyFUEAAAAALl47QQAAAAAoXzlBAAAAAKKjNkEAAAAASDMyQQAAAAAXezlBAAAAANipHUEAAAAA4MArQQAAAAAc9B1BAAAAAOd7OUEAAAAAPFUjQQAAAAD1WzlBAAAAANZ\\u002fI0EAAAAApCcaQQAAAAA8+TpBAAAAALArLUEAAAAAwHk6QQAAAAD2rDZBAAAAAKVyMUEAAAAAkAg4QQAAAABK9TZBAAAAAItjOEEAAAAAQIc6QQAAAADediVBAAAAAHy6LUEAAAAAtG0uQQAAAACvAzhBAAAAAAGhOUEAAAAA9XowQQAAAABgZDdBAAAAAAvONUEAAAAAIec5QQAAAAB2pSZBAAAAAMwJHUEAAAAARBAvQQAAAACqIjlBAAAAAFIjKUEAAAAAOHg3QQAAAAAI2SxBAAAAADKVPUEAAAAA2kYjQQAAAABbpjhBAAAAAM+INEEAAAAAeLsmQQAAAAD\\u002fJjxBAAAAAM7nKkEAAAAAyzQ4QQAAAADonBBBAAAAAGz0OUEAAAAAnxg4QQAAAAA8RDZBAAAAAGRpKEEAAAAAbNskQQAAAAAr5zdBAAAAADJONEEAAAAACrc3QQAAAABesCRBAAAAACzwN0EAAAAAZmMoQQAAAAAGXDhBAAAAAEaxN0EAAAAAQhw7QQAAAABU1iJBAAAAAFdyMkEAAAAAzGgkQQAAAAD0mDlBAAAAAGc\\u002fOkEAAAAAeJwRQQAAAABvtDZBAAAAAHNgO0EAAAAAjE8fQQAAAAD69jRBAAAAAOjrJkEAAAAAdJMvQQAAAAAcJCRBAAAAANi5HUEAAAAAFJE3QQAAAABJwjhBAAAAAJzcN0EAAAAA6NsuQQAAAAAEWS9BAAAAAPLULEEAAAAAAAD4fwAAAAA78DlBAAAAAG92OkEAAAAAXG45QQAAAABuZilBAAAAAMprIUEAAAAAMGErQQAAAAATYzhBAAAAAKTUKkEAAAAANdY5QQAAAADYHChBAAAAAOc0MkEAAAAAKjslQQAAAABcTSlBAAAAAMgQLEEAAAAALEY2QQAAAABdWDtBAAAAAOdnMUEAAAAAJHEuQQAAAADOlzdBAAAAAAKaO0EAAAAA6gM5QQAAAAAABiVBAAAAABCMOUEAAAAAdXo5QQAAAAANyzVBAAAAANxON0EAAAAAc1k8QQAAAAD\\u002f+DlBAAAAALxHN0EAAAAAI5U3QQAAAAAEhyVBAAAAAIQHOkEAAAAADL0XQQAAAAAP6TpBAAAAAJ6CLEEAAAAAQP4qQQAAAACG5i1BAAAAAAa9L0EAAAAAhFIhQQAAAABYWAZBAAAAAKmAOkEAAAAAZuI5QQAAAACAgChBAAAAAKbIKUEAAAAAqvk4QQAAAACaxDRBAAAAAOSzHUE=\"}},{\"axis\":{\"matches\":true},\"label\":\"one_year_ago_rides\",\"values\":{\"dtype\":\"f8\",\"bdata\":\"AAAAAKSbIUEAAAAAyHwvQQAAAAAO5DlBAAAAAF\\u002fCMEEAAAAAAGUaQQAAAAAAAPh\\u002fAAAAAJqBIEEAAAAA\\u002frE7QQAAAABayzhBAAAAAPpOK0EAAAAA5KoXQQAAAAA7LDlBAAAAAJOAN0EAAAAA2hc1QQAAAAC6rSFBAAAAAKCaOkEAAAAAvlIjQQAAAABG1yhBAAAAADzQLkEAAAAAwW0xQQAAAAB36jNBAAAAAAwIMUEAAAAAje82QQAAAAB2FSJBAAAAAARGO0EAAAAAhvsvQQAAAAAmZi1BAAAAAIyGLUEAAAAAmlg1QQAAAAAyWjpBAAAAAATqOEEAAAAA2PA5QQAAAADkaBRBAAAAAHL0KEEAAAAAc8A6QQAAAADJSDlBAAAAAIChOUEAAAAACWQ7QQAAAACsEDdBAAAAAHsvOEEAAAAAeI02QQAAAADgJztBAAAAACirJ0EAAAAAnqMkQQAAAAAqVidBAAAAALSWJ0EAAAAAHN4dQQAAAACiDTpBAAAAACTJGkEAAAAAW9A1QQAAAAB8WCdBAAAAAJSDHEEAAAAAQBE3QQAAAAAk3CtBAAAAAPIKLkEAAAAAN3Y1QQAAAADgaR9BAAAAAKCfN0EAAAAAVlw5QQAAAADhCTdBAAAAABaqMEEAAAAA7PYbQQAAAAD8PSJBAAAAABhbLEEAAAAADD04QQAAAACAdDRBAAAAAMjMLEEAAAAAkio6QQAAAADKtDhBAAAAAKozK0EAAAAA6HQiQQAAAABgJSVBAAAAAGA6JUEAAAAA5Xg6QQAAAADotxRBAAAAAAYuOEEAAAAA0Ig2QQAAAAD4ViZBAAAAAGMYOkEAAAAAAAD4fwAAAAAWayJBAAAAABgEMUEAAAAAnNQ5QQAAAABYRiBBAAAAAFyeN0EAAAAAi4w6QQAAAACENRpBAAAAAFtrOUEAAAAAzK04QQAAAAAsXztBAAAAAOBKHkEAAAAAAAD4fwAAAADwPSZBAAAAACR1KkEAAAAAeMA6QQAAAABGFDdBAAAAAL\\u002fZOkEAAAAAAjErQQAAAACNbDpBAAAAAKLqLkEAAAAAcRI3QQAAAABthTxBAAAAAHmTOEEAAAAA1e03QQAAAACPvjVBAAAAAOKSOEEAAAAAuiwsQQAAAAAAAPh\\u002fAAAAAFFfN0EAAAAA\\u002fjM3QQAAAAC0yy1BAAAAAESCOUEAAAAAELAVQQAAAAAAtCxBAAAAAK6tJUEAAAAAJC46QQAAAAAuXiNBAAAAAACrNUEAAAAAJEE1QQAAAABn1zdBAAAAAEtdOkEAAAAAu8I4QQAAAAAypyVBAAAAAIPtNUEAAAAArCwwQQAAAAA1bzdBAAAAADxoIUEAAAAA32o5QQAAAACKzCFBAAAAAMLpKEEAAAAA7kgsQQAAAABisC9BAAAAAIzNN0EAAAAAYA4aQQAAAACJnjdBAAAAAGKLJ0EAAAAAfmozQQAAAADMmS9BAAAAAEw2JEEAAAAAH3o5QQAAAADefjBBAAAAAMKVOUEAAAAALJ0jQQAAAACwjhRBAAAAAN8kN0EAAAAApJchQQAAAACMITtBAAAAAHSkLUEAAAAA1r04QQAAAACM2TdBAAAAAPSZN0EAAAAA7PobQQAAAAAowTZBAAAAAG27OEEAAAAAAAD4fwAAAAAs3yNBAAAAAJ7CLUEAAAAARmksQQAAAAAmCDdBAAAAAL\\u002f0OEEAAAAAAEctQQAAAABA0BxBAAAAAA45O0EAAAAAGe84QQAAAADGUjRBAAAAAA8zNEEAAAAA+KIoQQAAAADOzClBAAAAAI5eN0EAAAAASBAtQQAAAACxPzdBAAAAAGadI0EAAAAAQCYcQQAAAAAbWzlBAAAAAJMfO0EAAAAADlU2QQAAAABRuDZBAAAAAG47PEEAAAAAurggQQAAAADecDdBAAAAAGEbM0EAAAAApxo7QQAAAABXRzlBAAAAAOjyJkEAAAAAiqgrQQAAAABYuRlBAAAAABO5OEEAAAAAktI4QQAAAAAKiTZBAAAAAK64N0EAAAAAD1k3QQAAAACojANBAAAAAH6hLEEAAAAAjLc5QQAAAAAMvTZBAAAAAMhZNkEAAAAAmAglQQAAAAAYSAxBAAAAADCUDkEAAAAAozQ5QQAAAAAoDR9BAAAAADqdNkEAAAAAXV46QQAAAABOhSdBAAAAAAnON0EAAAAAsPM5QQAAAACiuy1BAAAAAKiIIEEAAAAAtEksQQAAAAB0hSJBAAAAAGl8OEEAAAAAe3Q5QQAAAAAcoxxBAAAAAP2UOEEAAAAAJXY6QQAAAAA8EhVBAAAAAMjjGUEAAAAA\\u002fHwgQQAAAACbNDxBAAAAANK6JUEAAAAAr9k2QQAAAACcHx1BAAAAAFzjOUEAAAAAAAD4fwAAAADcmi1BAAAAAM0BOEEAAAAAavosQQAAAABQTyhBAAAAALjdOUEAAAAAuX04QQAAAAA2FytBAAAAALTVH0EAAAAAAAD4fwAAAABNLDdBAAAAAGiCNUEAAAAAp7g6QQAAAACoLS1BAAAAAA78NUEAAAAAohYrQQAAAACi4idBAAAAAP69I0EAAAAAAmE4QQAAAAAbmjZBAAAAANoVO0EAAAAA7Y41QQAAAABI2jlBAAAAABSRN0EAAAAAuRM5QQAAAABAKCtBAAAAAAa2KUEAAAAAkDM3QQAAAABiJCpBAAAAABpRJkEAAAAAhhgrQQAAAAA42i9BAAAAAA+8NUEAAAAAQqwkQQAAAAAphTlBAAAAAA\\u002ftN0EAAAAAKMQvQQAAAACiJC5BAAAAAHZMN0EAAAAAoE0nQQAAAAD2bipBAAAAAA1YOUEAAAAAGjkvQQAAAACodjBBAAAAAKBUMUEAAAAAbgw3QQAAAABajjlBAAAAANKZNkEAAAAALHotQQAAAAAAAPh\\u002fAAAAAAQGLkEAAAAAFqE2QQAAAACQDR9BAAAAANcWMkEAAAAAoks4QQAAAABBLDlBAAAAAKtQOUEAAAAAnBM5QQAAAAAAAPh\\u002fAAAAAAkNO0EAAAAAvEc3QQAAAAD48xVBAAAAALQtH0EAAAAA4Is6QQAAAAB2ZzdBAAAAADpmK0EAAAAAAAD4fwAAAABXPTBBAAAAAHQNJ0EAAAAAnsI3QQAAAAB4bS5BAAAAADD5IUEAAAAAKmAnQQAAAACySTdBAAAAALjHJUEAAAAAktElQQAAAABQTS1BAAAAAHQ9OkEAAAAAuCASQQAAAAAqcjRBAAAAADu0OkEAAAAAXEctQQAAAADQ3ThBAAAAAGQXL0EAAAAAzhU4QQAAAABsVSNBAAAAAGYeMUEAAAAAhgY5QQAAAACe9TZBAAAAAHKSOUEAAAAA1kwqQQAAAABw4ixBAAAAAMgcJEEAAAAAhzAxQQAAAAD99jlBAAAAAO6oI0EAAAAAJXM3QQAAAAA9iTdBAAAAAKheOUEAAAAAqpojQQAAAADochlBAAAAAEgDG0EAAAAAxIc5QQAAAACsYyRBAAAAACIiNkEAAAAA0UM4QQAAAABrXjdBAAAAALNcNkEAAAAAVMQuQQAAAAAJjjdBAAAAABRgKkEAAAAADvI6QQAAAABpRjlBAAAAAMNyOUEAAAAAAkY3QQAAAABwZTBBAAAAAGqdNUEAAAAAM3E3QQAAAADQgTVBAAAAAAAA+H8AAAAAAWY4QQAAAABG0zpBAAAAAAejOEEAAAAAyO4OQQAAAAAySDlBAAAAAApNOEEAAAAAo7I4QQAAAADkfzpBAAAAAIiDL0EAAAAAv0c3QQAAAADENxhBAAAAAMRFOEEAAAAAHJcZQQAAAAB+qzhBAAAAAE0NOUEAAAAAvF4uQQAAAABoQDpBAAAAAKZ6N0EAAAAAXOwUQQAAAAAAAPh\\u002fAAAAAHSTL0EAAAAA7CMrQQAAAACaiipBAAAAAFLAL0EAAAAAVio4QQAAAAAlYTlBAAAAACLrJEEAAAAAPuQtQQAAAADlejBBAAAAAPQmJ0EAAAAA3MYiQQAAAAAAAPh\\u002fAAAAACduMEEAAAAAMv05QQAAAAC2zCVBAAAAAIBdK0EAAAAAXC4uQQAAAAAL9zlBAAAAAJDyGkEAAAAAV3IyQQAAAAClVTpBAAAAAH2COEEAAAAAcZY4QQAAAACTbztBAAAAAMViOUEAAAAAufQyQQAAAADbIjpBAAAAADewOEEAAAAAAAD4fwAAAADIIR1BAAAAAIogN0EAAAAAIvU1QQAAAAChcTdBAAAAAEjpGkEAAAAAv0U7QQAAAAA88TVBAAAAADSkEUEAAAAA1HAkQQAAAAC0kC1BAAAAAN69NUEAAAAAKnEpQQAAAACS4ThBAAAAAFOeN0EAAAAALMQrQQAAAAC04DhBAAAAAJq3KUEAAAAA\\u002fzQ6QQAAAABddTRBAAAAAFLhOEEAAAAA6ew2QQAAAAD8fCxBAAAAAFyrJEEAAAAAEPgPQQAAAAAooyxBAAAAAKBaLkEAAAAAalQjQQAAAACMLytBAAAAAJKOKkEAAAAAAAD4fwAAAAD71jBBAAAAALV9O0EAAAAAAissQQAAAABy5SRBAAAAAKSoJEEAAAAA0ts4QQAAAACO6ilBAAAAAJbOLEEAAAAA9l45QQAAAAAAAPh\\u002fAAAAAKzWLEEAAAAApuIgQQAAAACkujlBAAAAAF6vOkEAAAAA6q8oQQAAAAAoYCBBAAAAAOJhJUEAAAAAAAD4fwAAAACLMThBAAAAALUsO0EAAAAAaCs9QQAAAAAEeyZBAAAAAPiqN0EAAAAAziw4QQAAAACNXjhBAAAAAHSSOUEAAAAAzJIXQQAAAADKHyZBAAAAAFxKHEEAAAAAJcw4QQAAAACq+CJBAAAAABwFHUEAAAAAYgUlQQAAAAC31TZBAAAAAOzQNUEAAAAAWQIxQQAAAAAWmyxBAAAAAEThOEEAAAAADsUtQQAAAAC6RCZBAAAAAOTyL0EAAAAASfA0QQAAAABVojpBAAAAAEC2NEEAAAAAn+U3QQAAAACkoTlBAAAAAFweIkEAAAAALvsnQQAAAADJITdBAAAAACZyI0EAAAAA7pMpQQAAAABm\\u002fCxBAAAAAPzfHkEAAAAAMCQbQQAAAADO1ChBAAAAALFiNkEAAAAAtUo3QQAAAABqWDxBAAAAABQAJUEAAAAAUKEuQQAAAACvujFBAAAAACiNIkEAAAAAmEknQQAAAACU\\u002fyBBAAAAAAO4O0E=\"}},{\"axis\":{\"matches\":true},\"label\":\"Mon\",\"values\":{\"dtype\":\"f8\",\"bdata\":\"AAAAAAAAAAAAAAAAAAAAAAAAAAAAAAAAAAAAAAAAAAAAAAAAAADwPwAAAAAAAAAAAAAAAAAAAAAAAAAAAAAAAAAAAAAAAAAAAAAAAAAAAAAAAAAAAAAAAAAAAAAAAPA\\u002fAAAAAAAAAAAAAAAAAAAAAAAAAAAAAAAAAAAAAAAAAAAAAAAAAAAAAAAAAAAAAAAAAAAAAAAA8D8AAAAAAAAAAAAAAAAAAAAAAAAAAAAAAAAAAAAAAAAAAAAAAAAAAAAAAAAAAAAAAAAAAAAAAADwPwAAAAAAAAAAAAAAAAAAAAAAAAAAAAAAAAAAAAAAAAAAAAAAAAAAAAAAAAAAAAAAAAAAAAAAAPA\\u002fAAAAAAAAAAAAAAAAAAAAAAAAAAAAAAAAAAAAAAAAAAAAAAAAAAAAAAAAAAAAAAAAAAAAAAAA8D8AAAAAAAAAAAAAAAAAAAAAAAAAAAAAAAAAAAAAAAAAAAAAAAAAAAAAAAAAAAAAAAAAAAAAAADwPwAAAAAAAAAAAAAAAAAAAAAAAAAAAAAAAAAAAAAAAAAAAAAAAAAAAAAAAAAAAAAAAAAAAAAAAPA\\u002fAAAAAAAAAAAAAAAAAAAAAAAAAAAAAAAAAAAAAAAAAAAAAAAAAAAAAAAAAAAAAAAAAAAAAAAA8D8AAAAAAAAAAAAAAAAAAAAAAAAAAAAAAAAAAAAAAAAAAAAAAAAAAAAAAAAAAAAAAAAAAAAAAADwPwAAAAAAAAAAAAAAAAAAAAAAAAAAAAAAAAAAAAAAAAAAAAAAAAAAAAAAAAAAAAAAAAAAAAAAAPA\\u002fAAAAAAAAAAAAAAAAAAAAAAAAAAAAAAAAAAAAAAAAAAAAAAAAAAAAAAAAAAAAAAAAAAAAAAAA8D8AAAAAAAAAAAAAAAAAAAAAAAAAAAAAAAAAAAAAAAAAAAAAAAAAAAAAAAAAAAAAAAAAAAAAAADwPwAAAAAAAAAAAAAAAAAAAAAAAAAAAAAAAAAAAAAAAAAAAAAAAAAAAAAAAAAAAAAAAAAAAAAAAPA\\u002fAAAAAAAAAAAAAAAAAAAAAAAAAAAAAAAAAAAAAAAAAAAAAAAAAAAAAAAAAAAAAAAAAAAAAAAA8D8AAAAAAAAAAAAAAAAAAAAAAAAAAAAAAAAAAAAAAAAAAAAAAAAAAAAAAAAAAAAAAAAAAAAAAADwPwAAAAAAAAAAAAAAAAAAAAAAAAAAAAAAAAAAAAAAAAAAAAAAAAAAAAAAAAAAAAAAAAAAAAAAAPA\\u002fAAAAAAAAAAAAAAAAAAAAAAAAAAAAAAAAAAAAAAAAAAAAAAAAAAAAAAAAAAAAAAAAAAAAAAAA8D8AAAAAAAAAAAAAAAAAAAAAAAAAAAAAAAAAAAAAAAAAAAAAAAAAAAAAAAAAAAAAAAAAAAAAAADwPwAAAAAAAAAAAAAAAAAAAAAAAAAAAAAAAAAAAAAAAAAAAAAAAAAAAAAAAAAAAAAAAAAAAAAAAPA\\u002fAAAAAAAAAAAAAAAAAAAAAAAAAAAAAAAAAAAAAAAAAAAAAAAAAAAAAAAAAAAAAAAAAAAAAAAA8D8AAAAAAAAAAAAAAAAAAAAAAAAAAAAAAAAAAAAAAAAAAAAAAAAAAAAAAAAAAAAAAAAAAAAAAADwPwAAAAAAAAAAAAAAAAAAAAAAAAAAAAAAAAAAAAAAAAAAAAAAAAAAAAAAAAAAAAAAAAAAAAAAAPA\\u002fAAAAAAAAAAAAAAAAAAAAAAAAAAAAAAAAAAAAAAAAAAAAAAAAAAAAAAAAAAAAAAAAAAAAAAAA8D8AAAAAAAAAAAAAAAAAAAAAAAAAAAAAAAAAAAAAAAAAAAAAAAAAAAAAAAAAAAAAAAAAAAAAAADwPwAAAAAAAAAAAAAAAAAAAAAAAAAAAAAAAAAAAAAAAAAAAAAAAAAAAAAAAAAAAAAAAAAAAAAAAPA\\u002fAAAAAAAAAAAAAAAAAAAAAAAAAAAAAAAAAAAAAAAAAAAAAAAAAAAAAAAAAAAAAAAAAAAAAAAA8D8AAAAAAAAAAAAAAAAAAAAAAAAAAAAAAAAAAAAAAAAAAAAAAAAAAAAAAAAAAAAAAAAAAAAAAADwPwAAAAAAAAAAAAAAAAAAAAAAAAAAAAAAAAAAAAAAAAAAAAAAAAAAAAAAAAAAAAAAAAAAAAAAAPA\\u002fAAAAAAAAAAAAAAAAAAAAAAAAAAAAAAAAAAAAAAAAAAAAAAAAAAAAAAAAAAAAAAAAAAAAAAAA8D8AAAAAAAAAAAAAAAAAAAAAAAAAAAAAAAAAAAAAAAAAAAAAAAAAAAAAAAAAAAAAAAAAAAAAAADwPwAAAAAAAAAAAAAAAAAAAAAAAAAAAAAAAAAAAAAAAAAAAAAAAAAAAAAAAAAAAAAAAAAAAAAAAPA\\u002fAAAAAAAAAAAAAAAAAAAAAAAAAAAAAAAAAAAAAAAAAAAAAAAAAAAAAAAAAAAAAAAAAAAAAAAA8D8AAAAAAAAAAAAAAAAAAAAAAAAAAAAAAAAAAAAAAAAAAAAAAAAAAAAAAAAAAAAAAAAAAAAAAADwPwAAAAAAAAAAAAAAAAAAAAAAAAAAAAAAAAAAAAAAAAAAAAAAAAAAAAAAAAAAAAAAAAAAAAAAAPA\\u002fAAAAAAAAAAAAAAAAAAAAAAAAAAAAAAAAAAAAAAAAAAAAAAAAAAAAAAAAAAAAAAAAAAAAAAAA8D8AAAAAAAAAAAAAAAAAAAAAAAAAAAAAAAAAAAAAAAAAAAAAAAAAAAAAAAAAAAAAAAAAAAAAAADwPwAAAAAAAAAAAAAAAAAAAAAAAAAAAAAAAAAAAAAAAAAAAAAAAAAAAAAAAAAAAAAAAAAAAAAAAPA\\u002fAAAAAAAAAAAAAAAAAAAAAAAAAAAAAAAAAAAAAAAAAAAAAAAAAAAAAAAAAAAAAAAAAAAAAAAA8D8AAAAAAAAAAAAAAAAAAAAAAAAAAAAAAAAAAAAAAAAAAAAAAAAAAAAAAAAAAAAAAAAAAAAAAADwPwAAAAAAAAAAAAAAAAAAAAAAAAAAAAAAAAAAAAAAAAAAAAAAAAAAAAAAAAAAAAAAAAAAAAAAAPA\\u002fAAAAAAAAAAAAAAAAAAAAAAAAAAAAAAAAAAAAAAAAAAAAAAAAAAAAAAAAAAAAAAAAAAAAAAAA8D8AAAAAAAAAAAAAAAAAAAAAAAAAAAAAAAAAAAAAAAAAAAAAAAAAAAAAAAAAAAAAAAAAAAAAAADwPwAAAAAAAAAAAAAAAAAAAAAAAAAAAAAAAAAAAAAAAAAAAAAAAAAAAAAAAAAAAAAAAAAAAAAAAPA\\u002fAAAAAAAAAAAAAAAAAAAAAAAAAAAAAAAAAAAAAAAAAAAAAAAAAAAAAAAAAAAAAAAAAAAAAAAA8D8AAAAAAAAAAAAAAAAAAAAAAAAAAAAAAAAAAAAAAAAAAAAAAAAAAAAAAAAAAAAAAAAAAAAAAADwPwAAAAAAAAAAAAAAAAAAAAAAAAAAAAAAAAAAAAAAAAAAAAAAAAAAAAAAAAAAAAAAAAAAAAAAAPA\\u002fAAAAAAAAAAAAAAAAAAAAAAAAAAAAAAAAAAAAAAAAAAAAAAAAAAAAAAAAAAAAAAAAAAAAAAAA8D8AAAAAAAAAAAAAAAAAAAAAAAAAAAAAAAAAAAAAAAAAAAAAAAAAAAAAAAAAAAAAAAAAAAAAAADwPwAAAAAAAAAAAAAAAAAAAAAAAAAAAAAAAAAAAAAAAAAAAAAAAAAAAAAAAAAAAAAAAAAAAAAAAPA\\u002fAAAAAAAAAAAAAAAAAAAAAAAAAAAAAAAAAAAAAAAAAAAAAAAAAAAAAAAAAAAAAAAAAAAAAAAA8D8AAAAAAAAAAAAAAAAAAAAAAAAAAAAAAAAAAAAAAAAAAAAAAAAAAAAAAAAAAAAAAAAAAAAAAADwPwAAAAAAAAAAAAAAAAAAAAAAAAAAAAAAAAAAAAAAAAAAAAAAAAAAAAAAAAAAAAAAAAAAAAAAAPA\\u002fAAAAAAAAAAAAAAAAAAAAAAAAAAAAAAAAAAAAAAAAAAAAAAAAAAAAAAAAAAAAAAAAAAAAAAAA8D8AAAAAAAAAAAAAAAAAAAAAAAAAAAAAAAAAAAAAAAAAAAAAAAAAAAAAAAAAAAAAAAAAAAAAAADwPwAAAAAAAAAAAAAAAAAAAAAAAAAAAAAAAAAAAAAAAAAAAAAAAAAAAAAAAAAAAAAAAAAAAAAAAPA\\u002fAAAAAAAAAAAAAAAAAAAAAAAAAAAAAAAAAAAAAAAAAAAAAAAAAAAAAAAAAAAAAAAAAAAAAAAA8D8AAAAAAAAAAAAAAAAAAAAAAAAAAAAAAAAAAAAAAAAAAAAAAAAAAAAAAAAAAAAAAAAAAAAAAADwPwAAAAAAAAAAAAAAAAAAAAAAAAAAAAAAAAAAAAAAAAAAAAAAAAAAAAAAAAAAAAAAAAAAAAAAAPA\\u002fAAAAAAAAAAAAAAAAAAAAAAAAAAAAAAAAAAAAAAAAAAAAAAAAAAAAAAAAAAAAAAAAAAAAAAAA8D8AAAAAAAAAAAAAAAAAAAAAAAAAAAAAAAAAAAAAAAAAAAAAAAAAAAAAAAAAAAAAAAAAAAAAAADwPwAAAAAAAAAAAAAAAAAAAAAAAAAAAAAAAAAAAAAAAAAAAAAAAAAAAAAAAAAAAAAAAAAAAAAAAPA\\u002fAAAAAAAAAAAAAAAAAAAAAAAAAAAAAAAAAAAAAAAAAAAAAAAAAAAAAAAAAAAAAAAAAAAAAAAA8D8AAAAAAAAAAAAAAAAAAAAAAAAAAAAAAAAAAAAAAAAAAAAAAAAAAAAAAAAAAAAAAAAAAAAAAADwPwAAAAAAAAAAAAAAAAAAAAAAAAAAAAAAAAAAAAAAAAAAAAAAAAAAAAAAAAAAAAAAAAAAAAAAAPA\\u002fAAAAAAAAAAAAAAAAAAAAAAAAAAAAAAAAAAAAAAAAAAAAAAAAAAAAAAAAAAAAAAAAAAAAAAAA8D8AAAAAAAAAAAAAAAAAAAAAAAAAAAAAAAAAAAAAAAAAAAAAAAAAAAAAAAAAAAAAAAAAAAAAAADwPwAAAAAAAAAAAAAAAAAAAAAAAAAAAAAAAAAAAAAAAAAAAAAAAAAAAAAAAAAAAAAAAAAAAAAAAPA\\u002fAAAAAAAAAAAAAAAAAAAAAAAAAAAAAAAAAAAAAAAAAAAAAAAAAAAAAAAAAAAAAAAAAAAAAAAA8D8AAAAAAAAAAAAAAAAAAAAAAAAAAAAAAAAAAAAAAAAAAAAAAAAAAAAAAAAAAAAAAAA=\"}},{\"axis\":{\"matches\":true},\"label\":\"Tue\",\"values\":{\"dtype\":\"f8\",\"bdata\":\"AAAAAAAAAAAAAAAAAAAAAAAAAAAAAAAAAAAAAAAAAAAAAAAAAAAAAAAAAAAAAPA\\u002fAAAAAAAAAAAAAAAAAAAAAAAAAAAAAAAAAAAAAAAAAAAAAAAAAAAAAAAAAAAAAAAAAAAAAAAA8D8AAAAAAAAAAAAAAAAAAAAAAAAAAAAAAAAAAAAAAAAAAAAAAAAAAAAAAAAAAAAAAAAAAAAAAADwPwAAAAAAAAAAAAAAAAAAAAAAAAAAAAAAAAAAAAAAAAAAAAAAAAAAAAAAAAAAAAAAAAAAAAAAAPA\\u002fAAAAAAAAAAAAAAAAAAAAAAAAAAAAAAAAAAAAAAAAAAAAAAAAAAAAAAAAAAAAAAAAAAAAAAAA8D8AAAAAAAAAAAAAAAAAAAAAAAAAAAAAAAAAAAAAAAAAAAAAAAAAAAAAAAAAAAAAAAAAAAAAAADwPwAAAAAAAAAAAAAAAAAAAAAAAAAAAAAAAAAAAAAAAAAAAAAAAAAAAAAAAAAAAAAAAAAAAAAAAPA\\u002fAAAAAAAAAAAAAAAAAAAAAAAAAAAAAAAAAAAAAAAAAAAAAAAAAAAAAAAAAAAAAAAAAAAAAAAA8D8AAAAAAAAAAAAAAAAAAAAAAAAAAAAAAAAAAAAAAAAAAAAAAAAAAAAAAAAAAAAAAAAAAAAAAADwPwAAAAAAAAAAAAAAAAAAAAAAAAAAAAAAAAAAAAAAAAAAAAAAAAAAAAAAAAAAAAAAAAAAAAAAAPA\\u002fAAAAAAAAAAAAAAAAAAAAAAAAAAAAAAAAAAAAAAAAAAAAAAAAAAAAAAAAAAAAAAAAAAAAAAAA8D8AAAAAAAAAAAAAAAAAAAAAAAAAAAAAAAAAAAAAAAAAAAAAAAAAAAAAAAAAAAAAAAAAAAAAAADwPwAAAAAAAAAAAAAAAAAAAAAAAAAAAAAAAAAAAAAAAAAAAAAAAAAAAAAAAAAAAAAAAAAAAAAAAPA\\u002fAAAAAAAAAAAAAAAAAAAAAAAAAAAAAAAAAAAAAAAAAAAAAAAAAAAAAAAAAAAAAAAAAAAAAAAA8D8AAAAAAAAAAAAAAAAAAAAAAAAAAAAAAAAAAAAAAAAAAAAAAAAAAAAAAAAAAAAAAAAAAAAAAADwPwAAAAAAAAAAAAAAAAAAAAAAAAAAAAAAAAAAAAAAAAAAAAAAAAAAAAAAAAAAAAAAAAAAAAAAAPA\\u002fAAAAAAAAAAAAAAAAAAAAAAAAAAAAAAAAAAAAAAAAAAAAAAAAAAAAAAAAAAAAAAAAAAAAAAAA8D8AAAAAAAAAAAAAAAAAAAAAAAAAAAAAAAAAAAAAAAAAAAAAAAAAAAAAAAAAAAAAAAAAAAAAAADwPwAAAAAAAAAAAAAAAAAAAAAAAAAAAAAAAAAAAAAAAAAAAAAAAAAAAAAAAAAAAAAAAAAAAAAAAPA\\u002fAAAAAAAAAAAAAAAAAAAAAAAAAAAAAAAAAAAAAAAAAAAAAAAAAAAAAAAAAAAAAAAAAAAAAAAA8D8AAAAAAAAAAAAAAAAAAAAAAAAAAAAAAAAAAAAAAAAAAAAAAAAAAAAAAAAAAAAAAAAAAAAAAADwPwAAAAAAAAAAAAAAAAAAAAAAAAAAAAAAAAAAAAAAAAAAAAAAAAAAAAAAAAAAAAAAAAAAAAAAAPA\\u002fAAAAAAAAAAAAAAAAAAAAAAAAAAAAAAAAAAAAAAAAAAAAAAAAAAAAAAAAAAAAAAAAAAAAAAAA8D8AAAAAAAAAAAAAAAAAAAAAAAAAAAAAAAAAAAAAAAAAAAAAAAAAAAAAAAAAAAAAAAAAAAAAAADwPwAAAAAAAAAAAAAAAAAAAAAAAAAAAAAAAAAAAAAAAAAAAAAAAAAAAAAAAAAAAAAAAAAAAAAAAPA\\u002fAAAAAAAAAAAAAAAAAAAAAAAAAAAAAAAAAAAAAAAAAAAAAAAAAAAAAAAAAAAAAAAAAAAAAAAA8D8AAAAAAAAAAAAAAAAAAAAAAAAAAAAAAAAAAAAAAAAAAAAAAAAAAAAAAAAAAAAAAAAAAAAAAADwPwAAAAAAAAAAAAAAAAAAAAAAAAAAAAAAAAAAAAAAAAAAAAAAAAAAAAAAAAAAAAAAAAAAAAAAAPA\\u002fAAAAAAAAAAAAAAAAAAAAAAAAAAAAAAAAAAAAAAAAAAAAAAAAAAAAAAAAAAAAAAAAAAAAAAAA8D8AAAAAAAAAAAAAAAAAAAAAAAAAAAAAAAAAAAAAAAAAAAAAAAAAAAAAAAAAAAAAAAAAAAAAAADwPwAAAAAAAAAAAAAAAAAAAAAAAAAAAAAAAAAAAAAAAAAAAAAAAAAAAAAAAAAAAAAAAAAAAAAAAPA\\u002fAAAAAAAAAAAAAAAAAAAAAAAAAAAAAAAAAAAAAAAAAAAAAAAAAAAAAAAAAAAAAAAAAAAAAAAA8D8AAAAAAAAAAAAAAAAAAAAAAAAAAAAAAAAAAAAAAAAAAAAAAAAAAAAAAAAAAAAAAAAAAAAAAADwPwAAAAAAAAAAAAAAAAAAAAAAAAAAAAAAAAAAAAAAAAAAAAAAAAAAAAAAAAAAAAAAAAAAAAAAAPA\\u002fAAAAAAAAAAAAAAAAAAAAAAAAAAAAAAAAAAAAAAAAAAAAAAAAAAAAAAAAAAAAAAAAAAAAAAAA8D8AAAAAAAAAAAAAAAAAAAAAAAAAAAAAAAAAAAAAAAAAAAAAAAAAAAAAAAAAAAAAAAAAAAAAAADwPwAAAAAAAAAAAAAAAAAAAAAAAAAAAAAAAAAAAAAAAAAAAAAAAAAAAAAAAAAAAAAAAAAAAAAAAPA\\u002fAAAAAAAAAAAAAAAAAAAAAAAAAAAAAAAAAAAAAAAAAAAAAAAAAAAAAAAAAAAAAAAAAAAAAAAA8D8AAAAAAAAAAAAAAAAAAAAAAAAAAAAAAAAAAAAAAAAAAAAAAAAAAAAAAAAAAAAAAAAAAAAAAADwPwAAAAAAAAAAAAAAAAAAAAAAAAAAAAAAAAAAAAAAAAAAAAAAAAAAAAAAAAAAAAAAAAAAAAAAAPA\\u002fAAAAAAAAAAAAAAAAAAAAAAAAAAAAAAAAAAAAAAAAAAAAAAAAAAAAAAAAAAAAAAAAAAAAAAAA8D8AAAAAAAAAAAAAAAAAAAAAAAAAAAAAAAAAAAAAAAAAAAAAAAAAAAAAAAAAAAAAAAAAAAAAAADwPwAAAAAAAAAAAAAAAAAAAAAAAAAAAAAAAAAAAAAAAAAAAAAAAAAAAAAAAAAAAAAAAAAAAAAAAPA\\u002fAAAAAAAAAAAAAAAAAAAAAAAAAAAAAAAAAAAAAAAAAAAAAAAAAAAAAAAAAAAAAAAAAAAAAAAA8D8AAAAAAAAAAAAAAAAAAAAAAAAAAAAAAAAAAAAAAAAAAAAAAAAAAAAAAAAAAAAAAAAAAAAAAADwPwAAAAAAAAAAAAAAAAAAAAAAAAAAAAAAAAAAAAAAAAAAAAAAAAAAAAAAAAAAAAAAAAAAAAAAAPA\\u002fAAAAAAAAAAAAAAAAAAAAAAAAAAAAAAAAAAAAAAAAAAAAAAAAAAAAAAAAAAAAAAAAAAAAAAAA8D8AAAAAAAAAAAAAAAAAAAAAAAAAAAAAAAAAAAAAAAAAAAAAAAAAAAAAAAAAAAAAAAAAAAAAAADwPwAAAAAAAAAAAAAAAAAAAAAAAAAAAAAAAAAAAAAAAAAAAAAAAAAAAAAAAAAAAAAAAAAAAAAAAPA\\u002fAAAAAAAAAAAAAAAAAAAAAAAAAAAAAAAAAAAAAAAAAAAAAAAAAAAAAAAAAAAAAAAAAAAAAAAA8D8AAAAAAAAAAAAAAAAAAAAAAAAAAAAAAAAAAAAAAAAAAAAAAAAAAAAAAAAAAAAAAAAAAAAAAADwPwAAAAAAAAAAAAAAAAAAAAAAAAAAAAAAAAAAAAAAAAAAAAAAAAAAAAAAAAAAAAAAAAAAAAAAAPA\\u002fAAAAAAAAAAAAAAAAAAAAAAAAAAAAAAAAAAAAAAAAAAAAAAAAAAAAAAAAAAAAAAAAAAAAAAAA8D8AAAAAAAAAAAAAAAAAAAAAAAAAAAAAAAAAAAAAAAAAAAAAAAAAAAAAAAAAAAAAAAAAAAAAAADwPwAAAAAAAAAAAAAAAAAAAAAAAAAAAAAAAAAAAAAAAAAAAAAAAAAAAAAAAAAAAAAAAAAAAAAAAPA\\u002fAAAAAAAAAAAAAAAAAAAAAAAAAAAAAAAAAAAAAAAAAAAAAAAAAAAAAAAAAAAAAAAAAAAAAAAA8D8AAAAAAAAAAAAAAAAAAAAAAAAAAAAAAAAAAAAAAAAAAAAAAAAAAAAAAAAAAAAAAAAAAAAAAADwPwAAAAAAAAAAAAAAAAAAAAAAAAAAAAAAAAAAAAAAAAAAAAAAAAAAAAAAAAAAAAAAAAAAAAAAAPA\\u002fAAAAAAAAAAAAAAAAAAAAAAAAAAAAAAAAAAAAAAAAAAAAAAAAAAAAAAAAAAAAAAAAAAAAAAAA8D8AAAAAAAAAAAAAAAAAAAAAAAAAAAAAAAAAAAAAAAAAAAAAAAAAAAAAAAAAAAAAAAAAAAAAAADwPwAAAAAAAAAAAAAAAAAAAAAAAAAAAAAAAAAAAAAAAAAAAAAAAAAAAAAAAAAAAAAAAAAAAAAAAPA\\u002fAAAAAAAAAAAAAAAAAAAAAAAAAAAAAAAAAAAAAAAAAAAAAAAAAAAAAAAAAAAAAAAAAAAAAAAA8D8AAAAAAAAAAAAAAAAAAAAAAAAAAAAAAAAAAAAAAAAAAAAAAAAAAAAAAAAAAAAAAAAAAAAAAADwPwAAAAAAAAAAAAAAAAAAAAAAAAAAAAAAAAAAAAAAAAAAAAAAAAAAAAAAAAAAAAAAAAAAAAAAAPA\\u002fAAAAAAAAAAAAAAAAAAAAAAAAAAAAAAAAAAAAAAAAAAAAAAAAAAAAAAAAAAAAAAAAAAAAAAAA8D8AAAAAAAAAAAAAAAAAAAAAAAAAAAAAAAAAAAAAAAAAAAAAAAAAAAAAAAAAAAAAAAAAAAAAAADwPwAAAAAAAAAAAAAAAAAAAAAAAAAAAAAAAAAAAAAAAAAAAAAAAAAAAAAAAAAAAAAAAAAAAAAAAPA\\u002fAAAAAAAAAAAAAAAAAAAAAAAAAAAAAAAAAAAAAAAAAAAAAAAAAAAAAAAAAAAAAAAAAAAAAAAA8D8AAAAAAAAAAAAAAAAAAAAAAAAAAAAAAAAAAAAAAAAAAAAAAAAAAAAAAAAAAAAAAAAAAAAAAADwPwAAAAAAAAAAAAAAAAAAAAAAAAAAAAAAAAAAAAAAAAAAAAAAAAAAAAA=\"}},{\"axis\":{\"matches\":true},\"label\":\"Wed\",\"values\":{\"dtype\":\"f8\",\"bdata\":\"AAAAAAAAAAAAAAAAAAAAAAAAAAAAAAAAAAAAAAAAAAAAAAAAAAAAAAAAAAAAAAAAAAAAAAAA8D8AAAAAAAAAAAAAAAAAAAAAAAAAAAAAAAAAAAAAAAAAAAAAAAAAAAAAAAAAAAAAAAAAAAAAAADwPwAAAAAAAAAAAAAAAAAAAAAAAAAAAAAAAAAAAAAAAAAAAAAAAAAAAAAAAAAAAAAAAAAAAAAAAPA\\u002fAAAAAAAAAAAAAAAAAAAAAAAAAAAAAAAAAAAAAAAAAAAAAAAAAAAAAAAAAAAAAAAAAAAAAAAA8D8AAAAAAAAAAAAAAAAAAAAAAAAAAAAAAAAAAAAAAAAAAAAAAAAAAAAAAAAAAAAAAAAAAAAAAADwPwAAAAAAAAAAAAAAAAAAAAAAAAAAAAAAAAAAAAAAAAAAAAAAAAAAAAAAAAAAAAAAAAAAAAAAAPA\\u002fAAAAAAAAAAAAAAAAAAAAAAAAAAAAAAAAAAAAAAAAAAAAAAAAAAAAAAAAAAAAAAAAAAAAAAAA8D8AAAAAAAAAAAAAAAAAAAAAAAAAAAAAAAAAAAAAAAAAAAAAAAAAAAAAAAAAAAAAAAAAAAAAAADwPwAAAAAAAAAAAAAAAAAAAAAAAAAAAAAAAAAAAAAAAAAAAAAAAAAAAAAAAAAAAAAAAAAAAAAAAPA\\u002fAAAAAAAAAAAAAAAAAAAAAAAAAAAAAAAAAAAAAAAAAAAAAAAAAAAAAAAAAAAAAAAAAAAAAAAA8D8AAAAAAAAAAAAAAAAAAAAAAAAAAAAAAAAAAAAAAAAAAAAAAAAAAAAAAAAAAAAAAAAAAAAAAADwPwAAAAAAAAAAAAAAAAAAAAAAAAAAAAAAAAAAAAAAAAAAAAAAAAAAAAAAAAAAAAAAAAAAAAAAAPA\\u002fAAAAAAAAAAAAAAAAAAAAAAAAAAAAAAAAAAAAAAAAAAAAAAAAAAAAAAAAAAAAAAAAAAAAAAAA8D8AAAAAAAAAAAAAAAAAAAAAAAAAAAAAAAAAAAAAAAAAAAAAAAAAAAAAAAAAAAAAAAAAAAAAAADwPwAAAAAAAAAAAAAAAAAAAAAAAAAAAAAAAAAAAAAAAAAAAAAAAAAAAAAAAAAAAAAAAAAAAAAAAPA\\u002fAAAAAAAAAAAAAAAAAAAAAAAAAAAAAAAAAAAAAAAAAAAAAAAAAAAAAAAAAAAAAAAAAAAAAAAA8D8AAAAAAAAAAAAAAAAAAAAAAAAAAAAAAAAAAAAAAAAAAAAAAAAAAAAAAAAAAAAAAAAAAAAAAADwPwAAAAAAAAAAAAAAAAAAAAAAAAAAAAAAAAAAAAAAAAAAAAAAAAAAAAAAAAAAAAAAAAAAAAAAAPA\\u002fAAAAAAAAAAAAAAAAAAAAAAAAAAAAAAAAAAAAAAAAAAAAAAAAAAAAAAAAAAAAAAAAAAAAAAAA8D8AAAAAAAAAAAAAAAAAAAAAAAAAAAAAAAAAAAAAAAAAAAAAAAAAAAAAAAAAAAAAAAAAAAAAAADwPwAAAAAAAAAAAAAAAAAAAAAAAAAAAAAAAAAAAAAAAAAAAAAAAAAAAAAAAAAAAAAAAAAAAAAAAPA\\u002fAAAAAAAAAAAAAAAAAAAAAAAAAAAAAAAAAAAAAAAAAAAAAAAAAAAAAAAAAAAAAAAAAAAAAAAA8D8AAAAAAAAAAAAAAAAAAAAAAAAAAAAAAAAAAAAAAAAAAAAAAAAAAAAAAAAAAAAAAAAAAAAAAADwPwAAAAAAAAAAAAAAAAAAAAAAAAAAAAAAAAAAAAAAAAAAAAAAAAAAAAAAAAAAAAAAAAAAAAAAAPA\\u002fAAAAAAAAAAAAAAAAAAAAAAAAAAAAAAAAAAAAAAAAAAAAAAAAAAAAAAAAAAAAAAAAAAAAAAAA8D8AAAAAAAAAAAAAAAAAAAAAAAAAAAAAAAAAAAAAAAAAAAAAAAAAAAAAAAAAAAAAAAAAAAAAAADwPwAAAAAAAAAAAAAAAAAAAAAAAAAAAAAAAAAAAAAAAAAAAAAAAAAAAAAAAAAAAAAAAAAAAAAAAPA\\u002fAAAAAAAAAAAAAAAAAAAAAAAAAAAAAAAAAAAAAAAAAAAAAAAAAAAAAAAAAAAAAAAAAAAAAAAA8D8AAAAAAAAAAAAAAAAAAAAAAAAAAAAAAAAAAAAAAAAAAAAAAAAAAAAAAAAAAAAAAAAAAAAAAADwPwAAAAAAAAAAAAAAAAAAAAAAAAAAAAAAAAAAAAAAAAAAAAAAAAAAAAAAAAAAAAAAAAAAAAAAAPA\\u002fAAAAAAAAAAAAAAAAAAAAAAAAAAAAAAAAAAAAAAAAAAAAAAAAAAAAAAAAAAAAAAAAAAAAAAAA8D8AAAAAAAAAAAAAAAAAAAAAAAAAAAAAAAAAAAAAAAAAAAAAAAAAAAAAAAAAAAAAAAAAAAAAAADwPwAAAAAAAAAAAAAAAAAAAAAAAAAAAAAAAAAAAAAAAAAAAAAAAAAAAAAAAAAAAAAAAAAAAAAAAPA\\u002fAAAAAAAAAAAAAAAAAAAAAAAAAAAAAAAAAAAAAAAAAAAAAAAAAAAAAAAAAAAAAAAAAAAAAAAA8D8AAAAAAAAAAAAAAAAAAAAAAAAAAAAAAAAAAAAAAAAAAAAAAAAAAAAAAAAAAAAAAAAAAAAAAADwPwAAAAAAAAAAAAAAAAAAAAAAAAAAAAAAAAAAAAAAAAAAAAAAAAAAAAAAAAAAAAAAAAAAAAAAAPA\\u002fAAAAAAAAAAAAAAAAAAAAAAAAAAAAAAAAAAAAAAAAAAAAAAAAAAAAAAAAAAAAAAAAAAAAAAAA8D8AAAAAAAAAAAAAAAAAAAAAAAAAAAAAAAAAAAAAAAAAAAAAAAAAAAAAAAAAAAAAAAAAAAAAAADwPwAAAAAAAAAAAAAAAAAAAAAAAAAAAAAAAAAAAAAAAAAAAAAAAAAAAAAAAAAAAAAAAAAAAAAAAPA\\u002fAAAAAAAAAAAAAAAAAAAAAAAAAAAAAAAAAAAAAAAAAAAAAAAAAAAAAAAAAAAAAAAAAAAAAAAA8D8AAAAAAAAAAAAAAAAAAAAAAAAAAAAAAAAAAAAAAAAAAAAAAAAAAAAAAAAAAAAAAAAAAAAAAADwPwAAAAAAAAAAAAAAAAAAAAAAAAAAAAAAAAAAAAAAAAAAAAAAAAAAAAAAAAAAAAAAAAAAAAAAAPA\\u002fAAAAAAAAAAAAAAAAAAAAAAAAAAAAAAAAAAAAAAAAAAAAAAAAAAAAAAAAAAAAAAAAAAAAAAAA8D8AAAAAAAAAAAAAAAAAAAAAAAAAAAAAAAAAAAAAAAAAAAAAAAAAAAAAAAAAAAAAAAAAAAAAAADwPwAAAAAAAAAAAAAAAAAAAAAAAAAAAAAAAAAAAAAAAAAAAAAAAAAAAAAAAAAAAAAAAAAAAAAAAPA\\u002fAAAAAAAAAAAAAAAAAAAAAAAAAAAAAAAAAAAAAAAAAAAAAAAAAAAAAAAAAAAAAAAAAAAAAAAA8D8AAAAAAAAAAAAAAAAAAAAAAAAAAAAAAAAAAAAAAAAAAAAAAAAAAAAAAAAAAAAAAAAAAAAAAADwPwAAAAAAAAAAAAAAAAAAAAAAAAAAAAAAAAAAAAAAAAAAAAAAAAAAAAAAAAAAAAAAAAAAAAAAAPA\\u002fAAAAAAAAAAAAAAAAAAAAAAAAAAAAAAAAAAAAAAAAAAAAAAAAAAAAAAAAAAAAAAAAAAAAAAAA8D8AAAAAAAAAAAAAAAAAAAAAAAAAAAAAAAAAAAAAAAAAAAAAAAAAAAAAAAAAAAAAAAAAAAAAAADwPwAAAAAAAAAAAAAAAAAAAAAAAAAAAAAAAAAAAAAAAAAAAAAAAAAAAAAAAAAAAAAAAAAAAAAAAPA\\u002fAAAAAAAAAAAAAAAAAAAAAAAAAAAAAAAAAAAAAAAAAAAAAAAAAAAAAAAAAAAAAAAAAAAAAAAA8D8AAAAAAAAAAAAAAAAAAAAAAAAAAAAAAAAAAAAAAAAAAAAAAAAAAAAAAAAAAAAAAAAAAAAAAADwPwAAAAAAAAAAAAAAAAAAAAAAAAAAAAAAAAAAAAAAAAAAAAAAAAAAAAAAAAAAAAAAAAAAAAAAAPA\\u002fAAAAAAAAAAAAAAAAAAAAAAAAAAAAAAAAAAAAAAAAAAAAAAAAAAAAAAAAAAAAAAAAAAAAAAAA8D8AAAAAAAAAAAAAAAAAAAAAAAAAAAAAAAAAAAAAAAAAAAAAAAAAAAAAAAAAAAAAAAAAAAAAAADwPwAAAAAAAAAAAAAAAAAAAAAAAAAAAAAAAAAAAAAAAAAAAAAAAAAAAAAAAAAAAAAAAAAAAAAAAPA\\u002fAAAAAAAAAAAAAAAAAAAAAAAAAAAAAAAAAAAAAAAAAAAAAAAAAAAAAAAAAAAAAAAAAAAAAAAA8D8AAAAAAAAAAAAAAAAAAAAAAAAAAAAAAAAAAAAAAAAAAAAAAAAAAAAAAAAAAAAAAAAAAAAAAADwPwAAAAAAAAAAAAAAAAAAAAAAAAAAAAAAAAAAAAAAAAAAAAAAAAAAAAAAAAAAAAAAAAAAAAAAAPA\\u002fAAAAAAAAAAAAAAAAAAAAAAAAAAAAAAAAAAAAAAAAAAAAAAAAAAAAAAAAAAAAAAAAAAAAAAAA8D8AAAAAAAAAAAAAAAAAAAAAAAAAAAAAAAAAAAAAAAAAAAAAAAAAAAAAAAAAAAAAAAAAAAAAAADwPwAAAAAAAAAAAAAAAAAAAAAAAAAAAAAAAAAAAAAAAAAAAAAAAAAAAAAAAAAAAAAAAAAAAAAAAPA\\u002fAAAAAAAAAAAAAAAAAAAAAAAAAAAAAAAAAAAAAAAAAAAAAAAAAAAAAAAAAAAAAAAAAAAAAAAA8D8AAAAAAAAAAAAAAAAAAAAAAAAAAAAAAAAAAAAAAAAAAAAAAAAAAAAAAAAAAAAAAAAAAAAAAADwPwAAAAAAAAAAAAAAAAAAAAAAAAAAAAAAAAAAAAAAAAAAAAAAAAAAAAAAAAAAAAAAAAAAAAAAAPA\\u002fAAAAAAAAAAAAAAAAAAAAAAAAAAAAAAAAAAAAAAAAAAAAAAAAAAAAAAAAAAAAAAAAAAAAAAAA8D8AAAAAAAAAAAAAAAAAAAAAAAAAAAAAAAAAAAAAAAAAAAAAAAAAAAAAAAAAAAAAAAAAAAAAAADwPwAAAAAAAAAAAAAAAAAAAAAAAAAAAAAAAAAAAAAAAAAAAAAAAAAAAAAAAAAAAAAAAAAAAAAAAPA\\u002fAAAAAAAAAAAAAAAAAAAAAAAAAAAAAAAAAAAAAAAAAAA=\"}},{\"axis\":{\"matches\":true},\"label\":\"Thu\",\"values\":{\"dtype\":\"f8\",\"bdata\":\"AAAAAAAA8D8AAAAAAAAAAAAAAAAAAAAAAAAAAAAAAAAAAAAAAAAAAAAAAAAAAAAAAAAAAAAAAAAAAAAAAADwPwAAAAAAAAAAAAAAAAAAAAAAAAAAAAAAAAAAAAAAAAAAAAAAAAAAAAAAAAAAAAAAAAAAAAAAAPA\\u002fAAAAAAAAAAAAAAAAAAAAAAAAAAAAAAAAAAAAAAAAAAAAAAAAAAAAAAAAAAAAAAAAAAAAAAAA8D8AAAAAAAAAAAAAAAAAAAAAAAAAAAAAAAAAAAAAAAAAAAAAAAAAAAAAAAAAAAAAAAAAAAAAAADwPwAAAAAAAAAAAAAAAAAAAAAAAAAAAAAAAAAAAAAAAAAAAAAAAAAAAAAAAAAAAAAAAAAAAAAAAPA\\u002fAAAAAAAAAAAAAAAAAAAAAAAAAAAAAAAAAAAAAAAAAAAAAAAAAAAAAAAAAAAAAAAAAAAAAAAA8D8AAAAAAAAAAAAAAAAAAAAAAAAAAAAAAAAAAAAAAAAAAAAAAAAAAAAAAAAAAAAAAAAAAAAAAADwPwAAAAAAAAAAAAAAAAAAAAAAAAAAAAAAAAAAAAAAAAAAAAAAAAAAAAAAAAAAAAAAAAAAAAAAAPA\\u002fAAAAAAAAAAAAAAAAAAAAAAAAAAAAAAAAAAAAAAAAAAAAAAAAAAAAAAAAAAAAAAAAAAAAAAAA8D8AAAAAAAAAAAAAAAAAAAAAAAAAAAAAAAAAAAAAAAAAAAAAAAAAAAAAAAAAAAAAAAAAAAAAAADwPwAAAAAAAAAAAAAAAAAAAAAAAAAAAAAAAAAAAAAAAAAAAAAAAAAAAAAAAAAAAAAAAAAAAAAAAPA\\u002fAAAAAAAAAAAAAAAAAAAAAAAAAAAAAAAAAAAAAAAAAAAAAAAAAAAAAAAAAAAAAAAAAAAAAAAA8D8AAAAAAAAAAAAAAAAAAAAAAAAAAAAAAAAAAAAAAAAAAAAAAAAAAAAAAAAAAAAAAAAAAAAAAADwPwAAAAAAAAAAAAAAAAAAAAAAAAAAAAAAAAAAAAAAAAAAAAAAAAAAAAAAAAAAAAAAAAAAAAAAAPA\\u002fAAAAAAAAAAAAAAAAAAAAAAAAAAAAAAAAAAAAAAAAAAAAAAAAAAAAAAAAAAAAAAAAAAAAAAAA8D8AAAAAAAAAAAAAAAAAAAAAAAAAAAAAAAAAAAAAAAAAAAAAAAAAAAAAAAAAAAAAAAAAAAAAAADwPwAAAAAAAAAAAAAAAAAAAAAAAAAAAAAAAAAAAAAAAAAAAAAAAAAAAAAAAAAAAAAAAAAAAAAAAPA\\u002fAAAAAAAAAAAAAAAAAAAAAAAAAAAAAAAAAAAAAAAAAAAAAAAAAAAAAAAAAAAAAAAAAAAAAAAA8D8AAAAAAAAAAAAAAAAAAAAAAAAAAAAAAAAAAAAAAAAAAAAAAAAAAAAAAAAAAAAAAAAAAAAAAADwPwAAAAAAAAAAAAAAAAAAAAAAAAAAAAAAAAAAAAAAAAAAAAAAAAAAAAAAAAAAAAAAAAAAAAAAAPA\\u002fAAAAAAAAAAAAAAAAAAAAAAAAAAAAAAAAAAAAAAAAAAAAAAAAAAAAAAAAAAAAAAAAAAAAAAAA8D8AAAAAAAAAAAAAAAAAAAAAAAAAAAAAAAAAAAAAAAAAAAAAAAAAAAAAAAAAAAAAAAAAAAAAAADwPwAAAAAAAAAAAAAAAAAAAAAAAAAAAAAAAAAAAAAAAAAAAAAAAAAAAAAAAAAAAAAAAAAAAAAAAPA\\u002fAAAAAAAAAAAAAAAAAAAAAAAAAAAAAAAAAAAAAAAAAAAAAAAAAAAAAAAAAAAAAAAAAAAAAAAA8D8AAAAAAAAAAAAAAAAAAAAAAAAAAAAAAAAAAAAAAAAAAAAAAAAAAAAAAAAAAAAAAAAAAAAAAADwPwAAAAAAAAAAAAAAAAAAAAAAAAAAAAAAAAAAAAAAAAAAAAAAAAAAAAAAAAAAAAAAAAAAAAAAAPA\\u002fAAAAAAAAAAAAAAAAAAAAAAAAAAAAAAAAAAAAAAAAAAAAAAAAAAAAAAAAAAAAAAAAAAAAAAAA8D8AAAAAAAAAAAAAAAAAAAAAAAAAAAAAAAAAAAAAAAAAAAAAAAAAAAAAAAAAAAAAAAAAAAAAAADwPwAAAAAAAAAAAAAAAAAAAAAAAAAAAAAAAAAAAAAAAAAAAAAAAAAAAAAAAAAAAAAAAAAAAAAAAPA\\u002fAAAAAAAAAAAAAAAAAAAAAAAAAAAAAAAAAAAAAAAAAAAAAAAAAAAAAAAAAAAAAAAAAAAAAAAA8D8AAAAAAAAAAAAAAAAAAAAAAAAAAAAAAAAAAAAAAAAAAAAAAAAAAAAAAAAAAAAAAAAAAAAAAADwPwAAAAAAAAAAAAAAAAAAAAAAAAAAAAAAAAAAAAAAAAAAAAAAAAAAAAAAAAAAAAAAAAAAAAAAAPA\\u002fAAAAAAAAAAAAAAAAAAAAAAAAAAAAAAAAAAAAAAAAAAAAAAAAAAAAAAAAAAAAAAAAAAAAAAAA8D8AAAAAAAAAAAAAAAAAAAAAAAAAAAAAAAAAAAAAAAAAAAAAAAAAAAAAAAAAAAAAAAAAAAAAAADwPwAAAAAAAAAAAAAAAAAAAAAAAAAAAAAAAAAAAAAAAAAAAAAAAAAAAAAAAAAAAAAAAAAAAAAAAPA\\u002fAAAAAAAAAAAAAAAAAAAAAAAAAAAAAAAAAAAAAAAAAAAAAAAAAAAAAAAAAAAAAAAAAAAAAAAA8D8AAAAAAAAAAAAAAAAAAAAAAAAAAAAAAAAAAAAAAAAAAAAAAAAAAAAAAAAAAAAAAAAAAAAAAADwPwAAAAAAAAAAAAAAAAAAAAAAAAAAAAAAAAAAAAAAAAAAAAAAAAAAAAAAAAAAAAAAAAAAAAAAAPA\\u002fAAAAAAAAAAAAAAAAAAAAAAAAAAAAAAAAAAAAAAAAAAAAAAAAAAAAAAAAAAAAAAAAAAAAAAAA8D8AAAAAAAAAAAAAAAAAAAAAAAAAAAAAAAAAAAAAAAAAAAAAAAAAAAAAAAAAAAAAAAAAAAAAAADwPwAAAAAAAAAAAAAAAAAAAAAAAAAAAAAAAAAAAAAAAAAAAAAAAAAAAAAAAAAAAAAAAAAAAAAAAPA\\u002fAAAAAAAAAAAAAAAAAAAAAAAAAAAAAAAAAAAAAAAAAAAAAAAAAAAAAAAAAAAAAAAAAAAAAAAA8D8AAAAAAAAAAAAAAAAAAAAAAAAAAAAAAAAAAAAAAAAAAAAAAAAAAAAAAAAAAAAAAAAAAAAAAADwPwAAAAAAAAAAAAAAAAAAAAAAAAAAAAAAAAAAAAAAAAAAAAAAAAAAAAAAAAAAAAAAAAAAAAAAAPA\\u002fAAAAAAAAAAAAAAAAAAAAAAAAAAAAAAAAAAAAAAAAAAAAAAAAAAAAAAAAAAAAAAAAAAAAAAAA8D8AAAAAAAAAAAAAAAAAAAAAAAAAAAAAAAAAAAAAAAAAAAAAAAAAAAAAAAAAAAAAAAAAAAAAAADwPwAAAAAAAAAAAAAAAAAAAAAAAAAAAAAAAAAAAAAAAAAAAAAAAAAAAAAAAAAAAAAAAAAAAAAAAPA\\u002fAAAAAAAAAAAAAAAAAAAAAAAAAAAAAAAAAAAAAAAAAAAAAAAAAAAAAAAAAAAAAAAAAAAAAAAA8D8AAAAAAAAAAAAAAAAAAAAAAAAAAAAAAAAAAAAAAAAAAAAAAAAAAAAAAAAAAAAAAAAAAAAAAADwPwAAAAAAAAAAAAAAAAAAAAAAAAAAAAAAAAAAAAAAAAAAAAAAAAAAAAAAAAAAAAAAAAAAAAAAAPA\\u002fAAAAAAAAAAAAAAAAAAAAAAAAAAAAAAAAAAAAAAAAAAAAAAAAAAAAAAAAAAAAAAAAAAAAAAAA8D8AAAAAAAAAAAAAAAAAAAAAAAAAAAAAAAAAAAAAAAAAAAAAAAAAAAAAAAAAAAAAAAAAAAAAAADwPwAAAAAAAAAAAAAAAAAAAAAAAAAAAAAAAAAAAAAAAAAAAAAAAAAAAAAAAAAAAAAAAAAAAAAAAPA\\u002fAAAAAAAAAAAAAAAAAAAAAAAAAAAAAAAAAAAAAAAAAAAAAAAAAAAAAAAAAAAAAAAAAAAAAAAA8D8AAAAAAAAAAAAAAAAAAAAAAAAAAAAAAAAAAAAAAAAAAAAAAAAAAAAAAAAAAAAAAAAAAAAAAADwPwAAAAAAAAAAAAAAAAAAAAAAAAAAAAAAAAAAAAAAAAAAAAAAAAAAAAAAAAAAAAAAAAAAAAAAAPA\\u002fAAAAAAAAAAAAAAAAAAAAAAAAAAAAAAAAAAAAAAAAAAAAAAAAAAAAAAAAAAAAAAAAAAAAAAAA8D8AAAAAAAAAAAAAAAAAAAAAAAAAAAAAAAAAAAAAAAAAAAAAAAAAAAAAAAAAAAAAAAAAAAAAAADwPwAAAAAAAAAAAAAAAAAAAAAAAAAAAAAAAAAAAAAAAAAAAAAAAAAAAAAAAAAAAAAAAAAAAAAAAPA\\u002fAAAAAAAAAAAAAAAAAAAAAAAAAAAAAAAAAAAAAAAAAAAAAAAAAAAAAAAAAAAAAAAAAAAAAAAA8D8AAAAAAAAAAAAAAAAAAAAAAAAAAAAAAAAAAAAAAAAAAAAAAAAAAAAAAAAAAAAAAAAAAAAAAADwPwAAAAAAAAAAAAAAAAAAAAAAAAAAAAAAAAAAAAAAAAAAAAAAAAAAAAAAAAAAAAAAAAAAAAAAAPA\\u002fAAAAAAAAAAAAAAAAAAAAAAAAAAAAAAAAAAAAAAAAAAAAAAAAAAAAAAAAAAAAAAAAAAAAAAAA8D8AAAAAAAAAAAAAAAAAAAAAAAAAAAAAAAAAAAAAAAAAAAAAAAAAAAAAAAAAAAAAAAAAAAAAAADwPwAAAAAAAAAAAAAAAAAAAAAAAAAAAAAAAAAAAAAAAAAAAAAAAAAAAAAAAAAAAAAAAAAAAAAAAPA\\u002fAAAAAAAAAAAAAAAAAAAAAAAAAAAAAAAAAAAAAAAAAAAAAAAAAAAAAAAAAAAAAAAAAAAAAAAA8D8AAAAAAAAAAAAAAAAAAAAAAAAAAAAAAAAAAAAAAAAAAAAAAAAAAAAAAAAAAAAAAAAAAAAAAADwPwAAAAAAAAAAAAAAAAAAAAAAAAAAAAAAAAAAAAAAAAAAAAAAAAAAAAAAAAAAAAAAAAAAAAAAAPA\\u002fAAAAAAAAAAAAAAAAAAAAAAAAAAAAAAAAAAAAAAAAAAAAAAAAAAAAAAAAAAAAAAAAAAAAAAAA8D8AAAAAAAAAAAAAAAAAAAAAAAAAAAAAAAA=\"}},{\"axis\":{\"matches\":true},\"label\":\"Fri\",\"values\":{\"dtype\":\"f8\",\"bdata\":\"AAAAAAAAAAAAAAAAAADwPwAAAAAAAAAAAAAAAAAAAAAAAAAAAAAAAAAAAAAAAAAAAAAAAAAAAAAAAAAAAAAAAAAAAAAAAPA\\u002fAAAAAAAAAAAAAAAAAAAAAAAAAAAAAAAAAAAAAAAAAAAAAAAAAAAAAAAAAAAAAAAAAAAAAAAA8D8AAAAAAAAAAAAAAAAAAAAAAAAAAAAAAAAAAAAAAAAAAAAAAAAAAAAAAAAAAAAAAAAAAAAAAADwPwAAAAAAAAAAAAAAAAAAAAAAAAAAAAAAAAAAAAAAAAAAAAAAAAAAAAAAAAAAAAAAAAAAAAAAAPA\\u002fAAAAAAAAAAAAAAAAAAAAAAAAAAAAAAAAAAAAAAAAAAAAAAAAAAAAAAAAAAAAAAAAAAAAAAAA8D8AAAAAAAAAAAAAAAAAAAAAAAAAAAAAAAAAAAAAAAAAAAAAAAAAAAAAAAAAAAAAAAAAAAAAAADwPwAAAAAAAAAAAAAAAAAAAAAAAAAAAAAAAAAAAAAAAAAAAAAAAAAAAAAAAAAAAAAAAAAAAAAAAPA\\u002fAAAAAAAAAAAAAAAAAAAAAAAAAAAAAAAAAAAAAAAAAAAAAAAAAAAAAAAAAAAAAAAAAAAAAAAA8D8AAAAAAAAAAAAAAAAAAAAAAAAAAAAAAAAAAAAAAAAAAAAAAAAAAAAAAAAAAAAAAAAAAAAAAADwPwAAAAAAAAAAAAAAAAAAAAAAAAAAAAAAAAAAAAAAAAAAAAAAAAAAAAAAAAAAAAAAAAAAAAAAAPA\\u002fAAAAAAAAAAAAAAAAAAAAAAAAAAAAAAAAAAAAAAAAAAAAAAAAAAAAAAAAAAAAAAAAAAAAAAAA8D8AAAAAAAAAAAAAAAAAAAAAAAAAAAAAAAAAAAAAAAAAAAAAAAAAAAAAAAAAAAAAAAAAAAAAAADwPwAAAAAAAAAAAAAAAAAAAAAAAAAAAAAAAAAAAAAAAAAAAAAAAAAAAAAAAAAAAAAAAAAAAAAAAPA\\u002fAAAAAAAAAAAAAAAAAAAAAAAAAAAAAAAAAAAAAAAAAAAAAAAAAAAAAAAAAAAAAAAAAAAAAAAA8D8AAAAAAAAAAAAAAAAAAAAAAAAAAAAAAAAAAAAAAAAAAAAAAAAAAAAAAAAAAAAAAAAAAAAAAADwPwAAAAAAAAAAAAAAAAAAAAAAAAAAAAAAAAAAAAAAAAAAAAAAAAAAAAAAAAAAAAAAAAAAAAAAAPA\\u002fAAAAAAAAAAAAAAAAAAAAAAAAAAAAAAAAAAAAAAAAAAAAAAAAAAAAAAAAAAAAAAAAAAAAAAAA8D8AAAAAAAAAAAAAAAAAAAAAAAAAAAAAAAAAAAAAAAAAAAAAAAAAAAAAAAAAAAAAAAAAAAAAAADwPwAAAAAAAAAAAAAAAAAAAAAAAAAAAAAAAAAAAAAAAAAAAAAAAAAAAAAAAAAAAAAAAAAAAAAAAPA\\u002fAAAAAAAAAAAAAAAAAAAAAAAAAAAAAAAAAAAAAAAAAAAAAAAAAAAAAAAAAAAAAAAAAAAAAAAA8D8AAAAAAAAAAAAAAAAAAAAAAAAAAAAAAAAAAAAAAAAAAAAAAAAAAAAAAAAAAAAAAAAAAAAAAADwPwAAAAAAAAAAAAAAAAAAAAAAAAAAAAAAAAAAAAAAAAAAAAAAAAAAAAAAAAAAAAAAAAAAAAAAAPA\\u002fAAAAAAAAAAAAAAAAAAAAAAAAAAAAAAAAAAAAAAAAAAAAAAAAAAAAAAAAAAAAAAAAAAAAAAAA8D8AAAAAAAAAAAAAAAAAAAAAAAAAAAAAAAAAAAAAAAAAAAAAAAAAAAAAAAAAAAAAAAAAAAAAAADwPwAAAAAAAAAAAAAAAAAAAAAAAAAAAAAAAAAAAAAAAAAAAAAAAAAAAAAAAAAAAAAAAAAAAAAAAPA\\u002fAAAAAAAAAAAAAAAAAAAAAAAAAAAAAAAAAAAAAAAAAAAAAAAAAAAAAAAAAAAAAAAAAAAAAAAA8D8AAAAAAAAAAAAAAAAAAAAAAAAAAAAAAAAAAAAAAAAAAAAAAAAAAAAAAAAAAAAAAAAAAAAAAADwPwAAAAAAAAAAAAAAAAAAAAAAAAAAAAAAAAAAAAAAAAAAAAAAAAAAAAAAAAAAAAAAAAAAAAAAAPA\\u002fAAAAAAAAAAAAAAAAAAAAAAAAAAAAAAAAAAAAAAAAAAAAAAAAAAAAAAAAAAAAAAAAAAAAAAAA8D8AAAAAAAAAAAAAAAAAAAAAAAAAAAAAAAAAAAAAAAAAAAAAAAAAAAAAAAAAAAAAAAAAAAAAAADwPwAAAAAAAAAAAAAAAAAAAAAAAAAAAAAAAAAAAAAAAAAAAAAAAAAAAAAAAAAAAAAAAAAAAAAAAPA\\u002fAAAAAAAAAAAAAAAAAAAAAAAAAAAAAAAAAAAAAAAAAAAAAAAAAAAAAAAAAAAAAAAAAAAAAAAA8D8AAAAAAAAAAAAAAAAAAAAAAAAAAAAAAAAAAAAAAAAAAAAAAAAAAAAAAAAAAAAAAAAAAAAAAADwPwAAAAAAAAAAAAAAAAAAAAAAAAAAAAAAAAAAAAAAAAAAAAAAAAAAAAAAAAAAAAAAAAAAAAAAAPA\\u002fAAAAAAAAAAAAAAAAAAAAAAAAAAAAAAAAAAAAAAAAAAAAAAAAAAAAAAAAAAAAAAAAAAAAAAAA8D8AAAAAAAAAAAAAAAAAAAAAAAAAAAAAAAAAAAAAAAAAAAAAAAAAAAAAAAAAAAAAAAAAAAAAAADwPwAAAAAAAAAAAAAAAAAAAAAAAAAAAAAAAAAAAAAAAAAAAAAAAAAAAAAAAAAAAAAAAAAAAAAAAPA\\u002fAAAAAAAAAAAAAAAAAAAAAAAAAAAAAAAAAAAAAAAAAAAAAAAAAAAAAAAAAAAAAAAAAAAAAAAA8D8AAAAAAAAAAAAAAAAAAAAAAAAAAAAAAAAAAAAAAAAAAAAAAAAAAAAAAAAAAAAAAAAAAAAAAADwPwAAAAAAAAAAAAAAAAAAAAAAAAAAAAAAAAAAAAAAAAAAAAAAAAAAAAAAAAAAAAAAAAAAAAAAAPA\\u002fAAAAAAAAAAAAAAAAAAAAAAAAAAAAAAAAAAAAAAAAAAAAAAAAAAAAAAAAAAAAAAAAAAAAAAAA8D8AAAAAAAAAAAAAAAAAAAAAAAAAAAAAAAAAAAAAAAAAAAAAAAAAAAAAAAAAAAAAAAAAAAAAAADwPwAAAAAAAAAAAAAAAAAAAAAAAAAAAAAAAAAAAAAAAAAAAAAAAAAAAAAAAAAAAAAAAAAAAAAAAPA\\u002fAAAAAAAAAAAAAAAAAAAAAAAAAAAAAAAAAAAAAAAAAAAAAAAAAAAAAAAAAAAAAAAAAAAAAAAA8D8AAAAAAAAAAAAAAAAAAAAAAAAAAAAAAAAAAAAAAAAAAAAAAAAAAAAAAAAAAAAAAAAAAAAAAADwPwAAAAAAAAAAAAAAAAAAAAAAAAAAAAAAAAAAAAAAAAAAAAAAAAAAAAAAAAAAAAAAAAAAAAAAAPA\\u002fAAAAAAAAAAAAAAAAAAAAAAAAAAAAAAAAAAAAAAAAAAAAAAAAAAAAAAAAAAAAAAAAAAAAAAAA8D8AAAAAAAAAAAAAAAAAAAAAAAAAAAAAAAAAAAAAAAAAAAAAAAAAAAAAAAAAAAAAAAAAAAAAAADwPwAAAAAAAAAAAAAAAAAAAAAAAAAAAAAAAAAAAAAAAAAAAAAAAAAAAAAAAAAAAAAAAAAAAAAAAPA\\u002fAAAAAAAAAAAAAAAAAAAAAAAAAAAAAAAAAAAAAAAAAAAAAAAAAAAAAAAAAAAAAAAAAAAAAAAA8D8AAAAAAAAAAAAAAAAAAAAAAAAAAAAAAAAAAAAAAAAAAAAAAAAAAAAAAAAAAAAAAAAAAAAAAADwPwAAAAAAAAAAAAAAAAAAAAAAAAAAAAAAAAAAAAAAAAAAAAAAAAAAAAAAAAAAAAAAAAAAAAAAAPA\\u002fAAAAAAAAAAAAAAAAAAAAAAAAAAAAAAAAAAAAAAAAAAAAAAAAAAAAAAAAAAAAAAAAAAAAAAAA8D8AAAAAAAAAAAAAAAAAAAAAAAAAAAAAAAAAAAAAAAAAAAAAAAAAAAAAAAAAAAAAAAAAAAAAAADwPwAAAAAAAAAAAAAAAAAAAAAAAAAAAAAAAAAAAAAAAAAAAAAAAAAAAAAAAAAAAAAAAAAAAAAAAPA\\u002fAAAAAAAAAAAAAAAAAAAAAAAAAAAAAAAAAAAAAAAAAAAAAAAAAAAAAAAAAAAAAAAAAAAAAAAA8D8AAAAAAAAAAAAAAAAAAAAAAAAAAAAAAAAAAAAAAAAAAAAAAAAAAAAAAAAAAAAAAAAAAAAAAADwPwAAAAAAAAAAAAAAAAAAAAAAAAAAAAAAAAAAAAAAAAAAAAAAAAAAAAAAAAAAAAAAAAAAAAAAAPA\\u002fAAAAAAAAAAAAAAAAAAAAAAAAAAAAAAAAAAAAAAAAAAAAAAAAAAAAAAAAAAAAAAAAAAAAAAAA8D8AAAAAAAAAAAAAAAAAAAAAAAAAAAAAAAAAAAAAAAAAAAAAAAAAAAAAAAAAAAAAAAAAAAAAAADwPwAAAAAAAAAAAAAAAAAAAAAAAAAAAAAAAAAAAAAAAAAAAAAAAAAAAAAAAAAAAAAAAAAAAAAAAPA\\u002fAAAAAAAAAAAAAAAAAAAAAAAAAAAAAAAAAAAAAAAAAAAAAAAAAAAAAAAAAAAAAAAAAAAAAAAA8D8AAAAAAAAAAAAAAAAAAAAAAAAAAAAAAAAAAAAAAAAAAAAAAAAAAAAAAAAAAAAAAAAAAAAAAADwPwAAAAAAAAAAAAAAAAAAAAAAAAAAAAAAAAAAAAAAAAAAAAAAAAAAAAAAAAAAAAAAAAAAAAAAAPA\\u002fAAAAAAAAAAAAAAAAAAAAAAAAAAAAAAAAAAAAAAAAAAAAAAAAAAAAAAAAAAAAAAAAAAAAAAAA8D8AAAAAAAAAAAAAAAAAAAAAAAAAAAAAAAAAAAAAAAAAAAAAAAAAAAAAAAAAAAAAAAAAAAAAAADwPwAAAAAAAAAAAAAAAAAAAAAAAAAAAAAAAAAAAAAAAAAAAAAAAAAAAAAAAAAAAAAAAAAAAAAAAPA\\u002fAAAAAAAAAAAAAAAAAAAAAAAAAAAAAAAAAAAAAAAAAAAAAAAAAAAAAAAAAAAAAAAAAAAAAAAA8D8AAAAAAAAAAAAAAAAAAAAAAAAAAAAAAAAAAAAAAAAAAAAAAAAAAAAAAAAAAAAAAAAAAAAAAADwPwAAAAAAAAAAAAAAAAAAAAA=\"}},{\"axis\":{\"matches\":true},\"label\":\"Sat\",\"values\":{\"dtype\":\"f8\",\"bdata\":\"AAAAAAAAAAAAAAAAAAAAAAAAAAAAAPA\\u002fAAAAAAAAAAAAAAAAAAAAAAAAAAAAAAAAAAAAAAAAAAAAAAAAAAAAAAAAAAAAAAAAAAAAAAAA8D8AAAAAAAAAAAAAAAAAAAAAAAAAAAAAAAAAAAAAAAAAAAAAAAAAAAAAAAAAAAAAAAAAAAAAAADwPwAAAAAAAAAAAAAAAAAAAAAAAAAAAAAAAAAAAAAAAAAAAAAAAAAAAAAAAAAAAAAAAAAAAAAAAPA\\u002fAAAAAAAAAAAAAAAAAAAAAAAAAAAAAAAAAAAAAAAAAAAAAAAAAAAAAAAAAAAAAAAAAAAAAAAA8D8AAAAAAAAAAAAAAAAAAAAAAAAAAAAAAAAAAAAAAAAAAAAAAAAAAAAAAAAAAAAAAAAAAAAAAADwPwAAAAAAAAAAAAAAAAAAAAAAAAAAAAAAAAAAAAAAAAAAAAAAAAAAAAAAAAAAAAAAAAAAAAAAAPA\\u002fAAAAAAAAAAAAAAAAAAAAAAAAAAAAAAAAAAAAAAAAAAAAAAAAAAAAAAAAAAAAAAAAAAAAAAAA8D8AAAAAAAAAAAAAAAAAAAAAAAAAAAAAAAAAAAAAAAAAAAAAAAAAAAAAAAAAAAAAAAAAAAAAAADwPwAAAAAAAAAAAAAAAAAAAAAAAAAAAAAAAAAAAAAAAAAAAAAAAAAAAAAAAAAAAAAAAAAAAAAAAPA\\u002fAAAAAAAAAAAAAAAAAAAAAAAAAAAAAAAAAAAAAAAAAAAAAAAAAAAAAAAAAAAAAAAAAAAAAAAA8D8AAAAAAAAAAAAAAAAAAAAAAAAAAAAAAAAAAAAAAAAAAAAAAAAAAAAAAAAAAAAAAAAAAAAAAADwPwAAAAAAAAAAAAAAAAAAAAAAAAAAAAAAAAAAAAAAAAAAAAAAAAAAAAAAAAAAAAAAAAAAAAAAAPA\\u002fAAAAAAAAAAAAAAAAAAAAAAAAAAAAAAAAAAAAAAAAAAAAAAAAAAAAAAAAAAAAAAAAAAAAAAAA8D8AAAAAAAAAAAAAAAAAAAAAAAAAAAAAAAAAAAAAAAAAAAAAAAAAAAAAAAAAAAAAAAAAAAAAAADwPwAAAAAAAAAAAAAAAAAAAAAAAAAAAAAAAAAAAAAAAAAAAAAAAAAAAAAAAAAAAAAAAAAAAAAAAPA\\u002fAAAAAAAAAAAAAAAAAAAAAAAAAAAAAAAAAAAAAAAAAAAAAAAAAAAAAAAAAAAAAAAAAAAAAAAA8D8AAAAAAAAAAAAAAAAAAAAAAAAAAAAAAAAAAAAAAAAAAAAAAAAAAAAAAAAAAAAAAAAAAAAAAADwPwAAAAAAAAAAAAAAAAAAAAAAAAAAAAAAAAAAAAAAAAAAAAAAAAAAAAAAAAAAAAAAAAAAAAAAAPA\\u002fAAAAAAAAAAAAAAAAAAAAAAAAAAAAAAAAAAAAAAAAAAAAAAAAAAAAAAAAAAAAAAAAAAAAAAAA8D8AAAAAAAAAAAAAAAAAAAAAAAAAAAAAAAAAAAAAAAAAAAAAAAAAAAAAAAAAAAAAAAAAAAAAAADwPwAAAAAAAAAAAAAAAAAAAAAAAAAAAAAAAAAAAAAAAAAAAAAAAAAAAAAAAAAAAAAAAAAAAAAAAPA\\u002fAAAAAAAAAAAAAAAAAAAAAAAAAAAAAAAAAAAAAAAAAAAAAAAAAAAAAAAAAAAAAAAAAAAAAAAA8D8AAAAAAAAAAAAAAAAAAAAAAAAAAAAAAAAAAAAAAAAAAAAAAAAAAAAAAAAAAAAAAAAAAAAAAADwPwAAAAAAAAAAAAAAAAAAAAAAAAAAAAAAAAAAAAAAAAAAAAAAAAAAAAAAAAAAAAAAAAAAAAAAAPA\\u002fAAAAAAAAAAAAAAAAAAAAAAAAAAAAAAAAAAAAAAAAAAAAAAAAAAAAAAAAAAAAAAAAAAAAAAAA8D8AAAAAAAAAAAAAAAAAAAAAAAAAAAAAAAAAAAAAAAAAAAAAAAAAAAAAAAAAAAAAAAAAAAAAAADwPwAAAAAAAAAAAAAAAAAAAAAAAAAAAAAAAAAAAAAAAAAAAAAAAAAAAAAAAAAAAAAAAAAAAAAAAPA\\u002fAAAAAAAAAAAAAAAAAAAAAAAAAAAAAAAAAAAAAAAAAAAAAAAAAAAAAAAAAAAAAAAAAAAAAAAA8D8AAAAAAAAAAAAAAAAAAAAAAAAAAAAAAAAAAAAAAAAAAAAAAAAAAAAAAAAAAAAAAAAAAAAAAADwPwAAAAAAAAAAAAAAAAAAAAAAAAAAAAAAAAAAAAAAAAAAAAAAAAAAAAAAAAAAAAAAAAAAAAAAAPA\\u002fAAAAAAAAAAAAAAAAAAAAAAAAAAAAAAAAAAAAAAAAAAAAAAAAAAAAAAAAAAAAAAAAAAAAAAAA8D8AAAAAAAAAAAAAAAAAAAAAAAAAAAAAAAAAAAAAAAAAAAAAAAAAAAAAAAAAAAAAAAAAAAAAAADwPwAAAAAAAAAAAAAAAAAAAAAAAAAAAAAAAAAAAAAAAAAAAAAAAAAAAAAAAAAAAAAAAAAAAAAAAPA\\u002fAAAAAAAAAAAAAAAAAAAAAAAAAAAAAAAAAAAAAAAAAAAAAAAAAAAAAAAAAAAAAAAAAAAAAAAA8D8AAAAAAAAAAAAAAAAAAAAAAAAAAAAAAAAAAAAAAAAAAAAAAAAAAAAAAAAAAAAAAAAAAAAAAADwPwAAAAAAAAAAAAAAAAAAAAAAAAAAAAAAAAAAAAAAAAAAAAAAAAAAAAAAAAAAAAAAAAAAAAAAAPA\\u002fAAAAAAAAAAAAAAAAAAAAAAAAAAAAAAAAAAAAAAAAAAAAAAAAAAAAAAAAAAAAAAAAAAAAAAAA8D8AAAAAAAAAAAAAAAAAAAAAAAAAAAAAAAAAAAAAAAAAAAAAAAAAAAAAAAAAAAAAAAAAAAAAAADwPwAAAAAAAAAAAAAAAAAAAAAAAAAAAAAAAAAAAAAAAAAAAAAAAAAAAAAAAAAAAAAAAAAAAAAAAPA\\u002fAAAAAAAAAAAAAAAAAAAAAAAAAAAAAAAAAAAAAAAAAAAAAAAAAAAAAAAAAAAAAAAAAAAAAAAA8D8AAAAAAAAAAAAAAAAAAAAAAAAAAAAAAAAAAAAAAAAAAAAAAAAAAAAAAAAAAAAAAAAAAAAAAADwPwAAAAAAAAAAAAAAAAAAAAAAAAAAAAAAAAAAAAAAAAAAAAAAAAAAAAAAAAAAAAAAAAAAAAAAAPA\\u002fAAAAAAAAAAAAAAAAAAAAAAAAAAAAAAAAAAAAAAAAAAAAAAAAAAAAAAAAAAAAAAAAAAAAAAAA8D8AAAAAAAAAAAAAAAAAAAAAAAAAAAAAAAAAAAAAAAAAAAAAAAAAAAAAAAAAAAAAAAAAAAAAAADwPwAAAAAAAAAAAAAAAAAAAAAAAAAAAAAAAAAAAAAAAAAAAAAAAAAAAAAAAAAAAAAAAAAAAAAAAPA\\u002fAAAAAAAAAAAAAAAAAAAAAAAAAAAAAAAAAAAAAAAAAAAAAAAAAAAAAAAAAAAAAAAAAAAAAAAA8D8AAAAAAAAAAAAAAAAAAAAAAAAAAAAAAAAAAAAAAAAAAAAAAAAAAAAAAAAAAAAAAAAAAAAAAADwPwAAAAAAAAAAAAAAAAAAAAAAAAAAAAAAAAAAAAAAAAAAAAAAAAAAAAAAAAAAAAAAAAAAAAAAAPA\\u002fAAAAAAAAAAAAAAAAAAAAAAAAAAAAAAAAAAAAAAAAAAAAAAAAAAAAAAAAAAAAAAAAAAAAAAAA8D8AAAAAAAAAAAAAAAAAAAAAAAAAAAAAAAAAAAAAAAAAAAAAAAAAAAAAAAAAAAAAAAAAAAAAAADwPwAAAAAAAAAAAAAAAAAAAAAAAAAAAAAAAAAAAAAAAAAAAAAAAAAAAAAAAAAAAAAAAAAAAAAAAPA\\u002fAAAAAAAAAAAAAAAAAAAAAAAAAAAAAAAAAAAAAAAAAAAAAAAAAAAAAAAAAAAAAAAAAAAAAAAA8D8AAAAAAAAAAAAAAAAAAAAAAAAAAAAAAAAAAAAAAAAAAAAAAAAAAAAAAAAAAAAAAAAAAAAAAADwPwAAAAAAAAAAAAAAAAAAAAAAAAAAAAAAAAAAAAAAAAAAAAAAAAAAAAAAAAAAAAAAAAAAAAAAAPA\\u002fAAAAAAAAAAAAAAAAAAAAAAAAAAAAAAAAAAAAAAAAAAAAAAAAAAAAAAAAAAAAAAAAAAAAAAAA8D8AAAAAAAAAAAAAAAAAAAAAAAAAAAAAAAAAAAAAAAAAAAAAAAAAAAAAAAAAAAAAAAAAAAAAAADwPwAAAAAAAAAAAAAAAAAAAAAAAAAAAAAAAAAAAAAAAAAAAAAAAAAAAAAAAAAAAAAAAAAAAAAAAPA\\u002fAAAAAAAAAAAAAAAAAAAAAAAAAAAAAAAAAAAAAAAAAAAAAAAAAAAAAAAAAAAAAAAAAAAAAAAA8D8AAAAAAAAAAAAAAAAAAAAAAAAAAAAAAAAAAAAAAAAAAAAAAAAAAAAAAAAAAAAAAAAAAAAAAADwPwAAAAAAAAAAAAAAAAAAAAAAAAAAAAAAAAAAAAAAAAAAAAAAAAAAAAAAAAAAAAAAAAAAAAAAAPA\\u002fAAAAAAAAAAAAAAAAAAAAAAAAAAAAAAAAAAAAAAAAAAAAAAAAAAAAAAAAAAAAAAAAAAAAAAAA8D8AAAAAAAAAAAAAAAAAAAAAAAAAAAAAAAAAAAAAAAAAAAAAAAAAAAAAAAAAAAAAAAAAAAAAAADwPwAAAAAAAAAAAAAAAAAAAAAAAAAAAAAAAAAAAAAAAAAAAAAAAAAAAAAAAAAAAAAAAAAAAAAAAPA\\u002fAAAAAAAAAAAAAAAAAAAAAAAAAAAAAAAAAAAAAAAAAAAAAAAAAAAAAAAAAAAAAAAAAAAAAAAA8D8AAAAAAAAAAAAAAAAAAAAAAAAAAAAAAAAAAAAAAAAAAAAAAAAAAAAAAAAAAAAAAAAAAAAAAADwPwAAAAAAAAAAAAAAAAAAAAAAAAAAAAAAAAAAAAAAAAAAAAAAAAAAAAAAAAAAAAAAAAAAAAAAAPA\\u002fAAAAAAAAAAAAAAAAAAAAAAAAAAAAAAAAAAAAAAAAAAAAAAAAAAAAAAAAAAAAAAAAAAAAAAAA8D8AAAAAAAAAAAAAAAAAAAAAAAAAAAAAAAAAAAAAAAAAAAAAAAAAAAAAAAAAAAAAAAAAAAAAAADwPwAAAAAAAAAAAAAAAAAAAAAAAAAAAAAAAAAAAAAAAAAAAAAAAAAAAAAAAAAAAAAAAAAAAAAAAPA\\u002fAAAAAAAAAAA=\"}},{\"axis\":{\"matches\":true},\"label\":\"Sun\",\"values\":{\"dtype\":\"f8\",\"bdata\":\"AAAAAAAAAAAAAAAAAAAAAAAAAAAAAAAAAAAAAAAA8D8AAAAAAAAAAAAAAAAAAAAAAAAAAAAAAAAAAAAAAAAAAAAAAAAAAAAAAAAAAAAAAAAAAAAAAADwPwAAAAAAAAAAAAAAAAAAAAAAAAAAAAAAAAAAAAAAAAAAAAAAAAAAAAAAAAAAAAAAAAAAAAAAAPA\\u002fAAAAAAAAAAAAAAAAAAAAAAAAAAAAAAAAAAAAAAAAAAAAAAAAAAAAAAAAAAAAAAAAAAAAAAAA8D8AAAAAAAAAAAAAAAAAAAAAAAAAAAAAAAAAAAAAAAAAAAAAAAAAAAAAAAAAAAAAAAAAAAAAAADwPwAAAAAAAAAAAAAAAAAAAAAAAAAAAAAAAAAAAAAAAAAAAAAAAAAAAAAAAAAAAAAAAAAAAAAAAPA\\u002fAAAAAAAAAAAAAAAAAAAAAAAAAAAAAAAAAAAAAAAAAAAAAAAAAAAAAAAAAAAAAAAAAAAAAAAA8D8AAAAAAAAAAAAAAAAAAAAAAAAAAAAAAAAAAAAAAAAAAAAAAAAAAAAAAAAAAAAAAAAAAAAAAADwPwAAAAAAAAAAAAAAAAAAAAAAAAAAAAAAAAAAAAAAAAAAAAAAAAAAAAAAAAAAAAAAAAAAAAAAAPA\\u002fAAAAAAAAAAAAAAAAAAAAAAAAAAAAAAAAAAAAAAAAAAAAAAAAAAAAAAAAAAAAAAAAAAAAAAAA8D8AAAAAAAAAAAAAAAAAAAAAAAAAAAAAAAAAAAAAAAAAAAAAAAAAAAAAAAAAAAAAAAAAAAAAAADwPwAAAAAAAAAAAAAAAAAAAAAAAAAAAAAAAAAAAAAAAAAAAAAAAAAAAAAAAAAAAAAAAAAAAAAAAPA\\u002fAAAAAAAAAAAAAAAAAAAAAAAAAAAAAAAAAAAAAAAAAAAAAAAAAAAAAAAAAAAAAAAAAAAAAAAA8D8AAAAAAAAAAAAAAAAAAAAAAAAAAAAAAAAAAAAAAAAAAAAAAAAAAAAAAAAAAAAAAAAAAAAAAADwPwAAAAAAAAAAAAAAAAAAAAAAAAAAAAAAAAAAAAAAAAAAAAAAAAAAAAAAAAAAAAAAAAAAAAAAAPA\\u002fAAAAAAAAAAAAAAAAAAAAAAAAAAAAAAAAAAAAAAAAAAAAAAAAAAAAAAAAAAAAAAAAAAAAAAAA8D8AAAAAAAAAAAAAAAAAAAAAAAAAAAAAAAAAAAAAAAAAAAAAAAAAAAAAAAAAAAAAAAAAAAAAAADwPwAAAAAAAAAAAAAAAAAAAAAAAAAAAAAAAAAAAAAAAAAAAAAAAAAAAAAAAAAAAAAAAAAAAAAAAPA\\u002fAAAAAAAAAAAAAAAAAAAAAAAAAAAAAAAAAAAAAAAAAAAAAAAAAAAAAAAAAAAAAAAAAAAAAAAA8D8AAAAAAAAAAAAAAAAAAAAAAAAAAAAAAAAAAAAAAAAAAAAAAAAAAAAAAAAAAAAAAAAAAAAAAADwPwAAAAAAAAAAAAAAAAAAAAAAAAAAAAAAAAAAAAAAAAAAAAAAAAAAAAAAAAAAAAAAAAAAAAAAAPA\\u002fAAAAAAAAAAAAAAAAAAAAAAAAAAAAAAAAAAAAAAAAAAAAAAAAAAAAAAAAAAAAAAAAAAAAAAAA8D8AAAAAAAAAAAAAAAAAAAAAAAAAAAAAAAAAAAAAAAAAAAAAAAAAAAAAAAAAAAAAAAAAAAAAAADwPwAAAAAAAAAAAAAAAAAAAAAAAAAAAAAAAAAAAAAAAAAAAAAAAAAAAAAAAAAAAAAAAAAAAAAAAPA\\u002fAAAAAAAAAAAAAAAAAAAAAAAAAAAAAAAAAAAAAAAAAAAAAAAAAAAAAAAAAAAAAAAAAAAAAAAA8D8AAAAAAAAAAAAAAAAAAAAAAAAAAAAAAAAAAAAAAAAAAAAAAAAAAAAAAAAAAAAAAAAAAAAAAADwPwAAAAAAAAAAAAAAAAAAAAAAAAAAAAAAAAAAAAAAAAAAAAAAAAAAAAAAAAAAAAAAAAAAAAAAAPA\\u002fAAAAAAAAAAAAAAAAAAAAAAAAAAAAAAAAAAAAAAAAAAAAAAAAAAAAAAAAAAAAAAAAAAAAAAAA8D8AAAAAAAAAAAAAAAAAAAAAAAAAAAAAAAAAAAAAAAAAAAAAAAAAAAAAAAAAAAAAAAAAAAAAAADwPwAAAAAAAAAAAAAAAAAAAAAAAAAAAAAAAAAAAAAAAAAAAAAAAAAAAAAAAAAAAAAAAAAAAAAAAPA\\u002fAAAAAAAAAAAAAAAAAAAAAAAAAAAAAAAAAAAAAAAAAAAAAAAAAAAAAAAAAAAAAAAAAAAAAAAA8D8AAAAAAAAAAAAAAAAAAAAAAAAAAAAAAAAAAAAAAAAAAAAAAAAAAAAAAAAAAAAAAAAAAAAAAADwPwAAAAAAAAAAAAAAAAAAAAAAAAAAAAAAAAAAAAAAAAAAAAAAAAAAAAAAAAAAAAAAAAAAAAAAAPA\\u002fAAAAAAAAAAAAAAAAAAAAAAAAAAAAAAAAAAAAAAAAAAAAAAAAAAAAAAAAAAAAAAAAAAAAAAAA8D8AAAAAAAAAAAAAAAAAAAAAAAAAAAAAAAAAAAAAAAAAAAAAAAAAAAAAAAAAAAAAAAAAAAAAAADwPwAAAAAAAAAAAAAAAAAAAAAAAAAAAAAAAAAAAAAAAAAAAAAAAAAAAAAAAAAAAAAAAAAAAAAAAPA\\u002fAAAAAAAAAAAAAAAAAAAAAAAAAAAAAAAAAAAAAAAAAAAAAAAAAAAAAAAAAAAAAAAAAAAAAAAA8D8AAAAAAAAAAAAAAAAAAAAAAAAAAAAAAAAAAAAAAAAAAAAAAAAAAAAAAAAAAAAAAAAAAAAAAADwPwAAAAAAAAAAAAAAAAAAAAAAAAAAAAAAAAAAAAAAAAAAAAAAAAAAAAAAAAAAAAAAAAAAAAAAAPA\\u002fAAAAAAAAAAAAAAAAAAAAAAAAAAAAAAAAAAAAAAAAAAAAAAAAAAAAAAAAAAAAAAAAAAAAAAAA8D8AAAAAAAAAAAAAAAAAAAAAAAAAAAAAAAAAAAAAAAAAAAAAAAAAAAAAAAAAAAAAAAAAAAAAAADwPwAAAAAAAAAAAAAAAAAAAAAAAAAAAAAAAAAAAAAAAAAAAAAAAAAAAAAAAAAAAAAAAAAAAAAAAPA\\u002fAAAAAAAAAAAAAAAAAAAAAAAAAAAAAAAAAAAAAAAAAAAAAAAAAAAAAAAAAAAAAAAAAAAAAAAA8D8AAAAAAAAAAAAAAAAAAAAAAAAAAAAAAAAAAAAAAAAAAAAAAAAAAAAAAAAAAAAAAAAAAAAAAADwPwAAAAAAAAAAAAAAAAAAAAAAAAAAAAAAAAAAAAAAAAAAAAAAAAAAAAAAAAAAAAAAAAAAAAAAAPA\\u002fAAAAAAAAAAAAAAAAAAAAAAAAAAAAAAAAAAAAAAAAAAAAAAAAAAAAAAAAAAAAAAAAAAAAAAAA8D8AAAAAAAAAAAAAAAAAAAAAAAAAAAAAAAAAAAAAAAAAAAAAAAAAAAAAAAAAAAAAAAAAAAAAAADwPwAAAAAAAAAAAAAAAAAAAAAAAAAAAAAAAAAAAAAAAAAAAAAAAAAAAAAAAAAAAAAAAAAAAAAAAPA\\u002fAAAAAAAAAAAAAAAAAAAAAAAAAAAAAAAAAAAAAAAAAAAAAAAAAAAAAAAAAAAAAAAAAAAAAAAA8D8AAAAAAAAAAAAAAAAAAAAAAAAAAAAAAAAAAAAAAAAAAAAAAAAAAAAAAAAAAAAAAAAAAAAAAADwPwAAAAAAAAAAAAAAAAAAAAAAAAAAAAAAAAAAAAAAAAAAAAAAAAAAAAAAAAAAAAAAAAAAAAAAAPA\\u002fAAAAAAAAAAAAAAAAAAAAAAAAAAAAAAAAAAAAAAAAAAAAAAAAAAAAAAAAAAAAAAAAAAAAAAAA8D8AAAAAAAAAAAAAAAAAAAAAAAAAAAAAAAAAAAAAAAAAAAAAAAAAAAAAAAAAAAAAAAAAAAAAAADwPwAAAAAAAAAAAAAAAAAAAAAAAAAAAAAAAAAAAAAAAAAAAAAAAAAAAAAAAAAAAAAAAAAAAAAAAPA\\u002fAAAAAAAAAAAAAAAAAAAAAAAAAAAAAAAAAAAAAAAAAAAAAAAAAAAAAAAAAAAAAAAAAAAAAAAA8D8AAAAAAAAAAAAAAAAAAAAAAAAAAAAAAAAAAAAAAAAAAAAAAAAAAAAAAAAAAAAAAAAAAAAAAADwPwAAAAAAAAAAAAAAAAAAAAAAAAAAAAAAAAAAAAAAAAAAAAAAAAAAAAAAAAAAAAAAAAAAAAAAAPA\\u002fAAAAAAAAAAAAAAAAAAAAAAAAAAAAAAAAAAAAAAAAAAAAAAAAAAAAAAAAAAAAAAAAAAAAAAAA8D8AAAAAAAAAAAAAAAAAAAAAAAAAAAAAAAAAAAAAAAAAAAAAAAAAAAAAAAAAAAAAAAAAAAAAAADwPwAAAAAAAAAAAAAAAAAAAAAAAAAAAAAAAAAAAAAAAAAAAAAAAAAAAAAAAAAAAAAAAAAAAAAAAPA\\u002fAAAAAAAAAAAAAAAAAAAAAAAAAAAAAAAAAAAAAAAAAAAAAAAAAAAAAAAAAAAAAAAAAAAAAAAA8D8AAAAAAAAAAAAAAAAAAAAAAAAAAAAAAAAAAAAAAAAAAAAAAAAAAAAAAAAAAAAAAAAAAAAAAADwPwAAAAAAAAAAAAAAAAAAAAAAAAAAAAAAAAAAAAAAAAAAAAAAAAAAAAAAAAAAAAAAAAAAAAAAAPA\\u002fAAAAAAAAAAAAAAAAAAAAAAAAAAAAAAAAAAAAAAAAAAAAAAAAAAAAAAAAAAAAAAAAAAAAAAAA8D8AAAAAAAAAAAAAAAAAAAAAAAAAAAAAAAAAAAAAAAAAAAAAAAAAAAAAAAAAAAAAAAAAAAAAAADwPwAAAAAAAAAAAAAAAAAAAAAAAAAAAAAAAAAAAAAAAAAAAAAAAAAAAAAAAAAAAAAAAAAAAAAAAPA\\u002fAAAAAAAAAAAAAAAAAAAAAAAAAAAAAAAAAAAAAAAAAAAAAAAAAAAAAAAAAAAAAAAAAAAAAAAA8D8AAAAAAAAAAAAAAAAAAAAAAAAAAAAAAAAAAAAAAAAAAAAAAAAAAAAAAAAAAAAAAAAAAAAAAADwPwAAAAAAAAAAAAAAAAAAAAAAAAAAAAAAAAAAAAAAAAAAAAAAAAAAAAAAAAAAAAAAAAAAAAAAAPA\\u002fAAAAAAAAAAAAAAAAAAAAAAAAAAAAAAAAAAAAAAAAAAAAAAAAAAAAAAAAAAAAAAAAAAAAAAAA8D8=\"}},{\"axis\":{\"matches\":true},\"label\":\"holiday\",\"values\":{\"dtype\":\"f8\",\"bdata\":\"AAAAAAAAAAAAAAAAAAAAAAAAAAAAAAAAAAAAAAAAAAAAAAAAAAAAAAAAAAAAAAAAAAAAAAAAAAAAAAAAAAAAAAAAAAAAAAAAAAAAAAAAAAAAAAAAAAAAAAAAAAAAAAAAAAAAAAAAAAAAAAAAAAAAAAAAAAAAAAAAAAAAAAAAAAAAAAAAAAAAAAAAAAAAAAAAAAAAAAAAAAAAAAAAAAAAAAAAAAAAAAAAAAAAAAAAAAAAAAAAAAAAAAAAAAAAAAAAAAAAAAAAAAAAAAAAAAAAAAAAAAAAAAAAAAAAAAAAAAAAAAAAAAAAAAAAAAAAAAAAAAAAAAAAAAAAAAAAAAAAAAAAAAAAAAAAAAAAAAAAAAAAAAAAAAAAAAAAAAAAAAAAAAAAAAAAAAAAAAAAAAAAAAAAAAAAAAAAAAAAAAAAAAAAAAAAAAAAAAAAAAAAAAAAAAAAAAAAAAAAAAAAAAAAAAAAAAAAAAAAAAAAAAAAAAAAAAAAAAAAAAAAAAAAAAAAAAAAAAAAAAAAAAAAAAAAAAAAAAAAAAAAAAAAAAAAAAAAAAAAAAAAAAAAAAAAAAAAAAAAAAAAAAAAAAAAAAAAAAAAAAAAAAAAAAAAAAAAAAAAAAAAAAAAAAAAAAAAAAAAAAAAAAAAAAAAAAAAAAAAAAAAAAAAAAAAAAAAAAAAAAAAAAAAAAAAAAAAAAAAAAAAAAAAAAAAAAAAAAAAAAAAAAAAAAAAAAAAAAAAAAAAAAAAAAAAAAAAAAAAAAAAAAAAAAAAAAAAAAAAAAAAAAAAAAAAAAAAAAAAAAAAAAAAAAAAAAAAAAAAAAAAAAAAAAAAAAAAAAAAAAAAAAAAAAAAAAAAAAAAAAAAAAAAAAAAAAAAAAAAAAAAAAAAAAAAAAAAAAAAAAAAAAAAAAAAAAAAAAAAAAAAAAAAAAAAAAAAAAAAAAAAAAAAAAAAAAAAAAAAAAAAAAAAAAAAAAAAAAAAAAAAAAAAAAAAAAAAAAAAAAAAAAAAAAAAAAAAAAAAAAAAAAAAAAAAAAAAAAAAAAAAAAAAAAAAAAAAAAAAAAAAAAAAAAAAAAAAAAAAAAAAAAAAAAAAAAAAAAAAAAAAAAAAAAAAAAAAAAAAAAAAAAAAAAAAAAAAAAAAAAAAAAAAAAAAAAAAAAAAAAAAAAAAAAAAAAAAAAAAAAAAAAAAAAAAAAAAAAAAAAAAAAAAAAAAAAAAAAAAAAAAAAAAAAAAAAAAAAAAAAAAAAAAAAAAAAAAAAAAAAAAAAAAAAAAAAAAAAAAAAAAAAAAAAAAAAAAAAAAAAAAAAAAAAAAAAAAAAAAAAAAAAAAAAAAAAAAAAAAAAAAAAAAAAAAAAAAAAAAAAAAAAAAAAAAAAAAAAAAAAAAAAAAAAAAAAAAAAAAAAAAAAAAAAAAAAAAAAAAAAAAAAAAAAAAAAAAAAAAAAAAAAAAAAAAAAAAAAAAAAAAAAAAAAAAAAAAAAAAAAAAAAAAAAAAAAAAAAAAAAAAAAAAAAAAAAAAAAAAAAAAAAAAAAAAAAAAAAAAAAAAAAAAAAAAAAAAAAAAAAAAAAAAAAAAAAAAAAAAAAAAAAAAAAAAAAAAAAAAAAAAAAAAAAAAAAAAAAAAAAAAAAAAAAAAAAAAAAAAAAAAAAAAAAAAAAAAAAAAAAAAAAAAAAAAAAAAAAAAAAAAAAAAAAAAAAAAAAAAAAAAAAAAAAAAAAAAAAAAAAAAAAAAAAAAAAAAAAAAAAAAAAAAAAAAAAAAAAAAAAAAAAAAAAAAAAAAAAAAAAAAAAAAAAAAAAAAAAAAAAAAAAAAAAAAAAAAAAAAAAAAAAAAAAAAAAAAAAAAAAAAAAAAAAAAAAAAAAAAAAAAAAAAAAAAAAAAAAAAAAAAAAAAAAAAAAAAAAAAAAAAAAAAAAAAAAAAAAAAAAAAAAAAAAAAAAAAAAAAAAAAAAAAAAAAAAAAAAAAAAAAAAAAAAAAAAAAAAAAAAAAAAAAAAAAAAAAAAAAAAAAAAAAAAAAAAAAAAAAAAAAAAAAAAAAAAAAAAAAAAAAAAAAAAAAAAAAAAAAAAAAAAAAAAAAAAAAAAAAAAAAAAAAAAAAAAAAAAAAAAAAAAAAAAAAAAAAAAAAAAAAAAAAAAAAAAAAAAAAAAAAAAAAAAAAAAAAAAAAAAAAAAAAAAAAAAAAAAAAAAAAAAAAAAAAAAAAAAAAAAAAAAAAAAAAAAAAAAAAAAAAAAAAAAAAAAAAAAAAAAAAAAAAAAAAAAAAAAAAAAAAAAAAAAAAAAAAAAAAAAAAAAAAAAAAAAAAAAAAAAAAAAAAAAAAAAAAAAAAAAAAAAAAAAAAAAAAAAAAAAAAAAAAAAAAAAAAAAAAAAAAAAAAAAAAAAAAAAAAAAAAAAAAAAAAAAAAAAAAAAAAAAAAAAAAAAAAAAAAAAAAAAAAAAAAAAAAAAAAAAAAAAAAAAAAAAAAAAAAAAAAAAAAAAAAAAAAAAAAAAAAAAAAAAAAAAAAAAAAAAAAAAAAAAAAAAAAAAAAAAAAAAAAAAAAAAAAAAAAAAAAAAAAAAAAAAAAAAAAAAAAAAAAAAAAAAAAAAAAAAAAAAAAAAAAAAAAAAAAAAAAAAAAAAAAAAAAAAAAAAAAAAAAAAAAAAAAAAAAAAAAAAAAAAAAAAAAAAAAAAAAAAAAAAAAAAAAAAAAAAAAAAAAAAAAAAAAAAAAAAAAAAAAAAAAAAAAAAAAAAAAAAAAAAAAAAAAAAAAAAAAAAAAAAAAAAAAAAAAAAAAAAAAAAAAAAAAAAAAAAAAAAAAAAAAAAAAAAAAAAAAAAAAAAAAAAAAAAAAAAAAAAAAAAAAAAAAAAAAAAAAAAAAAAAAAAAAAAAAAAAAAAAAAAAAAAAAAAAAAAAAAAAAAAAAAAAAAAAAAAAAAAAAAAAAAAAAAAAAAAAAAAAAAAAAAAAAAAAAAAAAAAAAAAAAAAAAAAAAAAAAAAAAAAAAAAAAAAAAAAAAAAAAAAAAAAAAAAAAAAAAAAAAAAAAAAAAAAAAAAAAAAAAAAAAAAAAAAAAAAAAAAAAAAAAAAAAAAAAAAAAAAAAAAAAAAAAAAAAAAAAAAAAAAAAAAAAAAAAAAAAAAAAAAAAAAAAAAAAAAAAAAAAAAAAAAAAAAAAAAAAAAAAAAAAAAAAAAAAAAAAAAAAAAAAAAAAAAAAAAAAAAAAAAAAAAAAAAAAAAAAAAAAAAAAAAAAAAAAAAAAAAAAAAAAAAAAAAAAAAAAAAAAAAAAAAAAAAAAAAAAAAAAAAAAAAAAAAAAAAAAAAAAAAAAAAAAAAAAAAAAAAAAAAAAAAAAAAAAAAAAAAAAAAAAAAAAAAAAAAAAAAAAAAAAAAAAAAAAAAAAAAAAAAAAAAAAAAAAAAAAAAAAAAAAAAAAAAAAAAAAAAAAAAAAAAAAAAAAAAAAAAAAAAAAAAAAAAAAAAAAAAAAAAAAAAAAAAAAAAAAAAAAAAAAAAAAAAAAAAAAAAAAAAAAAAAAAAAAAAAAAAAAAAAAAAAAAAAAAAAAAAAAAAAAAAAAAAAAAAAAAAAAAAAAAAAAAAAAAAAAAAAAAAAAAAAAAAAAAAAAAAAAAAAAAAAAAAAAAAAAAAAAAAAAAAAAAAAAAAAAAAAAAAAAAAAAAAAAAAAAAAAAAAAAAAAAAAAAAAAAAAAAAAAAAAAAAAAAAAAAAAAAAAAAAAAAAAAAAAAAAAAAAAAAAAAAAAAAAAAAAAAAAAAAAAAAAAAAAAAAAAAAAAAAAAAAAAAAAAAAAAAAAAAAAAAAAAAAAAAAAAAAAAAAAAAAAAAAAAAAAAAAAAAAAAAAAAAAAAAAAAAAAAAAAAAAAAAAAAAAAAAAAAAAAAAAAAAAAAAAAAAAAAAAAAAAAAAAAAAAAAAAAAAAAAAAAAAAAAAAAAAAAAAAAAAAAAAAAAAAAAAAAAAAAAAAAAAAAAAAAAAAAAAAAAAAAAAAAAAAAAAAAAAAAAAAAAAAAAAAAAAAAAAAAAAAAAAAAAAAAAAAAAAAAAAAAAAAAAAAAAAAAAAAAAAAAAAAAAAAAAAAAAAAAAAAAAAAAAAAAAAAAAAAAAAAAAAAAAAAAAAAAAAAAAAAAAAAAAAAAAAAAAAAAAAAAAAAAAAAAAAAAAAAAAAAAAAAAAAAAAAAAAAAAAAAAAAAAAAAAAAAAAAAAAAAAAAAAAAAAAAAAAAAAAAAAAAAAAAAAAAAAAAAAAAAAAAAAAAAAAAAAAAAAAAAAAAAAAAAAAAAAAAAAAAAAAAAAAAAAAAAAAAAAAAAAAAAAAAAAAAAAAAAAAAAAAAAAAAAAAAAAAAAAAAAAAAAAAAAAAAAAAAAAAAAAAAAAAAAAAAAAAAAAAAAAAAAAAAAAAAAAAAAAAAAAAAAAAAAAAAAAAAAAAAAAAAAAAAAAAAAAAAAAAAAAAAAAAAAAAAAAAAAAAAAAAAAAAAAAAAAAAAAAAAAAAAAAAAAAAAAAAAAAAAAAAAAAAAAAAAAAAAAAAAAAAAAAAAAAAAAAAAAAAAAAAAAAAAAAAAAAAAAAAAAAAAAAAAAAAAAAAAAAAAAAAAAAAAAAAAAAAAAAAAAAAAAAAAAAAAAAAAAAAAAAAAAAAAAAAAAAAAAAAAAAAAAAAAAAAAAAAAAAAAAAAAAAAAAAAAAAAAAAAAAAAAAAAAAAAAAAAAAAAAAAAAAAAAAAAAAAAAAAAAAAAAAAAAAAAAAAAAAAAAAAAAAAAAAAAAAAAAAAAAAAAAAAAAAAAAAAAAAAAAAAAAAAAAAAAAAAAAAAAAAAAAAAAAAAAAAAAAAAAAAAAAAAAAAAAAAAAAAAAAAAAAAAAAAAAAAAAAAAAAAAAAAAAAAAAAAAAAAAAAAAAAAAAAAAAAAAAAAAAAAAAAAAAAAAAAAAAAAAAAAAAAAAAAAAAAAAAAAAAAAAAAAAAAAAAAAAAAAAAAAAAAAAAAAAAAAAAAAAAAAAAAAAAAAAAAAAAAAAAAAAAAAAAAAAAAAAAAAAAAAAAAAAAAAAAAAAAAAAAAAAAAAAAAAAAAAAAAAAAAAAAAAAAAAAAAAAAAAAAAAAAAAAAAAAAAAAAAAAAAAAAAAAAAAAAAAAAAAAAAAAAAAAAAAAAAAAAAAAAAAAAAAAAAAAAAAAAAAAAAAAAAAAAAAAAAAAAAAAAAAAAAAAAAAAAAAAAAAAAAAAAAAAAAAAAAAAAAAAAA=\"}},{\"axis\":{\"matches\":true},\"label\":\"PRCP_mm_y\",\"values\":{\"dtype\":\"f8\",\"bdata\":\"AAAAAAAAAAAAAAAAAAAAAAAAAAAAAAAAvHSTGARWBUCmCkYldQLKPwAAAAAAAAAAAAAAAAAAAAAAAAAAAAAAAAAAAAAAAAAAAAAAAAAAAAC0pnnHKZpBQPs6cM6I0uo\\u002f\\u002fYf029eBsz8AAAAAAAAAAAAAAAAAAAAAAAAAAAAAAAAAAAAAAAAAAKYKRiV1Apo\\u002fcT0K16PwG0CdgCbChicQQFFrmnecous\\u002fAAAAAAAAAAAAAAAAAAAAACcxCKwcWvY\\u002fT\\u002fwYc9cS\\u002fj8AAAAAAAAAAAAAAAAAAAAAAAAAAAAAAAAAAAAAAAAAAAAAAAAAAAAAAAAAAAAAAAAAAAAAAAAAAAAAAAAAAAAAAAAAAAAAAAAAAAAAAAAAAFInoImw4QFAAAAAAAAAAAAAAAAAAAAAAAAAAAAAAAAAAAAAAAAAAADb14FzRhQoQDeJQWDlECRApgpGJXUCmj96FK5H4Xr+PwAAAAAAAAAAAAAAAAAAAAAAAAAAAAAAAAAAAAAAAAAAAAAAAAAAAAAAAAAAAAAAAAAAAAAAAAAAAAAAAAAAAAAAAAAAAAAAAFFrmnecots\\u002fIv32deDcM0AnoImw4enzPwAAAAAAAAAAAAAAAAAAAAAAAAAAAAAAACcPC7WmefE\\u002fUrgehetR5D8AAAAAAAAAAAAAAAAAAAAAAAAAAAAAAACoxks3iUEQQEYldQKaiBtAAAAAAAAAAAAAAAAAAAAAAAAAAAAAAAAAAAAAAAAAAAAAAAAAAAAAAAAAAAAAAAAAAAAAAAAAAAAAAAAAAAAAAAAAAAAAAAAAuicPC7WmDEClLEMc6+LePwAAAAAAAAAA\\u002fYf029eB0z8AAAAAAAAAAAAAAAAAAAAAAAAAAAAAAAAAAAAAAAAAAAAAAAAAAAAAAAAAAAAAAAAAAAAAAAAAAAAAAAAAAAAAR+F6FK7HEUAAAAAAAAAAAOXQItv5fg9AAAAAAAAAAAAAAAAAAAAAAAAAAAAAAAAAAAAAAAAAAAAAAAAAAAAAAAAAAAAAAAAAAAAAAAAAAAAAAAAAAAAAAAAAAAAAAAAAkVz+Q\\u002frtJECmCkYldQKqPwAAAAAAAAAApgpGJXUCqj9Ra5p3nKLbPySX\\u002f5B+GzVA16NwPQqXJUCn6Egu\\u002fyHVPwAAAAAAAAAAAAAAAAAAAAAAAAAAAAAAAAAAAAAAAAAAAAAAAAAAAAD99nXgnBHhPwAAAAAAAAAAAAAAAAAAAAAAAAAAAAAAAP2H9NvXgbM\\u002fAAAAAAAAAAAAAAAAAAAAAAAAAAAAAAAAAAAAAAAAAAAAAAAAAAAAAJHtfD81XgdAAAAAAAAAAADmHafoSC44QKYKRiV1Aso\\u002fpgpGJXUCuj+mCkYldQKaPwAAAAAAAAAAAAAAAAAAAAAAAAAAAAAAAAAAAAAAAAAAAAAAAAAAAAAAAAAAAAAAAPrL7snDQs0\\u002fAAAAAAAAAAAAAAAAAAAAAN0kBoGVwxBAAAAAAAAAAAA8vVKWIY4WQFFrmnecogtAAAAAAAAAAAAAAAAAAAAAAHw\\u002fNV66SfI\\u002fAAAAAAAAAAAAAAAAAAAAAAbwFkhQfBhAqMZLN4lB4D9SJ6CJsOHhP3xhMlUwKvc\\u002fp1fKMsSx4j+mCkYldQKqPwAAAAAAAAAAAAAAAAAAAAAAAAAAAAAAAAAAAAAAAAAAAAAAAAAAAAAAAAAAAAAAAAAAAAAAAAAAAAAAAAAAAAAAAAAAAAAAAKd5xyk6kjdAAAAAAAAAAAAAAAAAAAAAAAAAAAAAAAAAAAAAAAAAAACnV8oyxLHyP\\u002fup8dJNYhhAZYhjXdxGHkAAAAAAAAAAAAAAAAAAAAAAAAAAAAAAAAAAAAAAAAAAAAAAAAAAAAAAqYJRSZ1gNkCoxks3iUHgP6dXyjLEseI\\u002fpgpGJXUCyj8AAAAAAAAAAJ88LNSaRjZAAAAAAAAAAAC8BRIUP8YHQAAAAAAAAAAAAAAAAAAAAACn6Egu\\u002fyHlP\\u002f32deCcEeE\\u002fke18PzVeB0AAAAAAAAAAAAAAAAAAAAAA6Gor9pfdEEDRItv5fmoKQOauJeSDngpAkjoBTYQNAECmCkYldQKaPwAAAAAAAAAAAAAAAAAAAAA8m1Wfq60BQLq4jQbwFg9AAAAAAAAAAAAAAAAAAAAAAAAAAAAAAAAAAAAAAAAAAAAmUwWjkjr7P6d5xyk6khdApgpGJXUCyj+7lpAPejYqQNEi2\\u002fl+agpAAAAAAAAAAAAAAAAAAAAAAAAAAAAAAAAAAAAAAAAAAAC\\u002fyqFFtrMsQFK4HoXrUfQ\\u002fAAAAAAAAAADPRNjw9Er\\u002fP5F++zpwzilAZ0Rpb\\u002fCFFEAAAAAAAAAAAAAAAAAAAAAAAAAAAAAAAAAAAAAAAAAAAAAAAAAAAAAAAAAAAAAAAAAAAAAAAAAAAAAAAAAAAAAAAAAAAAAAAABR2ht8YTL5PzvfT42XbgtAUiegibDh4T8AAAAAAAAAAPwYc9cS8vU\\u002fz7NZ9bnaDEAAAAAAAAAAAKabxCCwcuw\\u002fAAAAAAAAAAAAAAAAAAAAAKjGSzeJQRBAAAAAAAAAAAAAAAAAAAAAAAAAAAAAAAAAqMZLN4lBAEBliGNd3EYOQFFrmnecovs\\u002fAAAAAAAAAAAAAAAAAAAAAAAAAAAAAAAAAAAAAAAAAAD8GHPXEvLlP6jGSzeJQfA\\u002f+zpwzojSCkAAAAAAAAAAAAAAAAAAAAAAAAAAAAAAAAAnMQisHFoWQKYKRiV1Ato\\u002fUWuad5yi2z8AAAAAAAAAAAAAAAAAAAAAAAAAAAAAAAAAAAAAAAAAACegibDh6fM\\u002fAAAAAAAAAAAAAAAAAAAAAAAAAAAAAAAAAAAAAAAAAAAAAAAAAAAAAAAAAAAAAAAAAAAAAAAAAAAAAAAAAAAAAAAAAAAAAAAAAAAAAAAAAAAAAAAAAAAAAM9E2PD0Sv8\\u002fUrgehetRBEAAAAAAAAAAAAAAAAAAAAAAAAAAAAAAAAAAAAAAAAAAAKYKRiV1Ato\\u002fAAAAAAAAAAAAAAAAAAAAAAAAAAAAAAAAAAAAAAAAAAB8YTJVMCr3PwAAAAAAAAAA1sVtNIB3KkAAAAAAAAAAAAAAAAAAAAAAAAAAAAAAAAAAAAAAAAAAAAAAAAAAAAAAAAAAAAAAAAAAAAAAAAAAAAAAAAAAAAAAAAAAAAAAAAAAAAAAAAAAAAAAAAAAAAAANjy9UpZhO0D6y+7Jw0LNPwAAAAAAAAAAAAAAAAAAAAD6XG3F\\u002frLvP6YKRiV1Apo\\u002fppvEILBy\\u002fD\\u002fGbTSAt9BUQAAAAAAAAAAAAAAAAAAAAADPs1n1udo8QAAAAAAAAAAApgpGJXUCuj9d\\u002fkP67WsUQAAAAAAAAAAAAAAAAAAAAACyne+nxssyQEpZhjjWBT5AUUmdgCbCxj8l5IOezaoNQPhT46WbBCFAAAAAAAAAAAAAAAAAAAAAAAAAAAAAAAAAAAAAAAAAAAAAAAAAAAAAAAAAAAAAAAAApSxDHOvi3j\\u002fdJAaBlcMQQAAAAAAAAAAAAAAAAAAAAACbxCCwcugZQAAAAAAAAAAANqs+V1vxKECASL99HRgxQAAAAAAAAAAAAAAAAAAAAAAAAAAAAAAAAAAAAAAAAAAAAAAAAAAAAAAAAAAAAAAAAHyDL0ymCgxAD1g5tMh2DUCmCkYldQKaPwAAAAAAAAAAAAAAAAAAAAAAAAAAAAAAAKfoSC7\\u002fIdU\\u002fAAAAAAAAAAAAAAAAAAAAAM9E2PD0Sj9AhhbZzvfTFEAAAAAAAAAAABt8YTJVsBhAAAAAAAAAAAAAAAAAAAAAAAAAAAAAAAAAAAAAAAAAAAAAAAAAAAAAAAAAAAAAAAAAAAAAAAAAAAAAAAAAAAAAAAAAAAAAAAAAAAAAAAAAAAAAAAAAAAAAAAAAAAAAAAAAAAAAAAAAAAAAAAAAAAAAAAAAAAAAAAAAAAAAAAAAAAAAAAAAAAAAAAAAAAAAAAAAAAAAAAAAAABm9+RhodYLQFHaG3xhMuk\\u002fp3nHKTqS5z8AAAAAAAAAAP2H9NvXgbM\\u002f7evAOSPqO0CmCkYldQLKPwAAAAAAAAAAAAAAAAAAAAAAAAAAAAAAAPup8dJNYtg\\u002fZvfkYaHWO0AAAAAAAAAAAIenV8oyRBdAqMZLN4lB0D9Ra5p3nKLrP6foSC7\\u002fIdU\\u002fAAAAAAAAAAAAAAAAAAAAAKUsQxzr4v4\\u002fnYAmwoYnIEBH4XoUrscRQKYKRiV1Aro\\u002fAAAAAAAAAAAAAAAAAAAAAAAAAAAAAAAAAAAAAAAAAAAAAAAAAAAAAAAAAAAAAAAAN\\u002fjCZKqgIUBRa5p3nKLrPwAAAAAAAAAAAAAAAAAAAAAAAAAAAAAAAAAAAAAAAAAAUWuad5yiC0C30QDeAkklQMiYu5aQjyBAZ7Pqc7UVMkCn6Egu\\u002fyHlPwAAAAAAAAAAAAAAAAAAAACnV8oyxLHiP6abxCCwcgxAUWuad5yi2z9RSZ2AJsLGPwAAAAAAAAAAAAAAAAAAAAAAAAAAAAAAAJHtfD81XgdAsgxxrItbEEBns+pztRUCQFInoImw4eE\\u002f\\u002fBhz1xLy9T8AAAAAAAAAAKjGSzeJQdA\\u002fAAAAAAAAAAAAAAAAAAAAAKYKRiV1Aro\\u002fpgpGJXUCmj8AAAAAAAAAAAAAAAAAAAAAAAAAAAAAAABP\\u002fBhz1xLuPwAAAAAAAAAAAAAAAAAAAAAAAAAAAAAAAAAAAAAAAAAAAAAAAAAAAAAAAAAAAAAAAAAAAAAAAAAAAAAAAAAAAAD9h\\u002fTb14GzPwAAAAAAAAAAAAAAAAAAAABn1edqK\\u002fYGQKpgVFIngDFAAAAAAAAAAAAAAAAAAAAAAAAAAAAAAAAAAAAAAAAAAACSy39Iv30CQAAAAAAAAAAAAAAAAAAAAAAAAAAAAAAAAAAAAAAAAAAAN\\u002fjCZKqgMUAAAAAAAAAAAAdfmEwVDBZAAAAAAAAAAACoxks3iUEAQAAAAAAAAAAAAAAAAAAAAAAAAAAAAAAAAOXQItv5fg9AAAAAAAAAAAAAAAAAAAAAAAAAAAAAAAAAAAAAAAAAAAAAAAAAAAAAAAAAAAAAAAAATKYKRiW1JkAAAAAAAAAAAAAAAAAAAAAAAAAAAAAAAAAAAAAAAAAAAP2H9NvXgbM\\u002fXI\\u002fC9SjcJkAAAAAAAAAAAAAAAAAAAAAA0t7gC5OpIED9h\\u002fTb14HTPwAAAAAAAAAA5h2n6EguCEDRAN4CCYoFQAAAAAAAAAAAp1fKMsSx4j8=\"}},{\"axis\":{\"matches\":true},\"label\":\"dry day_y\",\"values\":{\"dtype\":\"i1\",\"bdata\":\"AQEBAAABAQEBAQAAAAEBAQEAAAAAAQEAAAEBAQEBAQEBAQEAAQEBAQAAAAABAQEBAQEBAQEAAAABAQEAAAEBAQAAAQEBAQEBAQEBAAABAAEBAQEBAQEBAAEAAQEBAQEBAQEBAAABAAAAAAABAQEBAQABAQEAAQEBAQEAAQAAAAABAQEBAQEAAQEAAQAAAQEAAQEAAAAAAAABAQEBAQEBAQEAAQEBAQAAAAEBAQEBAAAAAAEAAQABAQAAAAEBAAAAAAABAQAAAQEBAQAAAAAAAQEBAQAAAQAAAAEBAQEBAQEBAQAAAAEAAAEAAQEAAQEBAAAAAQEBAQAAAAEBAQAAAAEBAQEAAQEBAQEBAQEBAQEAAAEBAQEAAQEBAQABAAEBAQEBAQEBAQEBAAABAQAAAAABAQABAAABAQAAAAAAAQEBAQEBAAABAQABAAABAQEBAQEAAAABAQEAAQEAAAEAAQEBAQEBAQEBAQEBAQEBAQEBAQAAAAEAAAABAQEAAAEAAAAAAQEAAAAAAQEBAQEBAAABAQEBAAAAAAABAQAAAAABAQEAAAAAAAEAAQEAAAEBAQABAQEBAQEBAQABAQAAAQEBAQABAQEBAAEAAQABAQEAAQEBAQEBAAEBAQEAAAEBAAABAAABAA==\"}},{\"axis\":{\"matches\":true},\"label\":\"Temp (C)_y\",\"values\":{\"dtype\":\"f8\",\"bdata\":\"chzHcRwHOkAcx3EcxzE6QOQ4juM4jjpAchzHcRxHNkCP4ziO4zg1QFVVVVVVVTdAchzHcRxHN0DIcRzHcVw3QOQ4juM4zjdA4ziO4zgOOEDkOI7jOI4zQI7jOI7juC9Ax3Ecx3GcNEAcx3Ecx3E0QMhxHMdxnDZAVlVVVVXVN0Cqqqqqqqo5QDmO4ziO4zlAjuM4juO4NkByHMdxHEc5QDmO4ziOYzhAjuM4juM4L0DGcRzHcZwsQAAAAAAAgDFA5DiO4zhOMUCrqqqqqiotQBzHcRzH8ShAjuM4juO4KEAAAAAAAIApQBzHcRzH8StA5DiO4ziOL0AAAAAAAIAwQI7jOI7jOC1Aq6qqqqqqL0BzHMdxHIcxQAAAAAAAwDJA5DiO4ziOJEBxHMdxHMciQFVVVVVVVSxAqqqqqqqqMECqqqqqqmowQBzHcRzHcS1AjuM4juM4IkCrqqqqqqokQI3jOI7jOB1Ax3Ecx3EcIkDkOI7jOI4WQI7jOI7jOBZAHcdxHMdxFkA5juM4jmMiQMhxHMdxHDBAHMdxHMexNECrqqqqqio2QFZVVVVV1TVAOI7jOI4jMEBWVVVVVdUjQHIcx3EcxyBAx3Ecx3EcJ0DkOI7jOI4oQP\\u002f\\u002f\\u002f\\u002f\\u002f\\u002f\\u002fypAx3Ecx3GcKkAcx3Ecx\\u002fEsQBzHcRzHcS9Ax3Ecx3HcMUCO4ziO4zg0QFVVVVVVVS1Ax3Ecx3EcKUCO4ziO47giQHIcx3EcxyJAOo7jOI5jLUByHMdxHAc0QMhxHMdxnCBAcBzHcRzH9T9yHMdxHMfhP+I4juM4jvM\\u002fjOM4juM4+j9OVVVVVVXtP+o4juM4jtO\\u002fyHEcx3EcDcCO4ziO4zgWwKqqqqqqqhPAOY7jOI7jCkA6juM4juMQQB3HcRzHcR5A5DiO4ziOHUCrqqqqqqoYQJDjOI7jOBxAyHEcx3EcFEDlOI7jOI4JQI7jOI7jOCJAkOM4juM4AsDkOI7jOI4HwMhxHMdxHBtA5jiO4ziOA0CQ4ziO4zj2v8hxHMdxHANAOo7jOI7jEUA6juM4juMRQFRVVVVVVQlA4jiO4ziOA0DoOI7jOI4LQDqO4ziO4wpA4TiO4ziOD0CuqqqqqqoCQMhxHMdxHBRAy3Ecx3Ec9z\\u002fiOI7jOI77v1ZVVVVVVRLAAAAAAAAAIMDjOI7jOI4ewB7HcRzHcQTA4ziO4ziOEsCO4ziO4zgjwKqqqqqqajTA5DiO4ziOLMAAAAAAAIAqwHIcx3Ecxx\\u002fAOY7jOI7jIMDkOI7jOI77P3Icx3EcxyRAxnEcx3EcHEDqOI7jOI7jP5DjOI7jOBNAHcdxHMdxCEAcx3Ecx3EYQI7jOI7jOBBAJ8dxHMdx5D\\u002fDcRzHcRzzv1RVVVVVVfG\\u002fyHEcx3Ec87+qqqqqqqr2PzmO4ziO4xZAj+M4juM4HkDkOI7jOI4SQAEAAAAAAOC\\u002fqqqqqqqqAsBVVVVVVVX1PwAAAAAAAB9A\\u002f\\u002f\\u002f\\u002f\\u002f\\u002f\\u002f\\u002fGUDKcRzHcRwJQFJVVVVVVQ1AexzHcRzH4T8ax3Ecx3H0v0wcx3Ecx8G\\u002fchzHcRzHCcBQVVVVVVXVP72qqqqqqto\\u002fqqqqqqqqDMDiOI7jOI4PwMZxHMdxHA3AjeM4juM4DsAcx3Ecx3ElwBzHcRzHcSvAyHEcx3GcIMCO4ziO4zgSwBzHcRzHcSzAAAAAAAAACMDIcRzHcRwDQCDHcRzHcfg\\u002fkOM4juM4FEDKcRzHcRz7P6qqqqqqqhFA+P\\u002f\\u002f\\u002f\\u002f\\u002f\\u002fzz+wqqqqqqr6P+M4juM4jhNAOo7jOI7jGUAbx3Ecx3EbQFRVVVVVVRpAXFVVVVVV5b9yHMdxHMcTwOQ4juM4jvs\\u002fcRzHcRzHHUAdx3Ecx3EKQI7jOI7jOOY\\u002f4DiO4ziO9z8Yx3Ecx3HcPxzHcRzHcRPAhBzHcRzH0T+N4ziO4zgOQMdxHMdxnCFA\\u002f\\u002f\\u002f\\u002f\\u002f\\u002f\\u002f\\u002fGkByHMdxHEchQOY4juM4jgNAAQAAAAAAAkDjOI7jOI4PQHEcx3EcxxBAq6qqqqqqIECO4ziO4zgSQKyqqqqqqhNAraqqqqqqBkD8\\u002f\\u002f\\u002f\\u002f\\u002f\\u002f\\u002f7PxvHcRzHcQJAGsdxHMdx7D\\u002foOI7jOI7rv\\u002f7\\u002f\\u002f\\u002f\\u002f\\u002f\\u002f\\u002fe\\u002fchzHcRzHB0CN4ziO4zgdQKqqqqqqqgpA4ziO4ziOHMCQ4ziO4zj2v4\\u002fjOI7jOBJAVFVVVVVVHkByHMdxHMceQHIcx3EcxxhAOY7jOI7jEkD\\u002f\\u002f\\u002f\\u002f\\u002f\\u002f\\u002f8RQFZVVVVVVRFAOo7jOI7jEECsqqqqqqoTQHEcx3EcxwNAqqqqqqqqFUByHMdxHAcwQI7jOI7jOBxAqqqqqqqqGUCO4ziO4zgoQHIcx3EcxytA4ziO4ziOK0DIcRzHcRwYQFVVVVVVVRhAx3Ecx3GcJECqqqqqqioqQDmO4ziO4y5AVVVVVVUVM0Crqqqqqqo1QMdxHMdxHDVAVlVVVVXVNEDHcRzHcVw3QP\\u002f\\u002f\\u002f\\u002f\\u002f\\u002f\\u002fyVAqqqqqqqqAkCqqqqqqqofQKuqqqqqKipAchzHcRyHMkCrqqqqqqonQMdxHMdxHBlAAgAAAAAAEEAAAAAAAAAcQHIcx3EcxxZA\\u002f\\u002f\\u002f\\u002f\\u002f\\u002f\\u002f\\u002fFECP4ziO4zgmQOQ4juM4jihAq6qqqqoqJEDkOI7jOI4ZQB3HcRzHcR1Ax3Ecx3GcIkA4juM4juMhQBvHcRzHcStAAAAAAABAM0ByHMdxHEc0QFVVVVVVFTZA5DiO4zgOLUCqqqqqqqotQOQ4juM4DjJA4ziO4zjONEByHMdxHAc0QOM4juM4jjBAxnEcx3GcLUAcx3Ecx3EuQB3HcRzH8TJAjuM4juM4KECP4ziO4zgvQFVVVVVVFTNA5DiO4zgOL0A5juM4jmMzQBzHcRzHMTRAHMdxHMcxNkA6juM4jiMwQKqqqqqqqilAG8dxHMfxLUBVVVVVVdUuQKuqqqqqajNAq6qqqqpqNEAcx3Ecx\\u002fE3QKyqqqqqajpA5DiO4zhOOkCO4ziO4\\u002fg5QB3HcRzH8ThA5DiO4zjONEAcx3Ecx3E1QI7jOI7juDRAjuM4juP4MkAcx3Ecx\\u002fExQDqO4ziOIzNAchzHcRwHN0Adx3Ecx\\u002fEwQKuqqqqqqi5Ax3Ecx3EcMEByHMdxHMcyQBzHcRzHsTNAAQAAAAAAL0DHcRzHcdwyQFVVVVVV1TZAHMdxHMdxN0CO4ziO4zg2QMdxHMdxXDhAAAAAAACAOECrqqqqqmo4QBzHcRzHsTlA5DiO4zhOOUByHMdxHAc2QAAAAAAAQDVAjuM4juP4NUCqqqqqqmo6QOQ4juM4zjpAVlVVVVXVOUDkOI7jOE41QBzHcRzHsTdAchzHcRwHO0CP4ziO4zg7QFZVVVVVlTdAchzHcRyHNkA5juM4juM0QKuqqqqqajZAHMdxHMfxN0BWVVVVVRU5QHIcx3EchzVAOY7jOI5jNUAAAAAAAIA6QAAAAAAAADlA\\u002f\\u002f\\u002f\\u002f\\u002f\\u002f8\\u002fN0CO4ziO43g2QFZVVVVVVTVAOY7jOI4jN0Acx3EcxzE6QDqO4ziOYzdAVlVVVVWVN0Acx3Ecx3E3QI7jOI7jODlAcRzHcRyHOkBVVVVVVdU7QBzHcRzH8TtAAAAAAAAAPEA5juM4jmM4QMdxHMdxHDdAqqqqqqqqNkCO4ziO47g4QFZVVVVVlThAchzHcRxHOUAAAAAAAMA5QKuqqqqqqjZAcRzHcRyHNEBVVVVVVVU3QAAAAAAAADdA5DiO4zhONkDkOI7jOI43QMhxHMdxXDlAAAAAAAAAOkBWVVVVVRU3QDmO4ziOYzVAAAAAAACANUBVVVVVVVU1QKuqqqqqqjZAAAAAAABANEAAAAAAAIA2QHIcx3EcxzpAx3Ecx3GcOEAAAAAAAAA6QMhxHMdxXD5AyHEcx3GcP0Csqqqqqqo4QB3HcRzHsTVAOI7jOI4jNUCO4ziO47g0QBzHcRzHcTdAjuM4juP4MUCO4ziO47gyQAAAAAAAwDVAVlVVVVWVOEDHcRzHcVw7QMdxHMdxnDtAxnEcx3HcPECrqqqqqqo3QAAAAAAAQDRAAAAAAAAAMkCO4ziO43gyQMZxHMdx3DNAHMdxHMfxMkBVVVVVVZUxQI7jOI7jODBA4ziO4ziOMEByHMdxHIcyQMdxHMdxnDJAVlVVVVXVMEDHcRzHcZwwQHIcx3EchzBAAAAAAACANUBVVVVVVdU1QAAAAAAAQDZAx3Ecx3GcNUAAAAAAAMAzQFZVVVVVlTRAHMdxHMdxNEBVVVVVVVUzQKuqqqqqKjNAx3Ecx3EcM0Cqqqqqqio2QBzHcRzH8TZAx3Ecx3GcN0DIcRzHcVw4QFVVVVVVFTlAchzHcRzHM0DHcRzHcZwoQDiO4ziOYyZAchzHcRxHJEA6juM4juMkQDiO4ziOYyZAxnEcx3GcJ0BWVVVVVVUsQHIcx3EcRyxAVVVVVVXVKEDHcRzHcZwmQOQ4juM4DiRAq6qqqqqqJUA5juM4juMqQOQ4juM4DitAHMdxHMdxKEAcx3Ecx3EpQKuqqqqqKiRA4jiO4zgOKkA5juM4jmM1QFVVVVVVFTJAVVVVVVUVNEDHcRzHcRwvQKmqqqqqqh1AAAAAAAAAGkAbx3Ecx3EKQGRVVVVVVcU\\u002fcBzHcRzH9T\\u002flOI7jOI4cQFVVVVVVVSVAxnEcx3EcJEDkOI7jOA4jQAAAAAAAwDBA5DiO4ziOJUBWVVVVVVUnQAAAAAAAACNArKqqqqqqFEA4juM4juMTQMZxHMdxHCRAqqqqqqqqJUA4juM4jmMiQOM4juM4DilAx3Ecx3EcK0DkOI7jOI4jQDiO4ziO4xdAOY7jOI7jHEDIcRzHcRwfQHIcx3EcxxRAHcdxHMdxEkCrqqqqqqoTQEjHcRzHccy\\u002fjuM4juM45j9EjuM4juPYvxzHcRzHcRHAOI7jOI7jGcA0juM4juPgvwEAAAAAABhAcBzHcRzHGUDHcRzHcRwWQOM4juM4jhBAchzHcRzHCUDFcRzHcRwJQFNVVVVVVQNAVFVVVVVVG0CrqqqqqiolQI\\u002fjOI7jOB9AO47jOI7j6D9SVVVVVVXVP6Gqqqqqquo\\u002fGMdxHMdx3D9yHMdxHMcUQP\\u002f\\u002f\\u002f\\u002f\\u002f\\u002f\\u002fxtAAAAAAAAAHEAcx3Ecx3ETQHYcx3Ecx\\u002fW\\u002fdBzHcRzHCcBxHMdxHMcHQHIcx3EcxxVAdBzHcRzHHEDHcRzHcZwgQAAAAAAAACdAjuM4juO4KUCN4ziO4zgZQHEcx3EcxwdAN47jOI7jEUCnqqqqqqoIQIjjOI7jON4\\u002f4DiO4ziO9z8=\"}},{\"axis\":{\"matches\":true},\"label\":\"annual\",\"values\":{\"dtype\":\"f8\",\"bdata\":\"34rikfCtNUDqOtwepK41QPXq1atXrzVAAZvPOAuwNUAMS8nFvrA1QBf7wlJysTVAIqu83yWyNUAuW7Zs2bI1QDkLsPmMszVARLuphkC0NUBPa6MT9LQ1QFobnaCntTVAZsuWLVu2NUBxe5C6Drc1QHwrikfCtzVAh9uD1HW4NUCTi31hKbk1QJ47d+7cuTVAqetwe5C6NUC0m2oIRLs1QL9LZJX3uzVAy\\u002ftdIqu8NUDWq1evXr01QOFbUTwSvjVA7AtLycW+NUD4u0RWeb81QANsPuMswDVADhw4cODANUAZzDH9k8E1QCR8K4pHwjVAMCwlF\\u002fvCNUA73B6krsM1QEaMGDFixDVAUTwSvhXFNUBd7AtLycU1QGicBdh8xjVAc0z\\u002fZDDHNUB+\\u002fPjx48c1QIms8n6XyDVAlVzsC0vJNUCgDOaY\\u002fsk1QKu83yWyyjVAtmzZsmXLNUDCHNM\\u002fGcw1QM3MzMzMzDVA2HzGWYDNNUDjLMDmM841QO7cuXPnzjVA+oyzAJvPNUAFPa2NTtA1QBDtphoC0TVAG52gp7XRNUAnTZo0adI1QDL9k8Ec0zVAPa2NTtDTNUBIXYfbg9Q1QFMNgWg31TVAX7169erVNUBqbXSCntY1QHUdbg9S1zVAgM1nnAXYNUCMfWEpudg1QJctW7Zs2TVAot1UQyDaNUCtjU7Q09o1QLg9SF2H2zVAxO1B6jrcNUDPnTt37tw1QNpNNQSi3TVA5f0ukVXeNUDxrSgeCd81QPxdIqu83zVABw4cOHDgNUASvhXFI+E1QB1uD1LX4TVAKR4J34riNUA0zgJsPuM1QD9+\\u002fPjx4zVASi72haXkNUBW3u8SWeU1QGGO6Z8M5jVAbD7jLMDmNUB37ty5c+c1QIKe1kYn6DVAjk7Q09roNUCZ\\u002fslgjuk1QKSuw+1B6jVAr169evXqNUC7DrcHqes1QMa+sJRc7DVA0W6qIRDtNUDcHqSuw+01QOfOnTt37jVA836XyCrvNUD+LpFV3u81QAnfiuKR8DVAFI+Eb0XxNUAgP378+PE1QCvvd4ms8jVANp9xFmDzNUBBT2ujE\\u002fQ1QEz\\u002fZDDH9DVAWK9evXr1NUBjX1hKLvY1QG4PUtfh9jVAeb9LZJX3NUCFb0XxSPg1QJAfP378+DVAm884C7D5NUCmfzKYY\\u002fo1QLEvLCUX+zVAvd8lssr7NUDIjx8\\u002ffvw1QNM\\u002fGcwx\\u002fTVA3u8SWeX9NUDqnwzmmP41QPVPBnNM\\u002fzVAAAAAAAAANkALsPmMswA2QBZg8xlnATZAIhDtphoCNkAtwOYzzgI2QDhw4MCBAzZAQyDaTTUENkBP0NPa6AQ2QFqAzWecBTZAZTDH9E8GNkBw4MCBAwc2QHuQug63BzZAh0C0m2oINkCS8K0oHgk2QJ2gp7XRCTZAqFChQoUKNkC0AJvPOAs2QL+wlFzsCzZAymCO6Z8MNkDVEIh2Uw02QODAgQMHDjZA7HB7kLoONkD3IHUdbg82QALRbqohEDZADYFoN9UQNkAZMWLEiBE2QCThW1E8EjZAL5FV3u8SNkA6QU9roxM2QEXxSPhWFDZAUaFChQoVNkBcUTwSvhU2QGcBNp9xFjZAcrEvLCUXNkB+YSm52Bc2QIkRI0aMGDZAlMEc0z8ZNkCfcRZg8xk2QKohEO2mGjZAttEJelobNkDBgQMHDhw2QMwx\\u002fZPBHDZA1+H2IHUdNkDjkfCtKB42QO5B6jrcHjZA+fHjx48fNkAEot1UQyA2QA9S1+H2IDZAGwLRbqohNkAmssr7XSI2QDFixIgRIzZAPBK+FcUjNkBIwreieCQ2QFNysS8sJTZAXiKrvN8lNkBp0qRJkyY2QHSCntZGJzZAgDKYY\\u002fonNkCL4pHwrSg2QJaSi31hKTZAoUKFChUqNkCt8n6XyCo2QLiieCR8KzZAw1JysS8sNkDOAmw+4yw2QNmyZcuWLTZA5WJfWEouNkDwElnl\\u002fS42QPvCUnKxLzZABnNM\\u002f2QwNkASI0aMGDE2QB3TPxnMMTZAKIM5pn8yNkAzMzMzMzM2QD7jLMDmMzZASpMmTZo0NkBVQyDaTTU2QGDzGWcBNjZAa6MT9LQ2NkB3Uw2BaDc2QIIDBw4cODZAjbMAm884NkCYY\\u002fongzk2QKMT9LQ2OjZAr8PtQeo6NkC6c+fOnTs2QMUj4VtRPDZA0NPa6AQ9NkDcg9R1uD02QOczzgJsPjZA8uPHjx8\\u002fNkD9k8Ec0z82QAhEu6mGQDZAFPS0NjpBNkAfpK7D7UE2QCpUqFChQjZANQSi3VRDNkBBtJtqCEQ2QExklfe7RDZAVxSPhG9FNkBixIgRI0Y2QG10gp7WRjZAeSR8K4pHNkCE1HW4PUg2QI+Eb0XxSDZAmjRp0qRJNkCm5GJfWEo2QLGUXOwLSzZAvERWeb9LNkDH9E8Gc0w2QNKkSZMmTTZA3lRDINpNNkDpBD2tjU42QPS0NjpBTzZA\\u002f2Qwx\\u002fRPNkALFSpUqFA2QBbFI+FbUTZAIXUdbg9SNkAsJRf7wlI2QDfVEIh2UzZAQ4UKFSpUNkBONQSi3VQ2QFnl\\u002fS6RVTZAZJX3u0RWNkBwRfFI+FY2QHv16tWrVzZAhqXkYl9YNkCRVd7vElk2QJwF2HzGWTZAqLXRCXpaNkCzZcuWLVs2QL4VxSPhWzZAycW+sJRcNkDVdbg9SF02QOAlssr7XTZA69WrV69eNkD2haXkYl82QAE2n3EWYDZADeaY\\u002fslgNkAYlpKLfWE2QCNGjBgxYjZALvaFpeRiNkA6pn8ymGM2QEVWeb9LZDZAUAZzTP9kNkBbtmzZsmU2QGZmZmZmZjZAchZg8xlnNkB9xlmAzWc2QIh2Uw2BaDZAkyZNmjRpNkCf1kYn6Gk2QKqGQLSbajZAtTY6QU9rNkDA5jPOAmw2QMuWLVu2bDZA10Yn6GltNkDi9iB1HW42QO2mGgLRbjZA+FYUj4RvNkAEBw4cOHA2QA+3B6nrcDZAGmcBNp9xNkAlF\\u002fvCUnI2QDDH9E8GczZAPHfu3LlzNkBHJ+hpbXQ2QFLX4fYgdTZAXYfbg9R1NkBpN9UQiHY2QHTnzp07dzZAf5fIKu93NkCKR8K3ong2QJX3u0RWeTZAoae10Ql6NkCsV69evXo2QLcHqetwezZAwreieCR8NkDOZ5wF2Hw2QNkXlpKLfTZA5MePHz9+NkDvd4ms8n42QPongzmmfzZABth8xlmANkARiHZTDYE2QBw4cODAgTZAJ+hpbXSCNkAymGP6J4M2QD5IXYfbgzZASfhWFI+ENkBUqFChQoU2QF9YSi72hTZAawhEu6mGNkB2uD1IXYc2QIFoN9UQiDZAjBgxYsSINkCXyCrvd4k2QKN4JHwrijZArigeCd+KNkC52BeWkos2QMSIESNGjDZA0DgLsPmMNkDb6AQ9rY02QOaY\\u002fslgjjZA8Uj4VhSPNkD8+PHjx482QAip63B7kDZAE1nl\\u002fS6RNkAeCd+K4pE2QCm52BeWkjZANWnSpEmTNkBAGcwx\\u002fZM2QEvJxb6wlDZAVnm\\u002fS2SVNkBhKbnYF5Y2QG3ZsmXLljZAeIms8n6XNkCDOaZ\\u002fMpg2QI7pnwzmmDZAmpmZmZmZNkClSZMmTZo2QLD5jLMAmzZAu6mGQLSbNkDGWYDNZ5w2QNIJelobnTZA3blz586dNkDoaW10gp42QPMZZwE2nzZA\\u002f8lgjumfNkAKelobnaA2QBUqVKhQoTZAINpNNQSiNkArikfCt6I2QDc6QU9rozZAQuo63B6kNkBNmjRp0qQ2QFhKLvaFpTZAZPongzmmNkBvqiEQ7aY2QHpaG52gpzZAhQoVKlSoNkCQug63B6k2QJxqCES7qTZApxoC0W6qNkCyyvtdIqs2QL169erVqzZAySrvd4msNkDU2ugEPa02QN+K4pHwrTZA6jrcHqSuNkD16tWrV682QAGbzzgLsDZADEvJxb6wNkAX+8JScrE2QCKrvN8lsjZALlu2bNmyNkA5C7D5jLM2QES7qYZAtDZAT2ujE\\u002fS0NkBaG52gp7U2QGbLli1btjZAcXuQug63NkB8K4pHwrc2QIfbg9R1uDZAk4t9YSm5NkCeO3fu3Lk2QKnrcHuQujZAtJtqCES7NkC\\u002fS2SV97s2QMv7XSKrvDZA1qtXr169NkDhW1E8Er42QOwLS8nFvjZA+LtEVnm\\u002fNkADbD7jLMA2QA4cOHDgwDZAGcwx\\u002fZPBNkAkfCuKR8I2QDAsJRf7wjZAO9wepK7DNkBGjBgxYsQ2QFE8Er4VxTZAXewLS8nFNkBonAXYfMY2QHNM\\u002f2QwxzZAfvz48ePHNkCJrPJ+l8g2QJVc7AtLyTZAoAzmmP7JNkCrvN8lsso2QLZs2bJlyzZAwhzTPxnMNkDNzMzMzMw2QNh8xlmAzTZA4yzA5jPONkDu3Llz5842QPqMswCbzzZABT2tjU7QNkAQ7aYaAtE2QBudoKe10TZAJ02aNGnSNkAy\\u002fZPBHNM2QD2tjU7Q0zZASF2H24PUNkBTDYFoN9U2QF+9evXq1TZAam10gp7WNkB1HW4PUtc2QIDNZ5wF2DZAjH1hKbnYNkCXLVu2bNk2QKLdVEMg2jZArY1O0NPaNkC4PUhdh9s2QMTtQeo63DZAz507d+7cNkDaTTUEot02QOX9LpFV3jZA8a0oHgnfNkD8XSKrvN82QAcOHDhw4DZAEr4VxSPhNkAdbg9S1+E2QCkeCd+K4jZANM4CbD7jNkA\\u002ffvz48eM2QEou9oWl5DZAVt7vElnlNkBhjumfDOY2QGw+4yzA5jZAd+7cuXPnNkCCntZGJ+g2QI5O0NPa6DZAmf7JYI7pNkCkrsPtQeo2QK9evXr16jZAuw63B6nrNkDGvrCUXOw2QNFuqiEQ7TZA3B6krsPtNkDnzp07d+42QPN+l8gq7zZA\\u002fi6RVd7vNkAJ34rikfA2QBSPhG9F8TZAID9+\\u002fPjxNkAr73eJrPI2QDafcRZg8zZAQU9roxP0NkBM\\u002f2Qwx\\u002fQ2QFivXr169TZAY19YSi72NkBuD1LX4fY2QHm\\u002fS2SV9zZAhW9F8Uj4NkCQHz9+\\u002fPg2QJvPOAuw+TZApn8ymGP6NkCxLywlF\\u002fs2QL3fJbLK+zZAyI8fP378NkDTPxnMMf02QN7vElnl\\u002fTZA6p8M5pj+NkD1TwZzTP82QAAAAAAAADdAC7D5jLMAN0AWYPMZZwE3QCIQ7aYaAjdALcDmM84CN0A=\"}}],\"hovertemplate\":\"%{xaxis.title.text}=%{x}\\u003cbr\\u003e%{yaxis.title.text}=%{y}\\u003cextra\\u003e\\u003c\\u002fextra\\u003e\",\"legendgroup\":\"\",\"marker\":{\"color\":\"#636efa\",\"symbol\":\"circle\"},\"name\":\"\",\"showlegend\":false,\"type\":\"splom\"}],                        {\"template\":{\"data\":{\"histogram2dcontour\":[{\"type\":\"histogram2dcontour\",\"colorbar\":{\"outlinewidth\":0,\"ticks\":\"\"},\"colorscale\":[[0.0,\"#0d0887\"],[0.1111111111111111,\"#46039f\"],[0.2222222222222222,\"#7201a8\"],[0.3333333333333333,\"#9c179e\"],[0.4444444444444444,\"#bd3786\"],[0.5555555555555556,\"#d8576b\"],[0.6666666666666666,\"#ed7953\"],[0.7777777777777778,\"#fb9f3a\"],[0.8888888888888888,\"#fdca26\"],[1.0,\"#f0f921\"]]}],\"choropleth\":[{\"type\":\"choropleth\",\"colorbar\":{\"outlinewidth\":0,\"ticks\":\"\"}}],\"histogram2d\":[{\"type\":\"histogram2d\",\"colorbar\":{\"outlinewidth\":0,\"ticks\":\"\"},\"colorscale\":[[0.0,\"#0d0887\"],[0.1111111111111111,\"#46039f\"],[0.2222222222222222,\"#7201a8\"],[0.3333333333333333,\"#9c179e\"],[0.4444444444444444,\"#bd3786\"],[0.5555555555555556,\"#d8576b\"],[0.6666666666666666,\"#ed7953\"],[0.7777777777777778,\"#fb9f3a\"],[0.8888888888888888,\"#fdca26\"],[1.0,\"#f0f921\"]]}],\"heatmap\":[{\"type\":\"heatmap\",\"colorbar\":{\"outlinewidth\":0,\"ticks\":\"\"},\"colorscale\":[[0.0,\"#0d0887\"],[0.1111111111111111,\"#46039f\"],[0.2222222222222222,\"#7201a8\"],[0.3333333333333333,\"#9c179e\"],[0.4444444444444444,\"#bd3786\"],[0.5555555555555556,\"#d8576b\"],[0.6666666666666666,\"#ed7953\"],[0.7777777777777778,\"#fb9f3a\"],[0.8888888888888888,\"#fdca26\"],[1.0,\"#f0f921\"]]}],\"contourcarpet\":[{\"type\":\"contourcarpet\",\"colorbar\":{\"outlinewidth\":0,\"ticks\":\"\"}}],\"contour\":[{\"type\":\"contour\",\"colorbar\":{\"outlinewidth\":0,\"ticks\":\"\"},\"colorscale\":[[0.0,\"#0d0887\"],[0.1111111111111111,\"#46039f\"],[0.2222222222222222,\"#7201a8\"],[0.3333333333333333,\"#9c179e\"],[0.4444444444444444,\"#bd3786\"],[0.5555555555555556,\"#d8576b\"],[0.6666666666666666,\"#ed7953\"],[0.7777777777777778,\"#fb9f3a\"],[0.8888888888888888,\"#fdca26\"],[1.0,\"#f0f921\"]]}],\"surface\":[{\"type\":\"surface\",\"colorbar\":{\"outlinewidth\":0,\"ticks\":\"\"},\"colorscale\":[[0.0,\"#0d0887\"],[0.1111111111111111,\"#46039f\"],[0.2222222222222222,\"#7201a8\"],[0.3333333333333333,\"#9c179e\"],[0.4444444444444444,\"#bd3786\"],[0.5555555555555556,\"#d8576b\"],[0.6666666666666666,\"#ed7953\"],[0.7777777777777778,\"#fb9f3a\"],[0.8888888888888888,\"#fdca26\"],[1.0,\"#f0f921\"]]}],\"mesh3d\":[{\"type\":\"mesh3d\",\"colorbar\":{\"outlinewidth\":0,\"ticks\":\"\"}}],\"scatter\":[{\"fillpattern\":{\"fillmode\":\"overlay\",\"size\":10,\"solidity\":0.2},\"type\":\"scatter\"}],\"parcoords\":[{\"type\":\"parcoords\",\"line\":{\"colorbar\":{\"outlinewidth\":0,\"ticks\":\"\"}}}],\"scatterpolargl\":[{\"type\":\"scatterpolargl\",\"marker\":{\"colorbar\":{\"outlinewidth\":0,\"ticks\":\"\"}}}],\"bar\":[{\"error_x\":{\"color\":\"#2a3f5f\"},\"error_y\":{\"color\":\"#2a3f5f\"},\"marker\":{\"line\":{\"color\":\"#E5ECF6\",\"width\":0.5},\"pattern\":{\"fillmode\":\"overlay\",\"size\":10,\"solidity\":0.2}},\"type\":\"bar\"}],\"scattergeo\":[{\"type\":\"scattergeo\",\"marker\":{\"colorbar\":{\"outlinewidth\":0,\"ticks\":\"\"}}}],\"scatterpolar\":[{\"type\":\"scatterpolar\",\"marker\":{\"colorbar\":{\"outlinewidth\":0,\"ticks\":\"\"}}}],\"histogram\":[{\"marker\":{\"pattern\":{\"fillmode\":\"overlay\",\"size\":10,\"solidity\":0.2}},\"type\":\"histogram\"}],\"scattergl\":[{\"type\":\"scattergl\",\"marker\":{\"colorbar\":{\"outlinewidth\":0,\"ticks\":\"\"}}}],\"scatter3d\":[{\"type\":\"scatter3d\",\"line\":{\"colorbar\":{\"outlinewidth\":0,\"ticks\":\"\"}},\"marker\":{\"colorbar\":{\"outlinewidth\":0,\"ticks\":\"\"}}}],\"scattermap\":[{\"type\":\"scattermap\",\"marker\":{\"colorbar\":{\"outlinewidth\":0,\"ticks\":\"\"}}}],\"scattermapbox\":[{\"type\":\"scattermapbox\",\"marker\":{\"colorbar\":{\"outlinewidth\":0,\"ticks\":\"\"}}}],\"scatterternary\":[{\"type\":\"scatterternary\",\"marker\":{\"colorbar\":{\"outlinewidth\":0,\"ticks\":\"\"}}}],\"scattercarpet\":[{\"type\":\"scattercarpet\",\"marker\":{\"colorbar\":{\"outlinewidth\":0,\"ticks\":\"\"}}}],\"carpet\":[{\"aaxis\":{\"endlinecolor\":\"#2a3f5f\",\"gridcolor\":\"white\",\"linecolor\":\"white\",\"minorgridcolor\":\"white\",\"startlinecolor\":\"#2a3f5f\"},\"baxis\":{\"endlinecolor\":\"#2a3f5f\",\"gridcolor\":\"white\",\"linecolor\":\"white\",\"minorgridcolor\":\"white\",\"startlinecolor\":\"#2a3f5f\"},\"type\":\"carpet\"}],\"table\":[{\"cells\":{\"fill\":{\"color\":\"#EBF0F8\"},\"line\":{\"color\":\"white\"}},\"header\":{\"fill\":{\"color\":\"#C8D4E3\"},\"line\":{\"color\":\"white\"}},\"type\":\"table\"}],\"barpolar\":[{\"marker\":{\"line\":{\"color\":\"#E5ECF6\",\"width\":0.5},\"pattern\":{\"fillmode\":\"overlay\",\"size\":10,\"solidity\":0.2}},\"type\":\"barpolar\"}],\"pie\":[{\"automargin\":true,\"type\":\"pie\"}]},\"layout\":{\"autotypenumbers\":\"strict\",\"colorway\":[\"#636efa\",\"#EF553B\",\"#00cc96\",\"#ab63fa\",\"#FFA15A\",\"#19d3f3\",\"#FF6692\",\"#B6E880\",\"#FF97FF\",\"#FECB52\"],\"font\":{\"color\":\"#2a3f5f\"},\"hovermode\":\"closest\",\"hoverlabel\":{\"align\":\"left\"},\"paper_bgcolor\":\"white\",\"plot_bgcolor\":\"#E5ECF6\",\"polar\":{\"bgcolor\":\"#E5ECF6\",\"angularaxis\":{\"gridcolor\":\"white\",\"linecolor\":\"white\",\"ticks\":\"\"},\"radialaxis\":{\"gridcolor\":\"white\",\"linecolor\":\"white\",\"ticks\":\"\"}},\"ternary\":{\"bgcolor\":\"#E5ECF6\",\"aaxis\":{\"gridcolor\":\"white\",\"linecolor\":\"white\",\"ticks\":\"\"},\"baxis\":{\"gridcolor\":\"white\",\"linecolor\":\"white\",\"ticks\":\"\"},\"caxis\":{\"gridcolor\":\"white\",\"linecolor\":\"white\",\"ticks\":\"\"}},\"coloraxis\":{\"colorbar\":{\"outlinewidth\":0,\"ticks\":\"\"}},\"colorscale\":{\"sequential\":[[0.0,\"#0d0887\"],[0.1111111111111111,\"#46039f\"],[0.2222222222222222,\"#7201a8\"],[0.3333333333333333,\"#9c179e\"],[0.4444444444444444,\"#bd3786\"],[0.5555555555555556,\"#d8576b\"],[0.6666666666666666,\"#ed7953\"],[0.7777777777777778,\"#fb9f3a\"],[0.8888888888888888,\"#fdca26\"],[1.0,\"#f0f921\"]],\"sequentialminus\":[[0.0,\"#0d0887\"],[0.1111111111111111,\"#46039f\"],[0.2222222222222222,\"#7201a8\"],[0.3333333333333333,\"#9c179e\"],[0.4444444444444444,\"#bd3786\"],[0.5555555555555556,\"#d8576b\"],[0.6666666666666666,\"#ed7953\"],[0.7777777777777778,\"#fb9f3a\"],[0.8888888888888888,\"#fdca26\"],[1.0,\"#f0f921\"]],\"diverging\":[[0,\"#8e0152\"],[0.1,\"#c51b7d\"],[0.2,\"#de77ae\"],[0.3,\"#f1b6da\"],[0.4,\"#fde0ef\"],[0.5,\"#f7f7f7\"],[0.6,\"#e6f5d0\"],[0.7,\"#b8e186\"],[0.8,\"#7fbc41\"],[0.9,\"#4d9221\"],[1,\"#276419\"]]},\"xaxis\":{\"gridcolor\":\"white\",\"linecolor\":\"white\",\"ticks\":\"\",\"title\":{\"standoff\":15},\"zerolinecolor\":\"white\",\"automargin\":true,\"zerolinewidth\":2},\"yaxis\":{\"gridcolor\":\"white\",\"linecolor\":\"white\",\"ticks\":\"\",\"title\":{\"standoff\":15},\"zerolinecolor\":\"white\",\"automargin\":true,\"zerolinewidth\":2},\"scene\":{\"xaxis\":{\"backgroundcolor\":\"#E5ECF6\",\"gridcolor\":\"white\",\"linecolor\":\"white\",\"showbackground\":true,\"ticks\":\"\",\"zerolinecolor\":\"white\",\"gridwidth\":2},\"yaxis\":{\"backgroundcolor\":\"#E5ECF6\",\"gridcolor\":\"white\",\"linecolor\":\"white\",\"showbackground\":true,\"ticks\":\"\",\"zerolinecolor\":\"white\",\"gridwidth\":2},\"zaxis\":{\"backgroundcolor\":\"#E5ECF6\",\"gridcolor\":\"white\",\"linecolor\":\"white\",\"showbackground\":true,\"ticks\":\"\",\"zerolinecolor\":\"white\",\"gridwidth\":2}},\"shapedefaults\":{\"line\":{\"color\":\"#2a3f5f\"}},\"annotationdefaults\":{\"arrowcolor\":\"#2a3f5f\",\"arrowhead\":0,\"arrowwidth\":1},\"geo\":{\"bgcolor\":\"white\",\"landcolor\":\"#E5ECF6\",\"subunitcolor\":\"white\",\"showland\":true,\"showlakes\":true,\"lakecolor\":\"white\"},\"title\":{\"x\":0.05},\"mapbox\":{\"style\":\"light\"}}},\"legend\":{\"tracegroupgap\":0},\"margin\":{\"t\":60},\"dragmode\":\"select\"},                        {\"responsive\": true}                    )                };            </script>        </div>"
      ],
      "text/plain": [
       "Figure({\n",
       "    'data': [{'dimensions': [{'axis': {'matches': True},\n",
       "                              'label': 'total_rides',\n",
       "                              'values': {'bdata': ('HrMNACdADQAhdwkAV/gGABVfBgBJkQ' ... 'Cz/wkAbNwJADhWCgCUcAgAZKwGAA=='),\n",
       "                                         'dtype': 'i4'}},\n",
       "                             {'axis': {'matches': True},\n",
       "                              'label': 'prev_day_rides',\n",
       "                              'values': {'bdata': ('AAAAAJ76NUEAAAAApGswQQAAAADTBz' ... 'AA8zM5QQAAAACMBylBAAAAAEvsOUE='),\n",
       "                                         'dtype': 'f8'}},\n",
       "                             {'axis': {'matches': True},\n",
       "                              'label': 'prev_week_rides',\n",
       "                              'values': {'bdata': ('AAAAAHhFIEEAAAAAmE8rQQAAAAA5cz' ... 'AAqvk4QQAAAACaxDRBAAAAAOSzHUE='),\n",
       "                                         'dtype': 'f8'}},\n",
       "                             {'axis': {'matches': True},\n",
       "                              'label': 'one_year_ago_rides',\n",
       "                              'values': {'bdata': ('AAAAAKSbIUEAAAAAyHwvQQAAAAAO5D' ... 'AAmEknQQAAAACU/yBBAAAAAAO4O0E='),\n",
       "                                         'dtype': 'f8'}},\n",
       "                             {'axis': {'matches': True},\n",
       "                              'label': 'Mon',\n",
       "                              'values': {'bdata': ('AAAAAAAAAAAAAAAAAAAAAAAAAAAAAA' ... 'AAAAAAAAAAAAAAAAAAAAAAAAAAAAA='),\n",
       "                                         'dtype': 'f8'}},\n",
       "                             {'axis': {'matches': True},\n",
       "                              'label': 'Tue',\n",
       "                              'values': {'bdata': ('AAAAAAAAAAAAAAAAAAAAAAAAAAAAAA' ... 'AAAAAAAAAAAAAAAAAAAAAAAAAAAAA='),\n",
       "                                         'dtype': 'f8'}},\n",
       "                             {'axis': {'matches': True},\n",
       "                              'label': 'Wed',\n",
       "                              'values': {'bdata': ('AAAAAAAAAAAAAAAAAAAAAAAAAAAAAA' ... 'AAAAAAAAAAAAAAAAAAAAAAAAAAAAA='),\n",
       "                                         'dtype': 'f8'}},\n",
       "                             {'axis': {'matches': True},\n",
       "                              'label': 'Thu',\n",
       "                              'values': {'bdata': ('AAAAAAAA8D8AAAAAAAAAAAAAAAAAAA' ... 'AAAAAAAAAAAAAAAAAAAAAAAAAAAAA='),\n",
       "                                         'dtype': 'f8'}},\n",
       "                             {'axis': {'matches': True},\n",
       "                              'label': 'Fri',\n",
       "                              'values': {'bdata': ('AAAAAAAAAAAAAAAAAADwPwAAAAAAAA' ... 'AAAADwPwAAAAAAAAAAAAAAAAAAAAA='),\n",
       "                                         'dtype': 'f8'}},\n",
       "                             {'axis': {'matches': True},\n",
       "                              'label': 'Sat',\n",
       "                              'values': {'bdata': ('AAAAAAAAAAAAAAAAAAAAAAAAAAAAAP' ... 'AAAAAAAAAAAAAAAPA/AAAAAAAAAAA='),\n",
       "                                         'dtype': 'f8'}},\n",
       "                             {'axis': {'matches': True},\n",
       "                              'label': 'Sun',\n",
       "                              'values': {'bdata': ('AAAAAAAAAAAAAAAAAAAAAAAAAAAAAA' ... 'AAAAAAAAAAAAAAAAAAAAAAAAAA8D8='),\n",
       "                                         'dtype': 'f8'}},\n",
       "                             {'axis': {'matches': True},\n",
       "                              'label': 'holiday',\n",
       "                              'values': {'bdata': ('AAAAAAAAAAAAAAAAAAAAAAAAAAAAAA' ... 'AAAAAAAAAAAAAAAAAAAAAAAAAAAAA='),\n",
       "                                         'dtype': 'f8'}},\n",
       "                             {'axis': {'matches': True},\n",
       "                              'label': 'PRCP_mm_y',\n",
       "                              'values': {'bdata': ('AAAAAAAAAAAAAAAAAAAAAAAAAAAAAA' ... '4CCYoFQAAAAAAAAAAAp1fKMsSx4j8='),\n",
       "                                         'dtype': 'f8'}},\n",
       "                             {'axis': {'matches': True},\n",
       "                              'label': 'dry day_y',\n",
       "                              'values': {'bdata': ('AQEBAAABAQEBAQAAAAEBAQEAAAAAAQ' ... 'EBAQEBAAEBAQEAAAEBAAABAAABAA=='),\n",
       "                                         'dtype': 'i1'}},\n",
       "                             {'axis': {'matches': True},\n",
       "                              'label': 'Temp (C)_y',\n",
       "                              'values': {'bdata': ('chzHcRwHOkAcx3EcxzE6QOQ4juM4jj' ... 'qqqqoIQIjjOI7jON4/4DiO4ziO9z8='),\n",
       "                                         'dtype': 'f8'}},\n",
       "                             {'axis': {'matches': True},\n",
       "                              'label': 'annual',\n",
       "                              'values': {'bdata': ('34rikfCtNUDqOtwepK41QPXq1atXrz' ... 'MZZwE3QCIQ7aYaAjdALcDmM84CN0A='),\n",
       "                                         'dtype': 'f8'}}],\n",
       "              'hovertemplate': '%{xaxis.title.text}=%{x}<br>%{yaxis.title.text}=%{y}<extra></extra>',\n",
       "              'legendgroup': '',\n",
       "              'marker': {'color': '#636efa', 'symbol': 'circle'},\n",
       "              'name': '',\n",
       "              'showlegend': False,\n",
       "              'type': 'splom'}],\n",
       "    'layout': {'dragmode': 'select', 'legend': {'tracegroupgap': 0}, 'margin': {'t': 60}, 'template': '...'}\n",
       "})"
      ]
     },
     "execution_count": 33,
     "metadata": {},
     "output_type": "execute_result"
    }
   ],
   "source": [
    "#@title Code - View pairplot\n",
    "px.scatter_matrix(training_df, dimensions=allCol)"
   ]
  },
  {
   "cell_type": "code",
   "execution_count": 34,
   "id": "e60f513f",
   "metadata": {},
   "outputs": [
    {
     "name": "stdout",
     "output_type": "stream",
     "text": [
      "SUCCESS: defining linear regression functions complete.\n"
     ]
    }
   ],
   "source": [
    "#@title Code - Define ML functions\n",
    "\n",
    "def create_model(\n",
    "    settings: ml_edu.experiment.ExperimentSettings,\n",
    "    metrics: list[keras.metrics.Metric],\n",
    ") -> keras.Model:\n",
    "  \"\"\"Create and compile a simple linear regression model.\"\"\"\n",
    "  # Describe the topography of the model.\n",
    "  # The topography of a simple linear regression model\n",
    "  # is a single node in a single layer.\n",
    "  inputs = {name: keras.Input(shape=(1,), name=name) for name in settings.input_features}\n",
    "  concatenated_inputs = keras.layers.Concatenate()(list(inputs.values()))\n",
    "  outputs = keras.layers.Dense(units=1)(concatenated_inputs)\n",
    "  model = keras.Model(inputs=inputs, outputs=outputs)\n",
    "\n",
    "  # Compile the model topography into code that Keras can efficiently\n",
    "  # execute. Configure training to minimize the model's mean squared error.\n",
    "  model.compile(optimizer=keras.optimizers.RMSprop(learning_rate=settings.learning_rate),\n",
    "                loss=\"mean_squared_error\",\n",
    "                metrics=metrics)\n",
    "\n",
    "  return model\n",
    "\n",
    "\n",
    "def train_model(\n",
    "    experiment_name: str,\n",
    "    model: keras.Model,\n",
    "    dataset: pd.DataFrame,\n",
    "    label_name: str,\n",
    "    settings: ml_edu.experiment.ExperimentSettings,\n",
    ") -> ml_edu.experiment.Experiment:\n",
    "  \"\"\"Train the model by feeding it data.\"\"\"\n",
    "\n",
    "  # Feed the model the feature and the label.\n",
    "  # The model will train for the specified number of epochs.\n",
    "  features = {name: dataset[name].values for name in settings.input_features}\n",
    "  label = dataset[label_name].values\n",
    "  history = model.fit(x=features,\n",
    "                      y=label,\n",
    "                      batch_size=settings.batch_size,\n",
    "                      epochs=settings.number_epochs)\n",
    "\n",
    "  return ml_edu.experiment.Experiment(\n",
    "      name=experiment_name,\n",
    "      settings=settings,\n",
    "      model=model,\n",
    "      epochs=history.epoch,\n",
    "      metrics_history=pd.DataFrame(history.history),\n",
    "  )\n",
    "\n",
    "print(\"SUCCESS: defining linear regression functions complete.\")"
   ]
  },
  {
   "cell_type": "code",
   "execution_count": 39,
   "id": "0c066384",
   "metadata": {},
   "outputs": [
    {
     "name": "stdout",
     "output_type": "stream",
     "text": [
      "^C\n",
      "Note: you may need to restart the kernel to use updated packages.\n",
      "Epoch 1/20\n",
      "\u001b[1m10/10\u001b[0m \u001b[32m━━━━━━━━━━━━━━━━━━━━\u001b[0m\u001b[37m\u001b[0m \u001b[1m0s\u001b[0m 1ms/step - loss: 1142807724032.0000 - rmse: 1067464.0000  \n",
      "Epoch 2/20\n",
      "\u001b[1m10/10\u001b[0m \u001b[32m━━━━━━━━━━━━━━━━━━━━\u001b[0m\u001b[37m\u001b[0m \u001b[1m0s\u001b[0m 1ms/step - loss: 992607862784.0000 - rmse: 996217.9375\n",
      "Epoch 3/20\n",
      "\u001b[1m10/10\u001b[0m \u001b[32m━━━━━━━━━━━━━━━━━━━━\u001b[0m\u001b[37m\u001b[0m \u001b[1m0s\u001b[0m 1ms/step - loss: 1014727507968.0000 - rmse: 1007178.2500\n",
      "Epoch 4/20\n",
      "\u001b[1m10/10\u001b[0m \u001b[32m━━━━━━━━━━━━━━━━━━━━\u001b[0m\u001b[37m\u001b[0m \u001b[1m0s\u001b[0m 1ms/step - loss: 931464413184.0000 - rmse: 965024.0000\n",
      "Epoch 5/20\n",
      "\u001b[1m10/10\u001b[0m \u001b[32m━━━━━━━━━━━━━━━━━━━━\u001b[0m\u001b[37m\u001b[0m \u001b[1m0s\u001b[0m 1ms/step - loss: 936993030144.0000 - rmse: 967881.1250  \n",
      "Epoch 6/20\n",
      "\u001b[1m10/10\u001b[0m \u001b[32m━━━━━━━━━━━━━━━━━━━━\u001b[0m\u001b[37m\u001b[0m \u001b[1m0s\u001b[0m 1ms/step - loss: 934702415872.0000 - rmse: 966068.0000  \n",
      "Epoch 7/20\n",
      "\u001b[1m10/10\u001b[0m \u001b[32m━━━━━━━━━━━━━━━━━━━━\u001b[0m\u001b[37m\u001b[0m \u001b[1m0s\u001b[0m 1ms/step - loss: 879892430848.0000 - rmse: 937976.8125\n",
      "Epoch 8/20\n",
      "\u001b[1m10/10\u001b[0m \u001b[32m━━━━━━━━━━━━━━━━━━━━\u001b[0m\u001b[37m\u001b[0m \u001b[1m0s\u001b[0m 1ms/step - loss: 879442132992.0000 - rmse: 937595.5625\n",
      "Epoch 9/20\n",
      "\u001b[1m10/10\u001b[0m \u001b[32m━━━━━━━━━━━━━━━━━━━━\u001b[0m\u001b[37m\u001b[0m \u001b[1m0s\u001b[0m 1ms/step - loss: 833457422336.0000 - rmse: 912606.1250\n",
      "Epoch 10/20\n",
      "\u001b[1m10/10\u001b[0m \u001b[32m━━━━━━━━━━━━━━━━━━━━\u001b[0m\u001b[37m\u001b[0m \u001b[1m0s\u001b[0m 1ms/step - loss: 851776765952.0000 - rmse: 922689.4375\n",
      "Epoch 11/20\n",
      "\u001b[1m10/10\u001b[0m \u001b[32m━━━━━━━━━━━━━━━━━━━━\u001b[0m\u001b[37m\u001b[0m \u001b[1m0s\u001b[0m 1ms/step - loss: 822012149760.0000 - rmse: 906466.5625\n",
      "Epoch 12/20\n",
      "\u001b[1m10/10\u001b[0m \u001b[32m━━━━━━━━━━━━━━━━━━━━\u001b[0m\u001b[37m\u001b[0m \u001b[1m0s\u001b[0m 1ms/step - loss: 787645595648.0000 - rmse: 887446.0000\n",
      "Epoch 13/20\n",
      "\u001b[1m10/10\u001b[0m \u001b[32m━━━━━━━━━━━━━━━━━━━━\u001b[0m\u001b[37m\u001b[0m \u001b[1m0s\u001b[0m 1ms/step - loss: 738697674752.0000 - rmse: 859310.1875\n",
      "Epoch 14/20\n",
      "\u001b[1m10/10\u001b[0m \u001b[32m━━━━━━━━━━━━━━━━━━━━\u001b[0m\u001b[37m\u001b[0m \u001b[1m0s\u001b[0m 968us/step - loss: 732086337536.0000 - rmse: 855377.7500\n",
      "Epoch 15/20\n",
      "\u001b[1m10/10\u001b[0m \u001b[32m━━━━━━━━━━━━━━━━━━━━\u001b[0m\u001b[37m\u001b[0m \u001b[1m0s\u001b[0m 1ms/step - loss: 696822726656.0000 - rmse: 834283.3750\n",
      "Epoch 16/20\n",
      "\u001b[1m10/10\u001b[0m \u001b[32m━━━━━━━━━━━━━━━━━━━━\u001b[0m\u001b[37m\u001b[0m \u001b[1m0s\u001b[0m 956us/step - loss: 682858774528.0000 - rmse: 826223.8750\n",
      "Epoch 17/20\n",
      "\u001b[1m10/10\u001b[0m \u001b[32m━━━━━━━━━━━━━━━━━━━━\u001b[0m\u001b[37m\u001b[0m \u001b[1m0s\u001b[0m 900us/step - loss: 678748291072.0000 - rmse: 823588.3750\n",
      "Epoch 18/20\n",
      "\u001b[1m10/10\u001b[0m \u001b[32m━━━━━━━━━━━━━━━━━━━━\u001b[0m\u001b[37m\u001b[0m \u001b[1m0s\u001b[0m 932us/step - loss: 626530582528.0000 - rmse: 791245.4375\n",
      "Epoch 19/20\n",
      "\u001b[1m10/10\u001b[0m \u001b[32m━━━━━━━━━━━━━━━━━━━━\u001b[0m\u001b[37m\u001b[0m \u001b[1m0s\u001b[0m 926us/step - loss: 644852940800.0000 - rmse: 802755.3125\n",
      "Epoch 20/20\n",
      "\u001b[1m10/10\u001b[0m \u001b[32m━━━━━━━━━━━━━━━━━━━━\u001b[0m\u001b[37m\u001b[0m \u001b[1m0s\u001b[0m 1ms/step - loss: 605429104640.0000 - rmse: 778048.2500\n",
      "\u001b[1m7/7\u001b[0m \u001b[32m━━━━━━━━━━━━━━━━━━━━\u001b[0m\u001b[37m\u001b[0m \u001b[1m0s\u001b[0m 2ms/step \n"
     ]
    },
    {
     "ename": "ValueError",
     "evalue": "Mime type rendering requires nbformat>=4.2.0 but it is not installed",
     "output_type": "error",
     "traceback": [
      "\u001b[31m---------------------------------------------------------------------------\u001b[39m",
      "\u001b[31mValueError\u001b[39m                                Traceback (most recent call last)",
      "\u001b[36mCell\u001b[39m\u001b[36m \u001b[39m\u001b[32mIn[39]\u001b[39m\u001b[32m, line 22\u001b[39m\n\u001b[32m     19\u001b[39m experiment_1 = train_model(\u001b[33m'\u001b[39m\u001b[33m1 feature\u001b[39m\u001b[33m'\u001b[39m, model_1, training_df, \u001b[33m'\u001b[39m\u001b[33mtotal_rides\u001b[39m\u001b[33m'\u001b[39m, settings_1)\n\u001b[32m     21\u001b[39m ml_edu.results.plot_experiment_metrics(experiment_1, [\u001b[33m'\u001b[39m\u001b[33mrmse\u001b[39m\u001b[33m'\u001b[39m])\n\u001b[32m---> \u001b[39m\u001b[32m22\u001b[39m \u001b[43mml_edu\u001b[49m\u001b[43m.\u001b[49m\u001b[43mresults\u001b[49m\u001b[43m.\u001b[49m\u001b[43mplot_model_predictions\u001b[49m\u001b[43m(\u001b[49m\u001b[43mexperiment_1\u001b[49m\u001b[43m,\u001b[49m\u001b[43m \u001b[49m\u001b[43mtraining_df\u001b[49m\u001b[43m,\u001b[49m\u001b[43m \u001b[49m\u001b[33;43m'\u001b[39;49m\u001b[33;43mtotal_rides\u001b[39;49m\u001b[33;43m'\u001b[39;49m\u001b[43m)\u001b[49m\n",
      "\u001b[36mFile \u001b[39m\u001b[32m~/github/.venv/lib/python3.12/site-packages/ml_edu/results.py:192\u001b[39m, in \u001b[36mplot_model_predictions\u001b[39m\u001b[34m(experiment, dataset, label_name, sample_size)\u001b[39m\n\u001b[32m    183\u001b[39m   z_mesh = experiment.model.predict({\n\u001b[32m    184\u001b[39m       experiment.settings.input_features[\u001b[32m0\u001b[39m]: x_mesh.flatten(),\n\u001b[32m    185\u001b[39m       experiment.settings.input_features[\u001b[32m1\u001b[39m]: y_mesh.flatten(),\n\u001b[32m    186\u001b[39m   }).reshape(x_mesh.shape)\n\u001b[32m    187\u001b[39m   fig.add_trace(\n\u001b[32m    188\u001b[39m       go.Surface(\n\u001b[32m    189\u001b[39m           x=x_range, y=y_range, z=z_mesh, name=\u001b[33m'\u001b[39m\u001b[33mprediction\u001b[39m\u001b[33m'\u001b[39m, opacity=\u001b[32m0.5\u001b[39m\n\u001b[32m    190\u001b[39m       )\n\u001b[32m    191\u001b[39m   )\n\u001b[32m--> \u001b[39m\u001b[32m192\u001b[39m \u001b[43mfig\u001b[49m\u001b[43m.\u001b[49m\u001b[43mshow\u001b[49m\u001b[43m(\u001b[49m\u001b[43m)\u001b[49m\n",
      "\u001b[36mFile \u001b[39m\u001b[32m~/github/.venv/lib/python3.12/site-packages/plotly/basedatatypes.py:3420\u001b[39m, in \u001b[36mBaseFigure.show\u001b[39m\u001b[34m(self, *args, **kwargs)\u001b[39m\n\u001b[32m   3387\u001b[39m \u001b[38;5;250m\u001b[39m\u001b[33;03m\"\"\"\u001b[39;00m\n\u001b[32m   3388\u001b[39m \u001b[33;03mShow a figure using either the default renderer(s) or the renderer(s)\u001b[39;00m\n\u001b[32m   3389\u001b[39m \u001b[33;03mspecified by the renderer argument\u001b[39;00m\n\u001b[32m   (...)\u001b[39m\u001b[32m   3416\u001b[39m \u001b[33;03mNone\u001b[39;00m\n\u001b[32m   3417\u001b[39m \u001b[33;03m\"\"\"\u001b[39;00m\n\u001b[32m   3418\u001b[39m \u001b[38;5;28;01mimport\u001b[39;00m\u001b[38;5;250m \u001b[39m\u001b[34;01mplotly\u001b[39;00m\u001b[34;01m.\u001b[39;00m\u001b[34;01mio\u001b[39;00m\u001b[38;5;250m \u001b[39m\u001b[38;5;28;01mas\u001b[39;00m\u001b[38;5;250m \u001b[39m\u001b[34;01mpio\u001b[39;00m\n\u001b[32m-> \u001b[39m\u001b[32m3420\u001b[39m \u001b[38;5;28;01mreturn\u001b[39;00m \u001b[43mpio\u001b[49m\u001b[43m.\u001b[49m\u001b[43mshow\u001b[49m\u001b[43m(\u001b[49m\u001b[38;5;28;43mself\u001b[39;49m\u001b[43m,\u001b[49m\u001b[43m \u001b[49m\u001b[43m*\u001b[49m\u001b[43margs\u001b[49m\u001b[43m,\u001b[49m\u001b[43m \u001b[49m\u001b[43m*\u001b[49m\u001b[43m*\u001b[49m\u001b[43mkwargs\u001b[49m\u001b[43m)\u001b[49m\n",
      "\u001b[36mFile \u001b[39m\u001b[32m~/github/.venv/lib/python3.12/site-packages/plotly/io/_renderers.py:415\u001b[39m, in \u001b[36mshow\u001b[39m\u001b[34m(fig, renderer, validate, **kwargs)\u001b[39m\n\u001b[32m    410\u001b[39m     \u001b[38;5;28;01mraise\u001b[39;00m \u001b[38;5;167;01mValueError\u001b[39;00m(\n\u001b[32m    411\u001b[39m         \u001b[33m\"\u001b[39m\u001b[33mMime type rendering requires ipython but it is not installed\u001b[39m\u001b[33m\"\u001b[39m\n\u001b[32m    412\u001b[39m     )\n\u001b[32m    414\u001b[39m \u001b[38;5;28;01mif\u001b[39;00m \u001b[38;5;129;01mnot\u001b[39;00m nbformat \u001b[38;5;129;01mor\u001b[39;00m Version(nbformat.__version__) < Version(\u001b[33m\"\u001b[39m\u001b[33m4.2.0\u001b[39m\u001b[33m\"\u001b[39m):\n\u001b[32m--> \u001b[39m\u001b[32m415\u001b[39m     \u001b[38;5;28;01mraise\u001b[39;00m \u001b[38;5;167;01mValueError\u001b[39;00m(\n\u001b[32m    416\u001b[39m         \u001b[33m\"\u001b[39m\u001b[33mMime type rendering requires nbformat>=4.2.0 but it is not installed\u001b[39m\u001b[33m\"\u001b[39m\n\u001b[32m    417\u001b[39m     )\n\u001b[32m    419\u001b[39m display_jupyter_version_warnings()\n\u001b[32m    421\u001b[39m ipython_display.display(bundle, raw=\u001b[38;5;28;01mTrue\u001b[39;00m)\n",
      "\u001b[31mValueError\u001b[39m: Mime type rendering requires nbformat>=4.2.0 but it is not installed"
     ]
    },
    {
     "data": {
      "image/png": "[encoded data removed]",
      "text/plain": [
       "<Figure size 640x480 with 1 Axes>"
      ]
     },
     "metadata": {},
     "output_type": "display_data"
    }
   ],
   "source": [
    "#@title Code - Experiment 1\n",
    "\n",
    "%pip install nbformat\n",
    "\n",
    "import ml_edu.results\n",
    "\n",
    "# The following variables are the hyperparameters.\n",
    "settings_1 = ml_edu.experiment.ExperimentSettings(\n",
    "    learning_rate = 0.001,\n",
    "    number_epochs = 20,\n",
    "    batch_size = 50,\n",
    "    input_features = ['prev_day_rides']\n",
    ")\n",
    "\n",
    "metrics = [keras.metrics.RootMeanSquaredError(name='rmse')]\n",
    "\n",
    "model_1 = create_model(settings_1, metrics)\n",
    "\n",
    "experiment_1 = train_model('1 feature', model_1, training_df, 'total_rides', settings_1)\n",
    "\n",
    "ml_edu.results.plot_experiment_metrics(experiment_1, ['rmse'])\n",
    "ml_edu.results.plot_model_predictions(experiment_1, training_df, 'total_rides')"
   ]
  }
 ],
 "metadata": {
  "kernelspec": {
   "display_name": ".venv",
   "language": "python",
   "name": "python3"
  },
  "language_info": {
   "codemirror_mode": {
    "name": "ipython",
    "version": 3
   },
   "file_extension": ".py",
   "mimetype": "text/x-python",
   "name": "python",
   "nbconvert_exporter": "python",
   "pygments_lexer": "ipython3",
   "version": "3.12.11"
  }
 },
 "nbformat": 4,
 "nbformat_minor": 5
}
